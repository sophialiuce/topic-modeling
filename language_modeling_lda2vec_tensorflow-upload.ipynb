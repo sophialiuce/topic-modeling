{
 "cells": [
  {
   "cell_type": "code",
   "execution_count": 57,
   "metadata": {},
   "outputs": [],
   "source": [
    "import pandas as pd\n",
    "from sklearn.model_selection import train_test_split\n",
    "from numpy import linalg as LA\n",
    "from collections import Counter\n",
    "import seaborn as sns\n",
    "import numpy as np\n",
    "import pickle"
   ]
  },
  {
   "cell_type": "code",
   "execution_count": null,
   "metadata": {},
   "outputs": [],
   "source": [
    "import pyLDAvis\n",
    "\n",
    "%matplotlib inline"
   ]
  },
  {
   "cell_type": "code",
   "execution_count": 3,
   "metadata": {},
   "outputs": [],
   "source": [
    "import sys\n",
    "\n",
    "#path_to_lda2vec = \"/Users/sophialiu/anaconda3/envs/lda2vec_tensor/\"\n",
    "#path_to_lda2vec = \"./lda2vec/\"\n",
    "\n",
    "sys.path.append(path_to_lda2vec)"
   ]
  },
  {
   "cell_type": "code",
   "execution_count": 4,
   "metadata": {},
   "outputs": [],
   "source": [
    "import warnings\n",
    "\n",
    "warnings.filterwarnings('ignore')  # ignore warnings."
   ]
  },
  {
   "cell_type": "markdown",
   "metadata": {},
   "source": [
    "# Pre-processing and Data Explore"
   ]
  },
  {
   "cell_type": "code",
   "execution_count": 5,
   "metadata": {},
   "outputs": [
    {
     "data": {
      "text/html": [
       "<div>\n",
       "<style scoped>\n",
       "    .dataframe tbody tr th:only-of-type {\n",
       "        vertical-align: middle;\n",
       "    }\n",
       "\n",
       "    .dataframe tbody tr th {\n",
       "        vertical-align: top;\n",
       "    }\n",
       "\n",
       "    .dataframe thead th {\n",
       "        text-align: right;\n",
       "    }\n",
       "</style>\n",
       "<table border=\"1\" class=\"dataframe\">\n",
       "  <thead>\n",
       "    <tr style=\"text-align: right;\">\n",
       "      <th></th>\n",
       "      <th>snippet</th>\n",
       "      <th>product</th>\n",
       "      <th>rating</th>\n",
       "      <th>verbatum</th>\n",
       "      <th>sentiment_binary</th>\n",
       "      <th>sentiment</th>\n",
       "      <th>date</th>\n",
       "      <th>retailer</th>\n",
       "      <th>website</th>\n",
       "      <th>topic</th>\n",
       "    </tr>\n",
       "  </thead>\n",
       "  <tbody>\n",
       "    <tr>\n",
       "      <th>0</th>\n",
       "      <td>This shampoo sprays crazy good and it has save...</td>\n",
       "      <td>Head And Shoulders Smooth &amp; Silky Dandruff Sha...</td>\n",
       "      <td>5.0</td>\n",
       "      <td>This shampoo sprays crazy good and it has save...</td>\n",
       "      <td>1</td>\n",
       "      <td>Positive</td>\n",
       "      <td>5/2/2018</td>\n",
       "      <td>-</td>\n",
       "      <td>https://www.walmart.com/ip/Head-and-Shoulders-...</td>\n",
       "      <td>Spray Application</td>\n",
       "    </tr>\n",
       "    <tr>\n",
       "      <th>1</th>\n",
       "      <td>The thing I always remember about Head &amp; Shoul...</td>\n",
       "      <td>Head And Shoulders Green Apple Anti-Dandruff S...</td>\n",
       "      <td>5.0</td>\n",
       "      <td>My teenaged daughter has been using Head &amp; Sho...</td>\n",
       "      <td>1</td>\n",
       "      <td>Positive</td>\n",
       "      <td>9/29/2017</td>\n",
       "      <td>AMZ</td>\n",
       "      <td>https://www.amazon.com/Head-Shoulders-Anti-Dan...</td>\n",
       "      <td>Spray Application</td>\n",
       "    </tr>\n",
       "    <tr>\n",
       "      <th>2</th>\n",
       "      <td>My long, thick, wavy, hair is frequently abuse...</td>\n",
       "      <td>Dove Dermacare Scalp Anti-Dandruff Shampoo Inv...</td>\n",
       "      <td>4.0</td>\n",
       "      <td>To my surprise, Dove DermaCare Scalp Invigorat...</td>\n",
       "      <td>1</td>\n",
       "      <td>Positive</td>\n",
       "      <td>1/27/2017</td>\n",
       "      <td>WALMART</td>\n",
       "      <td>https://www.walmart.com/ip/Dove-Dermacare-Scal...</td>\n",
       "      <td>Spray Application</td>\n",
       "    </tr>\n",
       "    <tr>\n",
       "      <th>3</th>\n",
       "      <td>From their body sprays, to their deodorant, so...</td>\n",
       "      <td>Dove Dermacare Scalp Anti-Dandruff Shampoo Dry...</td>\n",
       "      <td>5.0</td>\n",
       "      <td>I let my boyfriend try this product. He loves ...</td>\n",
       "      <td>1</td>\n",
       "      <td>Positive</td>\n",
       "      <td>1/27/2017</td>\n",
       "      <td>-</td>\n",
       "      <td>https://www.walmart.com/ip/Dove-Dermacare-Scal...</td>\n",
       "      <td>Spray Application</td>\n",
       "    </tr>\n",
       "    <tr>\n",
       "      <th>4</th>\n",
       "      <td>Its conveniently packaged, but if this bottle ...</td>\n",
       "      <td>Head And Shoulders Dry Scalp Care, Almond Oil,...</td>\n",
       "      <td>4.0</td>\n",
       "      <td>Its conveniently packaged, but if this bottle ...</td>\n",
       "      <td>1</td>\n",
       "      <td>Positive</td>\n",
       "      <td>1/14/2016</td>\n",
       "      <td>AMZ</td>\n",
       "      <td>https://www.amazon.com/Head-Shoulders-Almond-D...</td>\n",
       "      <td>Spray Application</td>\n",
       "    </tr>\n",
       "  </tbody>\n",
       "</table>\n",
       "</div>"
      ],
      "text/plain": [
       "                                             snippet  \\\n",
       "0  This shampoo sprays crazy good and it has save...   \n",
       "1  The thing I always remember about Head & Shoul...   \n",
       "2  My long, thick, wavy, hair is frequently abuse...   \n",
       "3  From their body sprays, to their deodorant, so...   \n",
       "4  Its conveniently packaged, but if this bottle ...   \n",
       "\n",
       "                                             product rating  \\\n",
       "0  Head And Shoulders Smooth & Silky Dandruff Sha...    5.0   \n",
       "1  Head And Shoulders Green Apple Anti-Dandruff S...    5.0   \n",
       "2  Dove Dermacare Scalp Anti-Dandruff Shampoo Inv...    4.0   \n",
       "3  Dove Dermacare Scalp Anti-Dandruff Shampoo Dry...    5.0   \n",
       "4  Head And Shoulders Dry Scalp Care, Almond Oil,...    4.0   \n",
       "\n",
       "                                            verbatum sentiment_binary  \\\n",
       "0  This shampoo sprays crazy good and it has save...                1   \n",
       "1  My teenaged daughter has been using Head & Sho...                1   \n",
       "2  To my surprise, Dove DermaCare Scalp Invigorat...                1   \n",
       "3  I let my boyfriend try this product. He loves ...                1   \n",
       "4  Its conveniently packaged, but if this bottle ...                1   \n",
       "\n",
       "  sentiment       date retailer  \\\n",
       "0  Positive   5/2/2018        -   \n",
       "1  Positive  9/29/2017      AMZ   \n",
       "2  Positive  1/27/2017  WALMART   \n",
       "3  Positive  1/27/2017        -   \n",
       "4  Positive  1/14/2016      AMZ   \n",
       "\n",
       "                                             website              topic  \n",
       "0  https://www.walmart.com/ip/Head-and-Shoulders-...  Spray Application  \n",
       "1  https://www.amazon.com/Head-Shoulders-Anti-Dan...  Spray Application  \n",
       "2  https://www.walmart.com/ip/Dove-Dermacare-Scal...  Spray Application  \n",
       "3  https://www.walmart.com/ip/Dove-Dermacare-Scal...  Spray Application  \n",
       "4  https://www.amazon.com/Head-Shoulders-Almond-D...  Spray Application  "
      ]
     },
     "execution_count": 5,
     "metadata": {},
     "output_type": "execute_result"
    }
   ],
   "source": [
    "df = pd.read_csv(u'./sample_data.csv', dtype={'verbatum':object})\n",
    "\n",
    "df.head()"
   ]
  },
  {
   "cell_type": "code",
   "execution_count": 6,
   "metadata": {},
   "outputs": [],
   "source": [
    "df.dropna(subset=['verbatum'], inplace=True)"
   ]
  },
  {
   "cell_type": "code",
   "execution_count": 41,
   "metadata": {},
   "outputs": [
    {
     "data": {
      "text/plain": [
       "(49660, 11)"
      ]
     },
     "execution_count": 41,
     "metadata": {},
     "output_type": "execute_result"
    }
   ],
   "source": [
    "df.shape"
   ]
  },
  {
   "cell_type": "code",
   "execution_count": 22,
   "metadata": {},
   "outputs": [
    {
     "name": "stderr",
     "output_type": "stream",
     "text": [
      "/Users/sophialiu/anaconda3/lib/python3.6/site-packages/matplotlib/axes/_axes.py:6521: MatplotlibDeprecationWarning: \n",
      "The 'normed' kwarg was deprecated in Matplotlib 2.1 and will be removed in 3.1. Use 'density' instead.\n",
      "  alternative=\"'density'\", removal=\"3.1\")\n"
     ]
    },
    {
     "data": {
      "text/plain": [
       "<matplotlib.axes._subplots.AxesSubplot at 0x1a7eb54710>"
      ]
     },
     "execution_count": 22,
     "metadata": {},
     "output_type": "execute_result"
    },
    {
     "data": {
      "image/png": "[encoded data removed]",
      "text/plain": [
       "<Figure size 432x288 with 1 Axes>"
      ]
     },
     "metadata": {},
     "output_type": "display_data"
    }
   ],
   "source": [
    "s = df['verbatum'].apply(lambda x: len(x.split()))\n",
    "df['word_count'] = s\n",
    "\n",
    "sns.set(color_codes=True)\n",
    "sns.distplot(df['word_count'])"
   ]
  },
  {
   "cell_type": "code",
   "execution_count": 25,
   "metadata": {},
   "outputs": [
    {
     "data": {
      "text/html": [
       "<div>\n",
       "<style scoped>\n",
       "    .dataframe tbody tr th:only-of-type {\n",
       "        vertical-align: middle;\n",
       "    }\n",
       "\n",
       "    .dataframe tbody tr th {\n",
       "        vertical-align: top;\n",
       "    }\n",
       "\n",
       "    .dataframe thead th {\n",
       "        text-align: right;\n",
       "    }\n",
       "</style>\n",
       "<table border=\"1\" class=\"dataframe\">\n",
       "  <thead>\n",
       "    <tr style=\"text-align: right;\">\n",
       "      <th></th>\n",
       "      <th>word</th>\n",
       "      <th>count</th>\n",
       "    </tr>\n",
       "  </thead>\n",
       "  <tbody>\n",
       "    <tr>\n",
       "      <th>0</th>\n",
       "      <td>I</td>\n",
       "      <td>180548</td>\n",
       "    </tr>\n",
       "    <tr>\n",
       "      <th>1</th>\n",
       "      <td>and</td>\n",
       "      <td>141078</td>\n",
       "    </tr>\n",
       "    <tr>\n",
       "      <th>2</th>\n",
       "      <td>the</td>\n",
       "      <td>112832</td>\n",
       "    </tr>\n",
       "    <tr>\n",
       "      <th>3</th>\n",
       "      <td>a</td>\n",
       "      <td>111610</td>\n",
       "    </tr>\n",
       "    <tr>\n",
       "      <th>4</th>\n",
       "      <td>my</td>\n",
       "      <td>101077</td>\n",
       "    </tr>\n",
       "    <tr>\n",
       "      <th>5</th>\n",
       "      <td>it</td>\n",
       "      <td>84022</td>\n",
       "    </tr>\n",
       "    <tr>\n",
       "      <th>6</th>\n",
       "      <td>to</td>\n",
       "      <td>79422</td>\n",
       "    </tr>\n",
       "    <tr>\n",
       "      <th>7</th>\n",
       "      <td>this</td>\n",
       "      <td>70580</td>\n",
       "    </tr>\n",
       "    <tr>\n",
       "      <th>8</th>\n",
       "      <td>of</td>\n",
       "      <td>67192</td>\n",
       "    </tr>\n",
       "    <tr>\n",
       "      <th>9</th>\n",
       "      <td>hair</td>\n",
       "      <td>57114</td>\n",
       "    </tr>\n",
       "  </tbody>\n",
       "</table>\n",
       "</div>"
      ],
      "text/plain": [
       "   word   count\n",
       "0     I  180548\n",
       "1   and  141078\n",
       "2   the  112832\n",
       "3     a  111610\n",
       "4    my  101077\n",
       "5    it   84022\n",
       "6    to   79422\n",
       "7  this   70580\n",
       "8    of   67192\n",
       "9  hair   57114"
      ]
     },
     "execution_count": 25,
     "metadata": {},
     "output_type": "execute_result"
    }
   ],
   "source": [
    "#word_count = df['verbatum'].str.split(expand=True).stack.value_counts()\n",
    "df_word_freq = (df['verbatum'].str.split(expand=True)\n",
    "                .stack()\n",
    "                .value_counts()\n",
    "                .rename_axis('word')\n",
    "                .reset_index(name='count'))\n",
    "df_word_freq[:10]"
   ]
  },
  {
   "cell_type": "code",
   "execution_count": 26,
   "metadata": {},
   "outputs": [
    {
     "name": "stderr",
     "output_type": "stream",
     "text": [
      "/Users/sophialiu/anaconda3/lib/python3.6/site-packages/matplotlib/axes/_axes.py:6521: MatplotlibDeprecationWarning: \n",
      "The 'normed' kwarg was deprecated in Matplotlib 2.1 and will be removed in 3.1. Use 'density' instead.\n",
      "  alternative=\"'density'\", removal=\"3.1\")\n"
     ]
    },
    {
     "data": {
      "text/plain": [
       "<matplotlib.axes._subplots.AxesSubplot at 0x1a3c82c198>"
      ]
     },
     "execution_count": 26,
     "metadata": {},
     "output_type": "execute_result"
    },
    {
     "data": {
      "image/png": "[encoded data removed]",
      "text/plain": [
       "<Figure size 432x288 with 1 Axes>"
      ]
     },
     "metadata": {},
     "output_type": "display_data"
    }
   ],
   "source": [
    "sns.set(color_codes=True)\n",
    "sns.distplot(df_word_freq['count'])"
   ]
  },
  {
   "cell_type": "code",
   "execution_count": 27,
   "metadata": {},
   "outputs": [
    {
     "data": {
      "text/html": [
       "<div>\n",
       "<style scoped>\n",
       "    .dataframe tbody tr th:only-of-type {\n",
       "        vertical-align: middle;\n",
       "    }\n",
       "\n",
       "    .dataframe tbody tr th {\n",
       "        vertical-align: top;\n",
       "    }\n",
       "\n",
       "    .dataframe thead th {\n",
       "        text-align: right;\n",
       "    }\n",
       "</style>\n",
       "<table border=\"1\" class=\"dataframe\">\n",
       "  <thead>\n",
       "    <tr style=\"text-align: right;\">\n",
       "      <th></th>\n",
       "      <th>count</th>\n",
       "    </tr>\n",
       "  </thead>\n",
       "  <tbody>\n",
       "    <tr>\n",
       "      <th>count</th>\n",
       "      <td>18376.000000</td>\n",
       "    </tr>\n",
       "    <tr>\n",
       "      <th>mean</th>\n",
       "      <td>224.753320</td>\n",
       "    </tr>\n",
       "    <tr>\n",
       "      <th>std</th>\n",
       "      <td>2850.171577</td>\n",
       "    </tr>\n",
       "    <tr>\n",
       "      <th>min</th>\n",
       "      <td>1.000000</td>\n",
       "    </tr>\n",
       "    <tr>\n",
       "      <th>25%</th>\n",
       "      <td>6.000000</td>\n",
       "    </tr>\n",
       "    <tr>\n",
       "      <th>50%</th>\n",
       "      <td>12.000000</td>\n",
       "    </tr>\n",
       "    <tr>\n",
       "      <th>75%</th>\n",
       "      <td>33.000000</td>\n",
       "    </tr>\n",
       "    <tr>\n",
       "      <th>max</th>\n",
       "      <td>180548.000000</td>\n",
       "    </tr>\n",
       "  </tbody>\n",
       "</table>\n",
       "</div>"
      ],
      "text/plain": [
       "               count\n",
       "count   18376.000000\n",
       "mean      224.753320\n",
       "std      2850.171577\n",
       "min         1.000000\n",
       "25%         6.000000\n",
       "50%        12.000000\n",
       "75%        33.000000\n",
       "max    180548.000000"
      ]
     },
     "execution_count": 27,
     "metadata": {},
     "output_type": "execute_result"
    }
   ],
   "source": [
    "df_word_freq.describe()"
   ]
  },
  {
   "cell_type": "code",
   "execution_count": 28,
   "metadata": {},
   "outputs": [
    {
     "name": "stderr",
     "output_type": "stream",
     "text": [
      "\r\n",
      "0it [00:00, ?it/s]"
     ]
    },
    {
     "name": "stdout",
     "output_type": "stream",
     "text": [
      "\n",
      "---------- Tokenizing Texts ----------\n"
     ]
    },
    {
     "name": "stderr",
     "output_type": "stream",
     "text": [
      "49660it [02:07, 388.06it/s]\n"
     ]
    },
    {
     "name": "stdout",
     "output_type": "stream",
     "text": [
      "Removing 1081 low frequency tokens out of 7767 total tokens\n"
     ]
    },
    {
     "name": "stderr",
     "output_type": "stream",
     "text": [
      "247it [00:00, 972.74it/s]"
     ]
    },
    {
     "name": "stdout",
     "output_type": "stream",
     "text": [
      "\n",
      "---------- Getting Skipgrams ----------\n"
     ]
    },
    {
     "name": "stderr",
     "output_type": "stream",
     "text": [
      "49660it [00:33, 1494.86it/s]\n"
     ]
    }
   ],
   "source": [
    "import pandas as pd\n",
    "from lda2vec.nlppipe import Preprocessor\n",
    "\n",
    "# Initialize a preprocessor\n",
    "P = Preprocessor(df, \"verbatum\", max_features=30000, maxlen=10000, min_count=5)\n",
    "\n",
    "# Run the preprocessing on your dataframe\n",
    "P.preprocess()"
   ]
  },
  {
   "cell_type": "code",
   "execution_count": 29,
   "metadata": {},
   "outputs": [],
   "source": [
    "load_embeds = True"
   ]
  },
  {
   "cell_type": "code",
   "execution_count": 30,
   "metadata": {},
   "outputs": [],
   "source": [
    "if load_embeds:\n",
    "    embedding_matrix = P.load_glove(\"/Users/sophialiu/Downloads/glove.twitter.27B/glove.twitter.27B.200d.txt\")\n",
    "else:\n",
    "    embedding_matrix = None"
   ]
  },
  {
   "cell_type": "code",
   "execution_count": 31,
   "metadata": {},
   "outputs": [],
   "source": [
    "# Save data to data_dir\n",
    "clean_data_dir = \"/Users/sophialiu/Desktop/lda2vec_clean_dir\"\n",
    "P.save_data(clean_data_dir, embedding_matrix=embedding_matrix)"
   ]
  },
  {
   "cell_type": "markdown",
   "metadata": {},
   "source": [
    "# Use the Model"
   ]
  },
  {
   "cell_type": "code",
   "execution_count": 1,
   "metadata": {},
   "outputs": [],
   "source": [
    "clean_data_dir = \"/Users/sophialiu/Desktop/lda2vec_clean_dir\""
   ]
  },
  {
   "cell_type": "code",
   "execution_count": null,
   "metadata": {},
   "outputs": [],
   "source": [
    "from lda2vec import utils # , model\n",
    "from lda2vec import Lda2vec\n",
    "\n",
    "# Path to preprocessed data\n",
    "data_path  = clean_data_dir\n",
    "# Whether or not to load saved embeddings file\n",
    "load_embeds = True\n",
    "\n",
    "# Load data from files\n",
    "(idx_to_word, word_to_idx, freqs, pivot_ids,\n",
    " target_ids, doc_ids, embed_matrix) = utils.load_preprocessed_data(data_path, load_embed_matrix=load_embeds)\n"
   ]
  },
  {
   "cell_type": "code",
   "execution_count": 3,
   "metadata": {},
   "outputs": [
    {
     "name": "stdout",
     "output_type": "stream",
     "text": [
      "6686\n",
      "['hair', 'shampoo', 'product', 'scalp', 'dandruff', 'review', 'head', 'use', 'dry', 'smell']\n"
     ]
    }
   ],
   "source": [
    "print(len(idx_to_word.keys())) # {1: hair}\n",
    "print(list(idx_to_word.values())[:10])"
   ]
  },
  {
   "cell_type": "code",
   "execution_count": 4,
   "metadata": {},
   "outputs": [
    {
     "data": {
      "text/plain": [
       "6686"
      ]
     },
     "execution_count": 4,
     "metadata": {},
     "output_type": "execute_result"
    }
   ],
   "source": [
    "len(word_to_idx.keys()) "
   ]
  },
  {
   "cell_type": "code",
   "execution_count": 5,
   "metadata": {},
   "outputs": [
    {
     "name": "stdout",
     "output_type": "stream",
     "text": [
      "6686\n",
      "[0, 71170, 60519, 42916, 42579, 40036, 26216, 24268, 22567, 22078]\n"
     ]
    }
   ],
   "source": [
    "print(len(freqs)) # The frequences\n",
    "print(freqs[:10])"
   ]
  },
  {
   "cell_type": "code",
   "execution_count": 6,
   "metadata": {},
   "outputs": [
    {
     "data": {
      "text/plain": [
       "15632982"
      ]
     },
     "execution_count": 6,
     "metadata": {},
     "output_type": "execute_result"
    }
   ],
   "source": [
    "len(pivot_ids)"
   ]
  },
  {
   "cell_type": "code",
   "execution_count": 7,
   "metadata": {},
   "outputs": [
    {
     "data": {
      "text/plain": [
       "15632982"
      ]
     },
     "execution_count": 7,
     "metadata": {},
     "output_type": "execute_result"
    }
   ],
   "source": [
    "len(target_ids)"
   ]
  },
  {
   "cell_type": "code",
   "execution_count": 8,
   "metadata": {},
   "outputs": [
    {
     "data": {
      "text/plain": [
       "15632982"
      ]
     },
     "execution_count": 8,
     "metadata": {},
     "output_type": "execute_result"
    }
   ],
   "source": [
    "len(doc_ids)"
   ]
  },
  {
   "cell_type": "code",
   "execution_count": 40,
   "metadata": {},
   "outputs": [
    {
     "data": {
      "text/plain": [
       "(6686, 200)"
      ]
     },
     "execution_count": 40,
     "metadata": {},
     "output_type": "execute_result"
    }
   ],
   "source": [
    "embed_matrix.shape"
   ]
  },
  {
   "cell_type": "markdown",
   "metadata": {},
   "source": [
    "Set the Hyper-parameters for model creation."
   ]
  },
  {
   "cell_type": "code",
   "execution_count": 9,
   "metadata": {},
   "outputs": [],
   "source": [
    "# Number of unique documents\n",
    "num_docs = doc_ids.max() + 1\n",
    "# Number of unique words in vocabulary (int)\n",
    "vocab_size = len(freqs)\n",
    "# Embed layer dimension size\n",
    "# If not loading embeds, change 128 to whatever size you want.\n",
    "embed_size = embed_matrix.shape[1] if load_embeds else 128\n",
    "# Number of topics to cluster into\n",
    "num_topics = 10\n",
    "# Amount of iterations over entire dataset\n",
    "num_epochs = 100\n",
    "# Batch size - Increase/decrease depending on memory usage\n",
    "batch_size = 4096\n",
    "# Epoch that we want to \"switch on\" LDA loss\n",
    "switch_loss_epoch = 0\n",
    "# Pretrained embeddings value\n",
    "pretrained_embeddings = embed_matrix if load_embeds else None\n",
    "# If True, save logdir, otherwise don't\n",
    "save_graph = False\n",
    "\n",
    "logdir = '/Users/sophialiu/Desktop/logdir'"
   ]
  },
  {
   "cell_type": "code",
   "execution_count": 10,
   "metadata": {},
   "outputs": [
    {
     "name": "stdout",
     "output_type": "stream",
     "text": [
      "WARNING:tensorflow:From /Users/sophialiu/anaconda3/lib/python3.6/site-packages/tensorflow/python/ops/nn_grad.py:249: calling reduce_sum (from tensorflow.python.ops.math_ops) with keep_dims is deprecated and will be removed in a future version.\n",
      "Instructions for updating:\n",
      "keep_dims is deprecated, use keepdims instead\n"
     ]
    }
   ],
   "source": [
    "from lda2vec import utils # , model\n",
    "from lda2vec import Lda2vec\n",
    "\n",
    "# Initialize the model\n",
    "m = Lda2vec.Lda2vec(num_docs,\n",
    "            vocab_size,\n",
    "            num_topics,\n",
    "            embedding_size=embed_size,\n",
    "            pretrained_embeddings=pretrained_embeddings,\n",
    "            freqs=freqs,\n",
    "            batch_size = batch_size,\n",
    "            save_graph_def=save_graph,\n",
    "            logdir = logdir)"
   ]
  },
  {
   "cell_type": "code",
   "execution_count": 11,
   "metadata": {},
   "outputs": [
    {
     "name": "stdout",
     "output_type": "stream",
     "text": [
      "\n",
      "EPOCH: 1\n",
      "LOSS 53576.547 w2v 10.756471 lda 53565.79\n",
      "\n",
      "EPOCH: 2\n",
      "LOSS 53570.508 w2v 4.7070045 lda 53565.8\n",
      "\n",
      "EPOCH: 3\n",
      "LOSS 53571.277 w2v 5.4559135 lda 53565.82\n",
      "\n",
      "EPOCH: 4\n",
      "LOSS 53574.305 w2v 8.476032 lda 53565.83\n",
      "\n",
      "EPOCH: 5\n",
      "LOSS 53571.562 w2v 5.7309446 lda 53565.832\n",
      "---------Closest 10 words to given indexes----------\n",
      "Topic 0 : shampoo, scalp, dandruff, product, works, anti, promotion, review, helped, great\n",
      "Topic 1 : shampoo, scalp, dandruff, product, works, anti, promotion, review, helped, great\n",
      "Topic 2 : shampoo, scalp, dandruff, product, works, anti, promotion, review, helped, great\n",
      "Topic 3 : shampoo, scalp, dandruff, product, works, anti, promotion, review, helped, great\n",
      "Topic 4 : shampoo, scalp, dandruff, product, works, anti, promotion, review, helped, great\n",
      "Topic 5 : shampoo, scalp, dandruff, product, works, anti, promotion, review, helped, great\n",
      "Topic 6 : shampoo, scalp, dandruff, product, works, anti, promotion, review, helped, great\n",
      "Topic 7 : shampoo, scalp, dandruff, product, works, anti, promotion, review, helped, great\n",
      "Topic 8 : shampoo, scalp, dandruff, product, works, anti, promotion, review, helped, great\n",
      "Topic 9 : shampoo, scalp, dandruff, product, works, anti, promotion, review, helped, great\n",
      "\n",
      "EPOCH: 6\n",
      "LOSS 53572.586 w2v 6.7532578 lda 53565.832\n",
      "\n",
      "EPOCH: 7\n",
      "LOSS 53570.586 w2v 4.7521048 lda 53565.832\n",
      "\n",
      "EPOCH: 8\n",
      "LOSS 53570.723 w2v 4.891515 lda 53565.832\n",
      "\n",
      "EPOCH: 9\n",
      "LOSS 53572.695 w2v 6.8619504 lda 53565.832\n",
      "\n",
      "EPOCH: 10\n",
      "LOSS 53570.59 w2v 4.7574725 lda 53565.832\n",
      "---------Closest 10 words to given indexes----------\n",
      "Topic 0 : shampoo, scalp, product, great, dandruff, review, anti, promotion, good, hair\n",
      "Topic 1 : shampoo, scalp, product, great, dandruff, review, anti, promotion, good, hair\n",
      "Topic 2 : shampoo, scalp, product, great, dandruff, review, anti, promotion, good, hair\n",
      "Topic 3 : shampoo, scalp, product, great, dandruff, review, anti, promotion, good, hair\n",
      "Topic 4 : shampoo, scalp, product, great, dandruff, review, anti, promotion, good, hair\n",
      "Topic 5 : shampoo, scalp, product, great, dandruff, review, anti, promotion, good, hair\n",
      "Topic 6 : shampoo, scalp, product, great, dandruff, review, anti, promotion, good, hair\n",
      "Topic 7 : shampoo, scalp, product, great, dandruff, review, anti, promotion, good, hair\n",
      "Topic 8 : shampoo, scalp, product, great, dandruff, review, anti, promotion, good, hair\n",
      "Topic 9 : shampoo, scalp, product, great, dandruff, review, anti, promotion, good, hair\n",
      "\n",
      "EPOCH: 11\n",
      "LOSS 53571.066 w2v 5.2331834 lda 53565.832\n",
      "\n",
      "EPOCH: 12\n",
      "LOSS 53570.77 w2v 4.937784 lda 53565.832\n",
      "\n",
      "EPOCH: 13\n",
      "LOSS 53570.637 w2v 4.803095 lda 53565.832\n",
      "\n",
      "EPOCH: 14\n",
      "LOSS 53571.316 w2v 5.4833946 lda 53565.832\n",
      "\n",
      "EPOCH: 15\n",
      "LOSS 53570.49 w2v 4.650524 lda 53565.836\n",
      "---------Closest 10 words to given indexes----------\n",
      "Topic 0 : shampoo, product, scalp, great, dandruff, hair, review, good, dry, promotion\n",
      "Topic 1 : shampoo, product, scalp, great, dandruff, hair, review, good, dry, promotion\n",
      "Topic 2 : shampoo, product, scalp, great, dandruff, hair, review, good, dry, promotion\n",
      "Topic 3 : shampoo, product, scalp, great, dandruff, hair, review, good, dry, promotion\n",
      "Topic 4 : shampoo, product, scalp, great, dandruff, hair, review, good, dry, promotion\n",
      "Topic 5 : shampoo, product, scalp, great, dandruff, hair, review, good, dry, promotion\n",
      "Topic 6 : shampoo, product, scalp, great, dandruff, hair, review, good, dry, promotion\n",
      "Topic 7 : shampoo, product, scalp, great, dandruff, hair, review, good, dry, promotion\n",
      "Topic 8 : shampoo, product, scalp, great, dandruff, hair, review, good, dry, promotion\n",
      "Topic 9 : shampoo, product, scalp, great, dandruff, hair, review, good, dry, promotion\n",
      "\n",
      "EPOCH: 16\n",
      "LOSS 53570.496 w2v 4.66578 lda 53565.832\n",
      "\n",
      "EPOCH: 17\n",
      "LOSS 53570.59 w2v 4.7558794 lda 53565.832\n",
      "\n",
      "EPOCH: 18\n",
      "LOSS 53573.953 w2v 8.121897 lda 53565.832\n",
      "\n",
      "EPOCH: 19\n",
      "LOSS 53570.332 w2v 4.5005264 lda 53565.832\n",
      "\n",
      "EPOCH: 20\n",
      "LOSS 53572.45 w2v 6.6167936 lda 53565.832\n",
      "---------Closest 10 words to given indexes----------\n",
      "Topic 0 : shampoo, hair, product, scalp, great, dandruff, review, good, dry, opinioni\n",
      "Topic 1 : shampoo, hair, product, scalp, great, dandruff, review, good, dry, opinioni\n",
      "Topic 2 : shampoo, hair, product, scalp, great, dandruff, review, good, dry, opinioni\n",
      "Topic 3 : shampoo, hair, product, scalp, great, dandruff, review, good, dry, opinioni\n",
      "Topic 4 : shampoo, hair, product, scalp, great, dandruff, review, good, dry, opinioni\n",
      "Topic 5 : shampoo, hair, product, scalp, great, dandruff, review, good, dry, opinioni\n",
      "Topic 6 : shampoo, hair, product, scalp, great, dandruff, review, good, dry, opinioni\n",
      "Topic 7 : shampoo, hair, product, scalp, great, dandruff, review, good, dry, opinioni\n",
      "Topic 8 : shampoo, hair, product, scalp, great, dandruff, review, good, dry, opinioni\n",
      "Topic 9 : shampoo, hair, product, scalp, great, dandruff, review, good, dry, opinioni\n",
      "\n",
      "EPOCH: 21\n",
      "LOSS 53570.914 w2v 5.081499 lda 53565.832\n",
      "\n",
      "EPOCH: 22\n",
      "LOSS 53571.133 w2v 5.299301 lda 53565.832\n",
      "\n",
      "EPOCH: 23\n",
      "LOSS 53571.074 w2v 5.241754 lda 53565.832\n",
      "\n",
      "EPOCH: 24\n",
      "LOSS 53570.44 w2v 4.608938 lda 53565.832\n",
      "\n",
      "EPOCH: 25\n",
      "LOSS 53570.88 w2v 5.046015 lda 53565.832\n",
      "---------Closest 10 words to given indexes----------\n",
      "Topic 0 : shampoo, hair, product, scalp, great, dandruff, review, opinioni, fir, dry\n",
      "Topic 1 : shampoo, hair, product, scalp, great, dandruff, review, opinioni, fir, dry\n",
      "Topic 2 : shampoo, hair, product, scalp, great, dandruff, review, opinioni, fir, dry\n",
      "Topic 3 : shampoo, hair, product, scalp, great, dandruff, review, opinioni, fir, dry\n",
      "Topic 4 : shampoo, hair, product, scalp, great, dandruff, review, opinioni, fir, dry\n",
      "Topic 5 : shampoo, hair, product, scalp, great, dandruff, review, opinioni, fir, dry\n",
      "Topic 6 : shampoo, hair, product, scalp, great, dandruff, review, opinioni, fir, dry\n",
      "Topic 7 : shampoo, hair, product, scalp, great, dandruff, review, opinioni, fir, dry\n",
      "Topic 8 : shampoo, hair, product, scalp, great, dandruff, review, opinioni, fir, dry\n",
      "Topic 9 : shampoo, hair, product, scalp, great, dandruff, review, opinioni, fir, dry\n",
      "\n",
      "EPOCH: 26\n",
      "LOSS 53570.14 w2v 4.3085446 lda 53565.832\n",
      "\n",
      "EPOCH: 27\n",
      "LOSS 53570.176 w2v 4.3420324 lda 53565.832\n",
      "\n",
      "EPOCH: 28\n",
      "LOSS 53570.316 w2v 4.485365 lda 53565.832\n",
      "\n",
      "EPOCH: 29\n",
      "LOSS 53571.414 w2v 5.5810056 lda 53565.832\n",
      "\n",
      "EPOCH: 30\n",
      "LOSS 53570.504 w2v 4.671403 lda 53565.832\n",
      "---------Closest 10 words to given indexes----------\n",
      "Topic 0 : shampoo, hair, fir, scalp, dandruff, product, great, review, opinioni, recoeved\n",
      "Topic 1 : shampoo, hair, fir, scalp, dandruff, product, great, review, opinioni, recoeved\n",
      "Topic 2 : shampoo, hair, fir, scalp, dandruff, product, great, review, opinioni, recoeved\n",
      "Topic 3 : shampoo, hair, fir, scalp, dandruff, product, great, review, opinioni, recoeved\n",
      "Topic 4 : shampoo, hair, fir, scalp, dandruff, product, great, review, opinioni, recoeved\n",
      "Topic 5 : shampoo, hair, fir, scalp, dandruff, product, great, review, opinioni, recoeved\n",
      "Topic 6 : shampoo, hair, fir, scalp, dandruff, product, great, review, opinioni, recoeved\n",
      "Topic 7 : shampoo, hair, fir, scalp, dandruff, product, great, review, opinioni, recoeved\n",
      "Topic 8 : shampoo, hair, fir, scalp, product, dandruff, great, review, opinioni, recoeved\n",
      "Topic 9 : shampoo, hair, fir, scalp, product, dandruff, great, review, opinioni, recoeved\n",
      "\n",
      "EPOCH: 31\n",
      "LOSS 53570.41 w2v 4.576246 lda 53565.832\n",
      "\n",
      "EPOCH: 32\n",
      "LOSS 53570.14 w2v 4.3081574 lda 53565.832\n",
      "\n",
      "EPOCH: 33\n",
      "LOSS 53570.574 w2v 4.7435713 lda 53565.832\n",
      "\n",
      "EPOCH: 34\n",
      "LOSS 53570.22 w2v 4.385583 lda 53565.832\n",
      "\n",
      "EPOCH: 35\n",
      "LOSS 53571.805 w2v 5.9744596 lda 53565.832\n",
      "---------Closest 10 words to given indexes----------\n",
      "Topic 0 : shampoo, hair, recoeved, fir, dandruff, opinioni, scalp, review, product, separates\n",
      "Topic 1 : shampoo, hair, recoeved, fir, dandruff, opinioni, scalp, review, product, separates\n",
      "Topic 2 : shampoo, hair, recoeved, fir, dandruff, opinioni, scalp, review, product, separates\n",
      "Topic 3 : shampoo, hair, recoeved, fir, dandruff, opinioni, scalp, review, product, separates\n",
      "Topic 4 : shampoo, hair, recoeved, fir, dandruff, opinioni, scalp, review, product, separates\n",
      "Topic 5 : shampoo, hair, recoeved, fir, dandruff, opinioni, scalp, review, product, separates\n",
      "Topic 6 : shampoo, hair, recoeved, fir, dandruff, opinioni, scalp, review, product, separates\n",
      "Topic 7 : shampoo, hair, recoeved, fir, dandruff, opinioni, scalp, review, product, separates\n",
      "Topic 8 : shampoo, hair, recoeved, fir, dandruff, opinioni, scalp, review, product, separates\n",
      "Topic 9 : shampoo, hair, recoeved, fir, dandruff, opinioni, scalp, review, product, separates\n",
      "\n",
      "EPOCH: 36\n"
     ]
    },
    {
     "name": "stdout",
     "output_type": "stream",
     "text": [
      "LOSS 53570.4 w2v 4.565934 lda 53565.832\n",
      "\n",
      "EPOCH: 37\n",
      "LOSS 53570.105 w2v 4.2693768 lda 53565.836\n",
      "\n",
      "EPOCH: 38\n",
      "LOSS 53571.543 w2v 5.71195 lda 53565.832\n",
      "\n",
      "EPOCH: 39\n",
      "LOSS 53570.387 w2v 4.5534205 lda 53565.832\n",
      "\n",
      "EPOCH: 40\n",
      "LOSS 53570.22 w2v 4.38529 lda 53565.832\n",
      "---------Closest 10 words to given indexes----------\n",
      "Topic 0 : shampoo, hair, recoeved, dandruff, fir, cteme, opinioni, review, scalp, product\n",
      "Topic 1 : shampoo, hair, recoeved, dandruff, fir, cteme, opinioni, review, scalp, product\n",
      "Topic 2 : shampoo, hair, recoeved, dandruff, fir, cteme, opinioni, review, scalp, product\n",
      "Topic 3 : shampoo, hair, recoeved, dandruff, fir, cteme, opinioni, review, scalp, product\n",
      "Topic 4 : shampoo, hair, recoeved, dandruff, fir, cteme, opinioni, review, scalp, product\n",
      "Topic 5 : shampoo, hair, recoeved, dandruff, fir, cteme, opinioni, review, scalp, product\n",
      "Topic 6 : shampoo, hair, recoeved, dandruff, fir, cteme, opinioni, review, scalp, product\n",
      "Topic 7 : shampoo, hair, recoeved, dandruff, fir, cteme, opinioni, review, scalp, product\n",
      "Topic 8 : shampoo, hair, recoeved, dandruff, fir, cteme, opinioni, review, scalp, product\n",
      "Topic 9 : shampoo, hair, recoeved, dandruff, fir, cteme, opinioni, review, scalp, product\n",
      "\n",
      "EPOCH: 41\n",
      "LOSS 53573.844 w2v 8.012761 lda 53565.832\n",
      "\n",
      "EPOCH: 42\n",
      "LOSS 53571.867 w2v 6.0365286 lda 53565.832\n",
      "\n",
      "EPOCH: 43\n",
      "LOSS 53570.16 w2v 4.3296294 lda 53565.832\n",
      "\n",
      "EPOCH: 44\n",
      "LOSS 53570.137 w2v 4.302946 lda 53565.832\n",
      "\n",
      "EPOCH: 45\n",
      "LOSS 53570.242 w2v 4.408886 lda 53565.832\n",
      "---------Closest 10 words to given indexes----------\n",
      "Topic 0 : recoeved, shampoo, hair, dandruff, fir, review, separates, opinioni, cteme, product\n",
      "Topic 1 : recoeved, shampoo, hair, dandruff, fir, review, separates, opinioni, cteme, product\n",
      "Topic 2 : recoeved, shampoo, hair, dandruff, fir, review, separates, opinioni, cteme, product\n",
      "Topic 3 : recoeved, shampoo, hair, dandruff, fir, review, separates, opinioni, cteme, product\n",
      "Topic 4 : recoeved, shampoo, hair, dandruff, fir, review, separates, opinioni, cteme, product\n",
      "Topic 5 : recoeved, shampoo, hair, dandruff, fir, review, separates, opinioni, cteme, product\n",
      "Topic 6 : recoeved, shampoo, hair, dandruff, fir, review, separates, opinioni, cteme, product\n",
      "Topic 7 : recoeved, shampoo, hair, dandruff, fir, review, separates, opinioni, cteme, product\n",
      "Topic 8 : recoeved, shampoo, hair, dandruff, fir, review, separates, opinioni, cteme, product\n",
      "Topic 9 : recoeved, shampoo, hair, dandruff, fir, review, separates, opinioni, cteme, product\n",
      "\n",
      "EPOCH: 46\n",
      "LOSS 53571.793 w2v 5.9609556 lda 53565.832\n",
      "\n",
      "EPOCH: 47\n",
      "LOSS 53570.074 w2v 4.2413497 lda 53565.832\n",
      "\n",
      "EPOCH: 48\n",
      "LOSS 53570.383 w2v 4.551986 lda 53565.832\n",
      "\n",
      "EPOCH: 49\n",
      "LOSS 53571.957 w2v 6.1243167 lda 53565.832\n",
      "\n",
      "EPOCH: 50\n",
      "LOSS 53569.82 w2v 3.9865549 lda 53565.832\n",
      "---------Closest 10 words to given indexes----------\n",
      "Topic 0 : recoeved, shampoo, fir, hair, separates, dandruff, confess, review, cteme, opinioni\n",
      "Topic 1 : recoeved, shampoo, fir, hair, separates, dandruff, confess, review, cteme, opinioni\n",
      "Topic 2 : recoeved, shampoo, fir, hair, separates, dandruff, confess, review, cteme, opinioni\n",
      "Topic 3 : recoeved, shampoo, fir, hair, separates, dandruff, confess, review, cteme, opinioni\n",
      "Topic 4 : recoeved, shampoo, fir, hair, separates, dandruff, confess, review, cteme, opinioni\n",
      "Topic 5 : recoeved, shampoo, fir, hair, separates, dandruff, confess, review, cteme, opinioni\n",
      "Topic 6 : recoeved, shampoo, fir, hair, separates, dandruff, confess, review, cteme, opinioni\n",
      "Topic 7 : recoeved, shampoo, fir, hair, separates, dandruff, confess, review, cteme, opinioni\n",
      "Topic 8 : recoeved, shampoo, fir, hair, separates, dandruff, confess, review, cteme, opinioni\n",
      "Topic 9 : recoeved, shampoo, fir, hair, separates, dandruff, confess, review, cteme, opinioni\n",
      "\n",
      "EPOCH: 51\n",
      "LOSS 53570.11 w2v 4.2755575 lda 53565.832\n",
      "\n",
      "EPOCH: 52\n",
      "LOSS 53570.824 w2v 4.9920325 lda 53565.832\n",
      "\n",
      "EPOCH: 53\n",
      "LOSS 53570.75 w2v 4.917176 lda 53565.832\n",
      "\n",
      "EPOCH: 54\n",
      "LOSS 53570.574 w2v 4.7423573 lda 53565.832\n",
      "\n",
      "EPOCH: 55\n",
      "LOSS 53570.305 w2v 4.472556 lda 53565.832\n",
      "---------Closest 10 words to given indexes----------\n",
      "Topic 0 : recoeved, shampoo, separates, dandruff, fir, review, hair, opinioni, victim, cteme\n",
      "Topic 1 : recoeved, shampoo, separates, dandruff, fir, review, hair, opinioni, victim, cteme\n",
      "Topic 2 : recoeved, shampoo, separates, dandruff, fir, review, hair, opinioni, victim, cteme\n",
      "Topic 3 : recoeved, shampoo, separates, dandruff, fir, review, hair, opinioni, victim, cteme\n",
      "Topic 4 : recoeved, shampoo, separates, dandruff, fir, review, hair, opinioni, victim, cteme\n",
      "Topic 5 : recoeved, shampoo, separates, dandruff, fir, review, hair, opinioni, victim, cteme\n",
      "Topic 6 : recoeved, shampoo, separates, dandruff, fir, review, hair, opinioni, victim, cteme\n",
      "Topic 7 : recoeved, shampoo, separates, dandruff, fir, review, hair, opinioni, victim, cteme\n",
      "Topic 8 : recoeved, shampoo, separates, dandruff, fir, review, hair, opinioni, victim, cteme\n",
      "Topic 9 : recoeved, shampoo, separates, dandruff, fir, review, hair, opinioni, victim, cteme\n",
      "\n",
      "EPOCH: 56\n",
      "LOSS 53570.535 w2v 4.7030644 lda 53565.832\n",
      "\n",
      "EPOCH: 57\n",
      "LOSS 53570.008 w2v 4.1768885 lda 53565.832\n",
      "\n",
      "EPOCH: 58\n",
      "LOSS 53571.22 w2v 5.3857307 lda 53565.832\n",
      "\n",
      "EPOCH: 59\n",
      "LOSS 53570.438 w2v 4.6054764 lda 53565.832\n",
      "\n",
      "EPOCH: 60\n",
      "LOSS 53570.883 w2v 5.0522623 lda 53565.832\n",
      "---------Closest 10 words to given indexes----------\n",
      "Topic 0 : recoeved, fir, separates, cteme, confess, dandruff, shampoo, review, hair, opinioni\n",
      "Topic 1 : recoeved, fir, separates, cteme, dandruff, confess, shampoo, review, hair, opinioni\n",
      "Topic 2 : recoeved, fir, separates, cteme, dandruff, confess, shampoo, review, hair, opinioni\n",
      "Topic 3 : recoeved, fir, separates, cteme, dandruff, confess, shampoo, review, hair, opinioni\n",
      "Topic 4 : recoeved, fir, separates, cteme, dandruff, confess, shampoo, review, hair, opinioni\n",
      "Topic 5 : recoeved, fir, separates, cteme, dandruff, confess, shampoo, review, hair, opinioni\n",
      "Topic 6 : recoeved, fir, separates, cteme, dandruff, confess, shampoo, review, hair, opinioni\n",
      "Topic 7 : recoeved, fir, separates, cteme, dandruff, confess, shampoo, review, hair, opinioni\n",
      "Topic 8 : recoeved, fir, separates, cteme, confess, dandruff, shampoo, review, hair, opinioni\n",
      "Topic 9 : recoeved, fir, separates, cteme, confess, dandruff, shampoo, review, hair, opinioni\n",
      "\n",
      "EPOCH: 61\n",
      "LOSS 53570.145 w2v 4.313943 lda 53565.832\n",
      "\n",
      "EPOCH: 62\n",
      "LOSS 53572.08 w2v 6.2408605 lda 53565.836\n",
      "\n",
      "EPOCH: 63\n",
      "LOSS 53569.918 w2v 4.08483 lda 53565.832\n",
      "\n",
      "EPOCH: 64\n",
      "LOSS 53570.246 w2v 4.414776 lda 53565.832\n",
      "\n",
      "EPOCH: 65\n",
      "LOSS 53570.035 w2v 4.202894 lda 53565.832\n",
      "---------Closest 10 words to given indexes----------\n",
      "Topic 0 : recoeved, fir, confess, separates, victim, shampoo, cteme, dandruff, review, respected\n",
      "Topic 1 : recoeved, fir, confess, separates, victim, shampoo, cteme, dandruff, review, respected\n",
      "Topic 2 : recoeved, fir, confess, separates, victim, shampoo, cteme, dandruff, review, respected\n",
      "Topic 3 : recoeved, fir, confess, separates, victim, shampoo, cteme, dandruff, review, respected\n",
      "Topic 4 : recoeved, fir, confess, separates, victim, shampoo, cteme, dandruff, review, respected\n",
      "Topic 5 : recoeved, fir, confess, separates, victim, shampoo, cteme, dandruff, review, respected\n",
      "Topic 6 : recoeved, fir, confess, separates, victim, shampoo, cteme, dandruff, review, respected\n",
      "Topic 7 : recoeved, fir, confess, separates, victim, shampoo, cteme, dandruff, review, respected\n",
      "Topic 8 : recoeved, fir, confess, separates, victim, shampoo, cteme, dandruff, review, respected\n",
      "Topic 9 : recoeved, fir, confess, separates, victim, shampoo, cteme, dandruff, review, respected\n",
      "\n",
      "EPOCH: 66\n",
      "LOSS 53570.133 w2v 4.3008394 lda 53565.832\n",
      "\n",
      "EPOCH: 67\n",
      "LOSS 53570.44 w2v 4.607559 lda 53565.832\n",
      "\n",
      "EPOCH: 68\n",
      "LOSS 53570.023 w2v 4.1932125 lda 53565.832\n",
      "\n",
      "EPOCH: 69\n",
      "LOSS 53569.88 w2v 4.048391 lda 53565.832\n",
      "\n",
      "EPOCH: 70\n",
      "LOSS 53570.758 w2v 4.9271545 lda 53565.832\n",
      "---------Closest 10 words to given indexes----------\n",
      "Topic 0 : recoeved, fir, separates, review, victim, dandruff, confess, cteme, severly, mositurized\n",
      "Topic 1 : recoeved, fir, separates, review, victim, dandruff, confess, cteme, severly, mositurized\n",
      "Topic 2 : recoeved, fir, separates, review, victim, dandruff, confess, cteme, severly, mositurized\n",
      "Topic 3 : recoeved, fir, separates, review, victim, dandruff, confess, cteme, severly, mositurized\n",
      "Topic 4 : recoeved, fir, separates, review, victim, dandruff, confess, cteme, severly, mositurized\n",
      "Topic 5 : recoeved, fir, separates, review, victim, dandruff, confess, cteme, severly, mositurized\n",
      "Topic 6 : recoeved, fir, separates, review, victim, dandruff, confess, cteme, severly, mositurized\n",
      "Topic 7 : recoeved, fir, separates, review, victim, dandruff, confess, cteme, severly, mositurized\n",
      "Topic 8 : recoeved, fir, separates, review, victim, dandruff, confess, cteme, severly, mositurized\n",
      "Topic 9 : recoeved, fir, separates, review, victim, dandruff, confess, cteme, severly, mositurized\n",
      "\n",
      "EPOCH: 71\n"
     ]
    },
    {
     "name": "stdout",
     "output_type": "stream",
     "text": [
      "LOSS 53570.64 w2v 4.808877 lda 53565.832\n",
      "\n",
      "EPOCH: 72\n",
      "LOSS 53572.15 w2v 6.314929 lda 53565.832\n",
      "\n",
      "EPOCH: 73\n",
      "LOSS 53570.074 w2v 4.2405186 lda 53565.832\n",
      "\n",
      "EPOCH: 74\n",
      "LOSS 53570.008 w2v 4.175971 lda 53565.832\n",
      "\n",
      "EPOCH: 75\n",
      "LOSS 53570.562 w2v 4.7297173 lda 53565.832\n",
      "---------Closest 10 words to given indexes----------\n",
      "Topic 0 : recoeved, fir, confess, separates, review, victim, cteme, mositurized, hair, dandruff\n",
      "Topic 1 : recoeved, fir, confess, separates, review, victim, cteme, mositurized, hair, dandruff\n",
      "Topic 2 : recoeved, fir, confess, separates, review, victim, cteme, mositurized, hair, dandruff\n",
      "Topic 3 : recoeved, fir, confess, separates, review, victim, cteme, mositurized, hair, dandruff\n",
      "Topic 4 : recoeved, fir, confess, separates, review, victim, cteme, mositurized, hair, dandruff\n",
      "Topic 5 : recoeved, fir, confess, separates, review, victim, cteme, mositurized, hair, dandruff\n",
      "Topic 6 : recoeved, fir, confess, separates, review, victim, cteme, mositurized, hair, dandruff\n",
      "Topic 7 : recoeved, fir, confess, separates, review, victim, cteme, mositurized, hair, dandruff\n",
      "Topic 8 : recoeved, fir, confess, separates, review, victim, cteme, mositurized, hair, dandruff\n",
      "Topic 9 : recoeved, fir, confess, separates, review, victim, cteme, mositurized, hair, dandruff\n",
      "\n",
      "EPOCH: 76\n",
      "LOSS 53570.63 w2v 4.7956357 lda 53565.832\n",
      "\n",
      "EPOCH: 77\n",
      "LOSS 53570.074 w2v 4.2437053 lda 53565.832\n",
      "\n",
      "EPOCH: 78\n",
      "LOSS 53569.992 w2v 4.1618114 lda 53565.832\n",
      "\n",
      "EPOCH: 79\n",
      "LOSS 53570.35 w2v 4.52017 lda 53565.832\n",
      "\n",
      "EPOCH: 80\n",
      "LOSS 53570.215 w2v 4.383237 lda 53565.832\n",
      "---------Closest 10 words to given indexes----------\n",
      "Topic 0 : recoeved, fir, separates, victim, confess, review, mositurized, cteme, severly, respected\n",
      "Topic 1 : recoeved, fir, separates, victim, confess, review, mositurized, cteme, severly, respected\n",
      "Topic 2 : recoeved, fir, separates, victim, confess, review, mositurized, cteme, severly, respected\n",
      "Topic 3 : recoeved, fir, separates, victim, confess, review, mositurized, cteme, severly, respected\n",
      "Topic 4 : recoeved, fir, separates, victim, confess, review, mositurized, cteme, severly, respected\n",
      "Topic 5 : recoeved, fir, separates, victim, confess, review, mositurized, cteme, severly, respected\n",
      "Topic 6 : recoeved, fir, separates, victim, confess, review, mositurized, cteme, severly, respected\n",
      "Topic 7 : recoeved, fir, separates, victim, confess, review, mositurized, cteme, severly, respected\n",
      "Topic 8 : recoeved, fir, separates, victim, confess, review, mositurized, cteme, severly, respected\n",
      "Topic 9 : recoeved, fir, separates, victim, confess, review, mositurized, cteme, severly, respected\n",
      "\n",
      "EPOCH: 81\n",
      "LOSS 53572.8 w2v 6.9685774 lda 53565.832\n",
      "\n",
      "EPOCH: 82\n",
      "LOSS 53570.055 w2v 4.223525 lda 53565.832\n",
      "\n",
      "EPOCH: 83\n",
      "LOSS 53570.797 w2v 4.965292 lda 53565.832\n",
      "\n",
      "EPOCH: 84\n",
      "LOSS 53570.7 w2v 4.865916 lda 53565.832\n",
      "\n",
      "EPOCH: 85\n",
      "LOSS 53570.12 w2v 4.2907 lda 53565.832\n",
      "---------Closest 10 words to given indexes----------\n",
      "Topic 0 : recoeved, separates, fir, confess, mositurized, review, cteme, severly, victim, respected\n",
      "Topic 1 : recoeved, separates, fir, confess, mositurized, review, cteme, severly, victim, respected\n",
      "Topic 2 : recoeved, separates, fir, confess, mositurized, review, cteme, severly, victim, respected\n",
      "Topic 3 : recoeved, separates, fir, confess, mositurized, review, cteme, severly, victim, respected\n",
      "Topic 4 : recoeved, separates, fir, confess, mositurized, review, cteme, severly, victim, respected\n",
      "Topic 5 : recoeved, separates, fir, confess, mositurized, review, cteme, severly, victim, respected\n",
      "Topic 6 : recoeved, separates, fir, confess, mositurized, review, cteme, severly, victim, respected\n",
      "Topic 7 : recoeved, separates, fir, confess, mositurized, review, cteme, severly, victim, respected\n",
      "Topic 8 : recoeved, separates, fir, confess, mositurized, review, cteme, severly, victim, respected\n",
      "Topic 9 : recoeved, separates, fir, confess, mositurized, review, cteme, severly, victim, respected\n",
      "\n",
      "EPOCH: 86\n",
      "LOSS 53570.61 w2v 4.777838 lda 53565.832\n",
      "\n",
      "EPOCH: 87\n",
      "LOSS 53571.3 w2v 5.467119 lda 53565.832\n",
      "\n",
      "EPOCH: 88\n",
      "LOSS 53570.51 w2v 4.681411 lda 53565.832\n",
      "\n",
      "EPOCH: 89\n",
      "LOSS 53571.074 w2v 5.2430086 lda 53565.832\n",
      "\n",
      "EPOCH: 90\n",
      "LOSS 53570.49 w2v 4.6573925 lda 53565.832\n",
      "---------Closest 10 words to given indexes----------\n",
      "Topic 0 : fir, review, separates, recoeved, confess, cteme, victim, mositurized, severly, respected\n",
      "Topic 1 : fir, review, separates, recoeved, confess, cteme, victim, mositurized, severly, respected\n",
      "Topic 2 : fir, review, separates, recoeved, confess, cteme, victim, mositurized, severly, respected\n",
      "Topic 3 : fir, review, separates, recoeved, confess, cteme, victim, mositurized, severly, respected\n",
      "Topic 4 : fir, review, separates, recoeved, confess, cteme, victim, mositurized, severly, respected\n",
      "Topic 5 : fir, review, separates, recoeved, confess, cteme, victim, mositurized, severly, respected\n",
      "Topic 6 : fir, review, separates, recoeved, confess, cteme, victim, mositurized, severly, respected\n",
      "Topic 7 : fir, review, separates, recoeved, confess, cteme, victim, mositurized, severly, respected\n",
      "Topic 8 : fir, review, separates, recoeved, confess, cteme, victim, mositurized, severly, respected\n",
      "Topic 9 : fir, review, separates, recoeved, confess, cteme, victim, mositurized, severly, respected\n",
      "\n",
      "EPOCH: 91\n",
      "LOSS 53569.926 w2v 4.0928617 lda 53565.832\n",
      "\n",
      "EPOCH: 92\n",
      "LOSS 53569.883 w2v 4.0492845 lda 53565.832\n",
      "\n",
      "EPOCH: 93\n",
      "LOSS 53572.492 w2v 6.6586227 lda 53565.832\n",
      "\n",
      "EPOCH: 94\n",
      "LOSS 53570.203 w2v 4.3697324 lda 53565.832\n",
      "\n",
      "EPOCH: 95\n",
      "LOSS 53571.637 w2v 5.8034205 lda 53565.832\n",
      "---------Closest 10 words to given indexes----------\n",
      "Topic 0 : fir, recoeved, confess, separates, mositurized, review, victim, amplified, respected, cteme\n",
      "Topic 1 : fir, recoeved, confess, separates, mositurized, review, victim, amplified, respected, cteme\n",
      "Topic 2 : fir, recoeved, confess, separates, mositurized, review, victim, amplified, respected, cteme\n",
      "Topic 3 : fir, recoeved, confess, separates, mositurized, review, victim, amplified, respected, cteme\n",
      "Topic 4 : fir, recoeved, confess, separates, mositurized, review, victim, amplified, respected, cteme\n",
      "Topic 5 : fir, recoeved, confess, separates, mositurized, review, victim, amplified, respected, cteme\n",
      "Topic 6 : fir, recoeved, confess, separates, mositurized, review, victim, amplified, respected, cteme\n",
      "Topic 7 : fir, recoeved, confess, separates, mositurized, review, victim, amplified, respected, cteme\n",
      "Topic 8 : fir, recoeved, confess, separates, mositurized, review, victim, amplified, respected, cteme\n",
      "Topic 9 : fir, recoeved, confess, separates, mositurized, review, victim, amplified, respected, cteme\n",
      "\n",
      "EPOCH: 96\n",
      "LOSS 53570.4 w2v 4.565894 lda 53565.832\n",
      "\n",
      "EPOCH: 97\n",
      "LOSS 53570.305 w2v 4.4721394 lda 53565.832\n",
      "\n",
      "EPOCH: 98\n",
      "LOSS 53571.42 w2v 5.589035 lda 53565.832\n",
      "\n",
      "EPOCH: 99\n",
      "LOSS 53570.652 w2v 4.821857 lda 53565.832\n",
      "\n",
      "EPOCH: 100\n",
      "LOSS 53569.91 w2v 4.0763535 lda 53565.832\n",
      "---------Closest 10 words to given indexes----------\n",
      "Topic 0 : fir, recoeved, separates, review, confess, facilitate, mositurized, victim, respected, cteme\n",
      "Topic 1 : fir, recoeved, separates, review, confess, facilitate, mositurized, victim, respected, cteme\n",
      "Topic 2 : fir, recoeved, separates, review, confess, facilitate, mositurized, victim, respected, cteme\n",
      "Topic 3 : fir, recoeved, separates, review, confess, facilitate, mositurized, victim, respected, cteme\n",
      "Topic 4 : fir, recoeved, separates, review, confess, facilitate, mositurized, victim, respected, cteme\n",
      "Topic 5 : fir, recoeved, separates, review, confess, facilitate, mositurized, victim, respected, cteme\n",
      "Topic 6 : fir, recoeved, separates, review, confess, facilitate, mositurized, victim, respected, cteme\n",
      "Topic 7 : fir, recoeved, separates, review, confess, facilitate, mositurized, victim, respected, cteme\n",
      "Topic 8 : fir, recoeved, separates, review, confess, facilitate, mositurized, victim, respected, cteme\n",
      "Topic 9 : fir, recoeved, separates, review, confess, facilitate, mositurized, victim, respected, cteme\n"
     ]
    }
   ],
   "source": [
    "# Train the model\n",
    "m.train(pivot_ids,\n",
    "        target_ids,\n",
    "        doc_ids,\n",
    "        len(pivot_ids),\n",
    "        num_epochs,\n",
    "        idx_to_word=idx_to_word,\n",
    "        switch_loss_epoch=switch_loss_epoch)"
   ]
  },
  {
   "cell_type": "markdown",
   "metadata": {},
   "source": [
    "From the running output, we can see that the lda_loss is not optimized at all... And the topics are not getting more and more \"sparse\" or \"different\" as shown in the paper."
   ]
  },
  {
   "cell_type": "code",
   "execution_count": null,
   "metadata": {},
   "outputs": [],
   "source": [
    "# save weight to file.\n",
    "\n",
    "\"\"\"\n",
    "m.save_weights_to_file(\n",
    "    word_embed_path ='/Users/sophialiu/Desktop/lda2vec_weights/word', \n",
    "    doc_embed_path  ='/Users/sophialiu/Desktop/lda2vec_weights/doc',\n",
    "    topic_embed_path='/Users/sophialiu/Desktop/lda2vec_weights/topic')\n",
    "\"\"\""
   ]
  },
  {
   "cell_type": "markdown",
   "metadata": {},
   "source": [
    "# Visualize the Result with pyLDAvis"
   ]
  },
  {
   "cell_type": "code",
   "execution_count": 16,
   "metadata": {},
   "outputs": [],
   "source": [
    "import numpy as np"
   ]
  },
  {
   "cell_type": "code",
   "execution_count": 17,
   "metadata": {},
   "outputs": [],
   "source": [
    "def prepare_topics(weights, factors, word_vectors, vocab, temperature=1.0,\n",
    "                   doc_lengths=None, term_frequency=None, normalize=False):\n",
    "    \"\"\" Collects a dictionary of word, document and topic distributions.\n",
    "    Arguments\n",
    "    ---------\n",
    "    weights : float array\n",
    "        This must be an array of unnormalized log-odds of document-to-topic\n",
    "        weights. Shape should be [n_documents, n_topics]\n",
    "    factors : float array\n",
    "        Should be an array of topic vectors. These topic vectors live in the\n",
    "        same space as word vectors and will be used to find the most similar\n",
    "        words to each topic. Shape should be [n_topics, n_dim].\n",
    "    word_vectors : float array\n",
    "        This must be a matrix of word vectors. Should be of shape\n",
    "        [n_words, n_dim]\n",
    "    vocab : list of str\n",
    "        These must be the strings for words corresponding to\n",
    "        indices [0, n_words]\n",
    "    temperature : float\n",
    "        Used to calculate the log probability of a word. Higher\n",
    "        temperatures make more rare words more likely.\n",
    "    doc_lengths : int array\n",
    "        An array indicating the number of words in the nth document.\n",
    "        Must be of shape [n_documents]. Required by pyLDAvis.\n",
    "    term_frequency : int array\n",
    "        An array indicating the overall number of times each token appears\n",
    "        in the corpus. Must be of shape [n_words]. Required by pyLDAvis.\n",
    "    Returns\n",
    "    -------\n",
    "    data : dict\n",
    "        This dictionary is readily consumed by pyLDAVis for topic\n",
    "        visualization.\n",
    "    \"\"\"\n",
    "    # Map each factor vector to a word\n",
    "    topic_to_word = []\n",
    "    msg = \"Vocabulary size did not match size of word vectors\"\n",
    "    assert len(vocab) == word_vectors.shape[0], msg\n",
    "    if normalize:\n",
    "        word_vectors /= np.linalg.norm(word_vectors, axis=1)[:, None]\n",
    "    # factors = factors / np.linalg.norm(factors, axis=1)[:, None]\n",
    "    for factor_vector in factors:\n",
    "        factor_to_word = prob_words(factor_vector, word_vectors,\n",
    "                                    temperature=temperature)\n",
    "        topic_to_word.append(np.ravel(factor_to_word))\n",
    "    topic_to_word = np.array(topic_to_word)\n",
    "    msg = \"Not all rows in topic_to_word sum to 1\"\n",
    "    assert np.allclose(np.sum(topic_to_word, axis=1), 1), msg\n",
    "    # Collect document-to-topic distributions, e.g. theta\n",
    "    doc_to_topic = _softmax_2d(weights)\n",
    "    msg = \"Not all rows in doc_to_topic sum to 1\"\n",
    "    assert np.allclose(np.sum(doc_to_topic, axis=1), 1), msg\n",
    "    data = {'topic_term_dists': topic_to_word,\n",
    "            'doc_topic_dists': doc_to_topic,\n",
    "            'doc_lengths': doc_lengths,\n",
    "            'vocab': vocab,\n",
    "            'term_frequency': term_frequency}\n",
    "    return data"
   ]
  },
  {
   "cell_type": "code",
   "execution_count": 18,
   "metadata": {},
   "outputs": [],
   "source": [
    "def prob_words(context, vocab, temperature=1.0):\n",
    "    \"\"\" This calculates a softmax over the vocabulary as a function\n",
    "    of the dot product of context and word.\n",
    "    \"\"\"\n",
    "    dot = np.dot(vocab, context)\n",
    "    prob = _softmax(dot / temperature)\n",
    "    return prob"
   ]
  },
  {
   "cell_type": "code",
   "execution_count": 19,
   "metadata": {},
   "outputs": [],
   "source": [
    "def _softmax(x):\n",
    "    e_x = np.exp(x - np.max(x))\n",
    "    out = e_x / e_x.sum()\n",
    "    return out"
   ]
  },
  {
   "cell_type": "code",
   "execution_count": 20,
   "metadata": {},
   "outputs": [],
   "source": [
    "def _softmax_2d(x):\n",
    "    y = x - x.max(axis=1, keepdims=True)\n",
    "    np.exp(y, out=y)\n",
    "    y /= y.sum(axis=1, keepdims=True)\n",
    "    return y"
   ]
  },
  {
   "cell_type": "code",
   "execution_count": 65,
   "metadata": {},
   "outputs": [],
   "source": [
    "def generate_pyldavis_data(data_path, model, idx_to_word, freqs, vocab_size):\n",
    "    \"\"\"This method will launch a locally hosted session of\n",
    "    pyLDAvis that will visualize the results of our model\n",
    "    \n",
    "    Parameters\n",
    "    ----------\n",
    "    data_path : str\n",
    "        Location where your data is stored.\n",
    "    model : Lda2Vec\n",
    "        Loaded lda2vec tensorflow model. \n",
    "    idx_to_word : dict\n",
    "        index to word mapping dictionary\n",
    "    freqs list: \n",
    "        Frequencies of each token.\n",
    "    vocab_size : int\n",
    "        Total size of your vocabulary\n",
    "    \"\"\"\n",
    "\n",
    "    doc_embed = model.sesh.run(model.mixture.doc_embedding)\n",
    "    topic_embed = model.sesh.run(model.mixture.topic_embedding)\n",
    "    word_embed = model.sesh.run(model.w_embed.embedding)\n",
    "\n",
    "    # Extract all unique words in order of index 0-vocab_size\n",
    "    vocabulary = []\n",
    "    for k,v in idx_to_word.items():\n",
    "        vocabulary.append(v)\n",
    "\n",
    "    # Read in document lengths\n",
    "    doc_lengths = np.load(data_path + \"/doc_lengths.npy\")\n",
    "\n",
    "    # The prepare_topics function is a direct copy from Chris Moody\n",
    "    vis_data = prepare_topics(doc_embed, topic_embed, word_embed, np.array(vocabulary), doc_lengths=doc_lengths,\n",
    "                              term_frequency=freqs, normalize=True)\n",
    "    \n",
    "    prepared_vis_data = pyLDAvis.prepare(**vis_data)\n",
    "    \n",
    "    print(\"saving html file ...\")\n",
    "    filename = '/Users/sophialiu/Desktop/pyLDAvis.html'\n",
    "    pyLDAvis.save_html(prepared_vis_data, filename)\n",
    "    \n",
    "    pyLDAvis.enable_notebook()\n",
    "    pyLDAvis.display(prepared_vis_data)\n",
    "    \n",
    "    print(\"saving pkl file ...\")\n",
    "    pickle.dump(prepared_vis_data, open('/Users/sophialiu/Desktop/prepared_vis_data.pkl','wb'))"
   ]
  },
  {
   "cell_type": "code",
   "execution_count": 66,
   "metadata": {},
   "outputs": [
    {
     "name": "stdout",
     "output_type": "stream",
     "text": [
      "saving html file ...\n",
      "saving pkl file ...\n"
     ]
    }
   ],
   "source": [
    "generate_pyldavis_data(data_path, m, idx_to_word, freqs, vocab_size)"
   ]
  },
  {
   "cell_type": "markdown",
   "metadata": {},
   "source": [
    "If the code above did not show the result, run the following two cells to save and load prepared_vis_data."
   ]
  },
  {
   "cell_type": "code",
   "execution_count": 67,
   "metadata": {},
   "outputs": [],
   "source": [
    "load_prepared_vis_data = pickle.load(open('/Users/sophialiu/Desktop/prepared_vis_data.pkl','rb'))"
   ]
  },
  {
   "cell_type": "code",
   "execution_count": 69,
   "metadata": {},
   "outputs": [
    {
     "name": "stdout",
     "output_type": "stream",
     "text": [
      "\n",
      "Note: if you're in the IPython notebook, pyLDAvis.show() is not the best command\n",
      "      to use. Consider using pyLDAvis.display(), or pyLDAvis.enable_notebook().\n",
      "      See more information at http://pyLDAvis.github.io/quickstart.html .\n",
      "\n",
      "You must interrupt the kernel to end this command\n",
      "\n",
      "Serving to http://127.0.0.1:8891/    [Ctrl-C to exit]\n"
     ]
    },
    {
     "name": "stderr",
     "output_type": "stream",
     "text": [
      "127.0.0.1 - - [16/Apr/2019 22:40:33] \"GET / HTTP/1.1\" 200 -\n",
      "127.0.0.1 - - [16/Apr/2019 22:40:33] \"GET /LDAvis.css HTTP/1.1\" 200 -\n",
      "127.0.0.1 - - [16/Apr/2019 22:40:34] \"GET /d3.js HTTP/1.1\" 200 -\n",
      "127.0.0.1 - - [16/Apr/2019 22:40:34] \"GET /LDAvis.js HTTP/1.1\" 200 -\n"
     ]
    },
    {
     "name": "stdout",
     "output_type": "stream",
     "text": [
      "\n",
      "stopping Server...\n"
     ]
    }
   ],
   "source": [
    "pyLDAvis.show(load_prepared_vis_data)"
   ]
  },
  {
   "cell_type": "code",
   "execution_count": 60,
   "metadata": {},
   "outputs": [
    {
     "data": {
      "text/html": [
       "\n",
       "<link rel=\"stylesheet\" type=\"text/css\" href=\"https://cdn.rawgit.com/bmabey/pyLDAvis/files/ldavis.v1.0.0.css\">\n",
       "\n",
       "\n",
       "<div id=\"ldavis_el837481124111332968883495670\"></div>\n",
       "<script type=\"text/javascript\">\n",
       "\n",
       "var ldavis_el837481124111332968883495670_data = {\"mdsDat\": {\"x\": [0.0, -0.0, 0.0, 0.0, -0.0, -0.0, -0.0, -0.0, 0.0, -0.0], \"y\": [0.0, 0.0, -0.0, 0.0, -0.0, -0.0, 0.0, -0.0, -0.0, -0.0], \"topics\": [1, 2, 3, 4, 5, 6, 7, 8, 9, 10], \"cluster\": [1, 1, 1, 1, 1, 1, 1, 1, 1, 1], \"Freq\": [10.000005722045898, 10.000005722045898, 10.000003814697266, 10.000001907348633, 10.000001907348633, 10.0, 10.0, 9.99999713897705, 9.999995231628418, 9.999992370605469]}, \"tinfo\": {\"Category\": [\"Default\", \"Default\", \"Default\", \"Default\", \"Default\", \"Default\", \"Default\", \"Default\", \"Default\", \"Default\", \"Default\", \"Default\", \"Default\", \"Default\", \"Default\", \"Default\", \"Default\", \"Default\", \"Default\", \"Default\", \"Default\", \"Default\", \"Default\", \"Default\", \"Default\", \"Default\", \"Default\", \"Default\", \"Default\", \"Default\", \"Topic1\", \"Topic1\", \"Topic1\", \"Topic1\", \"Topic1\", \"Topic1\", \"Topic1\", \"Topic1\", \"Topic1\", \"Topic1\", \"Topic1\", \"Topic1\", \"Topic1\", \"Topic1\", \"Topic1\", \"Topic1\", \"Topic1\", \"Topic1\", \"Topic1\", \"Topic1\", \"Topic1\", \"Topic1\", \"Topic1\", \"Topic1\", \"Topic1\", \"Topic1\", \"Topic1\", \"Topic1\", \"Topic1\", \"Topic1\", \"Topic1\", \"Topic1\", \"Topic1\", \"Topic1\", \"Topic1\", \"Topic1\", \"Topic1\", \"Topic1\", \"Topic1\", \"Topic1\", \"Topic1\", \"Topic1\", \"Topic1\", \"Topic1\", \"Topic1\", \"Topic1\", \"Topic1\", \"Topic1\", \"Topic1\", \"Topic2\", \"Topic2\", \"Topic2\", \"Topic2\", \"Topic2\", \"Topic2\", \"Topic2\", \"Topic2\", \"Topic2\", \"Topic2\", \"Topic2\", \"Topic2\", \"Topic2\", \"Topic2\", \"Topic2\", \"Topic2\", \"Topic2\", \"Topic2\", \"Topic2\", \"Topic2\", \"Topic2\", \"Topic2\", \"Topic2\", \"Topic2\", \"Topic2\", \"Topic2\", \"Topic2\", \"Topic2\", \"Topic2\", \"Topic2\", \"Topic2\", \"Topic2\", \"Topic2\", \"Topic2\", \"Topic2\", \"Topic2\", \"Topic2\", \"Topic2\", \"Topic2\", \"Topic2\", \"Topic2\", \"Topic2\", \"Topic2\", \"Topic2\", \"Topic2\", \"Topic2\", \"Topic2\", \"Topic2\", \"Topic2\", \"Topic2\", \"Topic2\", \"Topic2\", \"Topic2\", \"Topic2\", \"Topic2\", \"Topic2\", \"Topic2\", \"Topic2\", \"Topic2\", \"Topic2\", \"Topic2\", \"Topic3\", \"Topic3\", \"Topic3\", \"Topic3\", \"Topic3\", \"Topic3\", \"Topic3\", \"Topic3\", \"Topic3\", \"Topic3\", \"Topic3\", \"Topic3\", \"Topic3\", \"Topic3\", \"Topic3\", \"Topic3\", \"Topic3\", \"Topic3\", \"Topic3\", \"Topic3\", \"Topic3\", \"Topic3\", \"Topic3\", \"Topic3\", \"Topic3\", \"Topic3\", \"Topic3\", \"Topic3\", \"Topic3\", \"Topic3\", \"Topic3\", \"Topic3\", \"Topic3\", \"Topic3\", \"Topic3\", \"Topic3\", \"Topic3\", \"Topic3\", \"Topic3\", \"Topic3\", \"Topic3\", \"Topic3\", \"Topic3\", \"Topic3\", \"Topic3\", \"Topic3\", \"Topic3\", \"Topic3\", \"Topic3\", \"Topic3\", \"Topic3\", \"Topic3\", \"Topic3\", \"Topic3\", \"Topic3\", \"Topic3\", \"Topic3\", \"Topic3\", \"Topic3\", \"Topic3\", \"Topic4\", \"Topic4\", \"Topic4\", \"Topic4\", \"Topic4\", \"Topic4\", \"Topic4\", \"Topic4\", \"Topic4\", \"Topic4\", \"Topic4\", \"Topic4\", \"Topic4\", \"Topic4\", \"Topic4\", \"Topic4\", \"Topic4\", \"Topic4\", \"Topic4\", \"Topic4\", \"Topic4\", \"Topic4\", \"Topic4\", \"Topic4\", \"Topic4\", \"Topic4\", \"Topic4\", \"Topic4\", \"Topic4\", \"Topic4\", \"Topic4\", \"Topic4\", \"Topic4\", \"Topic4\", \"Topic4\", \"Topic4\", \"Topic4\", \"Topic4\", \"Topic4\", \"Topic4\", \"Topic4\", \"Topic4\", \"Topic4\", \"Topic4\", \"Topic4\", \"Topic4\", \"Topic4\", \"Topic4\", \"Topic4\", \"Topic4\", \"Topic4\", \"Topic4\", \"Topic4\", \"Topic4\", \"Topic4\", \"Topic4\", \"Topic4\", \"Topic4\", \"Topic4\", \"Topic4\", \"Topic4\", \"Topic5\", \"Topic5\", \"Topic5\", \"Topic5\", \"Topic5\", \"Topic5\", \"Topic5\", \"Topic5\", \"Topic5\", \"Topic5\", \"Topic5\", \"Topic5\", \"Topic5\", \"Topic5\", \"Topic5\", \"Topic5\", \"Topic5\", \"Topic5\", \"Topic5\", \"Topic5\", \"Topic5\", \"Topic5\", \"Topic5\", \"Topic5\", \"Topic5\", \"Topic5\", \"Topic5\", \"Topic5\", \"Topic5\", \"Topic5\", \"Topic5\", \"Topic5\", \"Topic5\", \"Topic5\", \"Topic5\", \"Topic5\", \"Topic5\", \"Topic5\", \"Topic5\", \"Topic5\", \"Topic5\", \"Topic5\", \"Topic5\", \"Topic5\", \"Topic5\", \"Topic5\", \"Topic5\", \"Topic5\", \"Topic5\", \"Topic5\", \"Topic5\", \"Topic5\", \"Topic5\", \"Topic5\", \"Topic5\", \"Topic5\", \"Topic5\", \"Topic5\", \"Topic5\", \"Topic5\", \"Topic5\", \"Topic6\", \"Topic6\", \"Topic6\", \"Topic6\", \"Topic6\", \"Topic6\", \"Topic6\", \"Topic6\", \"Topic6\", \"Topic6\", \"Topic6\", \"Topic6\", \"Topic6\", \"Topic6\", \"Topic6\", \"Topic6\", \"Topic6\", \"Topic6\", \"Topic6\", \"Topic6\", \"Topic6\", \"Topic6\", \"Topic6\", \"Topic6\", \"Topic6\", \"Topic6\", \"Topic6\", \"Topic6\", \"Topic6\", \"Topic6\", \"Topic6\", \"Topic6\", \"Topic6\", \"Topic6\", \"Topic6\", \"Topic6\", \"Topic6\", \"Topic6\", \"Topic6\", \"Topic6\", \"Topic6\", \"Topic6\", \"Topic6\", \"Topic6\", \"Topic6\", \"Topic6\", \"Topic6\", \"Topic6\", \"Topic6\", \"Topic6\", \"Topic6\", \"Topic6\", \"Topic6\", \"Topic6\", \"Topic6\", \"Topic6\", \"Topic6\", \"Topic6\", \"Topic6\", \"Topic6\", \"Topic7\", \"Topic7\", \"Topic7\", \"Topic7\", \"Topic7\", \"Topic7\", \"Topic7\", \"Topic7\", \"Topic7\", \"Topic7\", \"Topic7\", \"Topic7\", \"Topic7\", \"Topic7\", \"Topic7\", \"Topic7\", \"Topic7\", \"Topic7\", \"Topic7\", \"Topic7\", \"Topic7\", \"Topic7\", \"Topic7\", \"Topic7\", \"Topic7\", \"Topic7\", \"Topic7\", \"Topic7\", \"Topic7\", \"Topic7\", \"Topic7\", \"Topic7\", \"Topic7\", \"Topic7\", \"Topic7\", \"Topic7\", \"Topic7\", \"Topic7\", \"Topic7\", \"Topic7\", \"Topic7\", \"Topic7\", \"Topic7\", \"Topic7\", \"Topic7\", \"Topic7\", \"Topic7\", \"Topic7\", \"Topic7\", \"Topic7\", \"Topic7\", \"Topic7\", \"Topic7\", \"Topic7\", \"Topic7\", \"Topic7\", \"Topic7\", \"Topic7\", \"Topic7\", \"Topic8\", \"Topic8\", \"Topic8\", \"Topic8\", \"Topic8\", \"Topic8\", \"Topic8\", \"Topic8\", \"Topic8\", \"Topic8\", \"Topic8\", \"Topic8\", \"Topic8\", \"Topic8\", \"Topic8\", \"Topic8\", \"Topic8\", \"Topic8\", \"Topic8\", \"Topic8\", \"Topic8\", \"Topic8\", \"Topic8\", \"Topic8\", \"Topic8\", \"Topic8\", \"Topic8\", \"Topic8\", \"Topic8\", \"Topic8\", \"Topic8\", \"Topic8\", \"Topic8\", \"Topic8\", \"Topic8\", \"Topic8\", \"Topic8\", \"Topic8\", \"Topic8\", \"Topic8\", \"Topic8\", \"Topic8\", \"Topic8\", \"Topic8\", \"Topic8\", \"Topic8\", \"Topic8\", \"Topic8\", \"Topic8\", \"Topic8\", \"Topic8\", \"Topic8\", \"Topic8\", \"Topic8\", \"Topic8\", \"Topic8\", \"Topic8\", \"Topic8\", \"Topic8\", \"Topic8\", \"Topic8\", \"Topic9\", \"Topic9\", \"Topic9\", \"Topic9\", \"Topic9\", \"Topic9\", \"Topic9\", \"Topic9\", \"Topic9\", \"Topic9\", \"Topic9\", \"Topic9\", \"Topic9\", \"Topic9\", \"Topic9\", \"Topic9\", \"Topic9\", \"Topic9\", \"Topic9\", \"Topic9\", \"Topic9\", \"Topic9\", \"Topic9\", \"Topic9\", \"Topic9\", \"Topic9\", \"Topic9\", \"Topic9\", \"Topic9\", \"Topic9\", \"Topic9\", \"Topic9\", \"Topic9\", \"Topic9\", \"Topic9\", \"Topic9\", \"Topic9\", \"Topic9\", \"Topic9\", \"Topic9\", \"Topic9\", \"Topic9\", \"Topic9\", \"Topic9\", \"Topic9\", \"Topic9\", \"Topic9\", \"Topic9\", \"Topic9\", \"Topic9\", \"Topic9\", \"Topic9\", \"Topic9\", \"Topic9\", \"Topic9\", \"Topic9\", \"Topic9\", \"Topic9\", \"Topic9\", \"Topic9\", \"Topic10\", \"Topic10\", \"Topic10\", \"Topic10\", \"Topic10\", \"Topic10\", \"Topic10\", \"Topic10\", \"Topic10\", \"Topic10\", \"Topic10\", \"Topic10\", \"Topic10\", \"Topic10\", \"Topic10\", \"Topic10\", \"Topic10\", \"Topic10\", \"Topic10\", \"Topic10\", \"Topic10\", \"Topic10\", \"Topic10\", \"Topic10\", \"Topic10\", \"Topic10\", \"Topic10\", \"Topic10\", \"Topic10\", \"Topic10\", \"Topic10\", \"Topic10\", \"Topic10\", \"Topic10\", \"Topic10\", \"Topic10\", \"Topic10\", \"Topic10\", \"Topic10\", \"Topic10\", \"Topic10\", \"Topic10\", \"Topic10\", \"Topic10\", \"Topic10\", \"Topic10\", \"Topic10\", \"Topic10\", \"Topic10\", \"Topic10\", \"Topic10\", \"Topic10\", \"Topic10\", \"Topic10\", \"Topic10\", \"Topic10\", \"Topic10\", \"Topic10\", \"Topic10\", \"Topic10\"], \"Freq\": [4326.0, 3343.0, 2691.0, 2620.0, 2314.0, 1905.0, 1694.0, 2925.0, 2359.0, 2399.0, 1919.0, 3545.0, 2609.0, 1357.0, 2455.0, 1594.0, 1770.0, 3157.0, 3064.0, 1456.0, 1140.0, 2436.0, 1399.0, 1804.0, 1785.0, 1487.0, 1867.0, 2876.0, 1718.0, 2131.0, 292.908447265625, 262.3499450683594, 187.01177978515625, 174.68975830078125, 261.27825927734375, 245.80123901367188, 236.223388671875, 135.84912109375, 433.0826416015625, 269.4454345703125, 261.8545227050781, 169.64385986328125, 105.91426849365234, 135.63343811035156, 131.5310516357422, 240.21697998046875, 262.27862548828125, 287.92327880859375, 282.87042236328125, 159.5682373046875, 145.77886962890625, 393.6108703613281, 235.0664825439453, 194.10592651367188, 220.36087036132812, 91.57606506347656, 133.65167236328125, 19.804033279418945, 149.09039306640625, 66.7432632446289, 433.5735778808594, 406.28515625, 382.3041687011719, 356.85406494140625, 352.75579833984375, 354.6488037109375, 348.2107849121094, 334.5281982421875, 332.0832214355469, 315.9056396484375, 306.6640319824219, 308.5673828125, 286.2293701171875, 267.3404235839844, 259.9609680175781, 255.8362274169922, 245.1413116455078, 243.8256072998047, 242.4381103515625, 37.822998046875, 31.270153045654297, 93.75416564941406, 71.59597778320312, 51.33704376220703, 23.976045608520508, 129.8624725341797, 3.780419111251831, 37.146018981933594, 45.703369140625, 12.324203491210938, 106.04475402832031, 12.580251693725586, 9.017285346984863, 21.227018356323242, 1.7467472553253174, 42.02364730834961, 3.769510507583618, 3.615870237350464, 53.364566802978516, 2.714695930480957, 6.214285850524902, 155.9008026123047, 2.8812179565429688, 1.3197405338287354, 30.80973243713379, 80.36482238769531, 12.707293510437012, 102.64095306396484, 0.532622218132019, 432.6875305175781, 433.2970275878906, 406.1793518066406, 393.35980224609375, 382.0398864746094, 356.74957275390625, 354.6416931152344, 352.674072265625, 348.074951171875, 334.4302673339844, 315.9203796386719, 331.9783935546875, 308.600341796875, 306.62921142578125, 287.749755859375, 292.5756530761719, 286.0882873535156, 282.6568298339844, 269.2235107421875, 262.1173400878906, 262.1235656738281, 261.67999267578125, 267.2797546386719, 261.0520935058594, 259.7590026855469, 245.0676727294922, 255.6918182373047, 245.59317016601562, 240.07656860351562, 242.45680236816406, 243.72840881347656, 142.15908813476562, 41.00898742675781, 30.75203514099121, 9.223119735717773, 19.394084930419922, 21.609373092651367, 8.714238166809082, 0.6468653678894043, 67.48007202148438, 0.4958955943584442, 24.973392486572266, 20.359027862548828, 32.27854537963867, 31.95577621459961, 5.025673866271973, 4.0732269287109375, 9.02517032623291, 6.2018141746521, 2.2774722576141357, 21.119665145874023, 28.440601348876953, 14.415704727172852, 17.157299041748047, 7.064277648925781, 9.365898132324219, 39.01475143432617, 1.1001189947128296, 5.329239845275879, 4.387640476226807, 42.48368453979492, 432.6827392578125, 433.28729248046875, 406.1175842285156, 393.30145263671875, 382.1377258300781, 352.6264343261719, 356.65447998046875, 348.1142883300781, 354.5167236328125, 334.3806457519531, 331.992431640625, 315.89520263671875, 308.5654296875, 306.4638977050781, 292.5819091796875, 286.07586669921875, 282.6556396484375, 287.6277770996094, 269.2174377441406, 262.1361999511719, 261.04998779296875, 262.0522155761719, 261.6117248535156, 267.2253112792969, 259.8388671875, 255.69705200195312, 245.5927734375, 243.7740936279297, 242.44813537597656, 245.0065460205078, 18.37401580810547, 10.762617111206055, 3.679112434387207, 2.397338628768921, 25.403409957885742, 13.48710823059082, 4.839087009429932, 16.431482315063477, 9.171858787536621, 6.549670219421387, 4.401507377624512, 27.207603454589844, 0.40350404381752014, 2.140719413757324, 6.244900703430176, 0.6594731211662292, 6.723881244659424, 37.63572311401367, 19.922561645507812, 9.074491500854492, 53.31147384643555, 6.387400150299072, 8.537395477294922, 18.101232528686523, 0.22765648365020752, 11.667012214660645, 36.551551818847656, 2.4459116458892822, 35.573299407958984, 15.615581512451172, 433.36737060546875, 432.5704345703125, 406.107421875, 393.3088073730469, 382.0596618652344, 354.6065979003906, 356.661865234375, 352.5577697753906, 348.0557861328125, 334.4003601074219, 332.02911376953125, 306.5588073730469, 315.69573974609375, 308.3944396972656, 292.5556335449219, 287.67901611328125, 286.0714416503906, 282.5704040527344, 262.0993957519531, 267.26220703125, 269.1434326171875, 262.0401611328125, 259.839111328125, 261.5779724121094, 260.9468688964844, 255.70626831054688, 245.51849365234375, 244.9782257080078, 242.3937530517578, 239.96444702148438, 243.63458251953125, 1.407907485961914, 1.429992914199829, 2.4783177375793457, 1.7439472675323486, 1.689036250114441, 8.22805118560791, 17.926509857177734, 0.6294294595718384, 1.313205361366272, 2.7454068660736084, 3.8422765731811523, 28.026580810546875, 1.6619575023651123, 0.767318069934845, 0.9091373682022095, 1.4244979619979858, 2.442530393600464, 7.630466461181641, 11.28089427947998, 0.8121833205223083, 0.76348876953125, 1.474950909614563, 0.8494586944580078, 0.7637079358100891, 2.463815450668335, 2.986839771270752, 2.8494701385498047, 1.0879217386245728, 3.273670196533203, 0.9185390472412109, 432.5331115722656, 433.09112548828125, 405.989501953125, 393.1534118652344, 382.07843017578125, 356.59234619140625, 352.5481872558594, 348.03570556640625, 354.41302490234375, 334.30517578125, 331.9637451171875, 315.75823974609375, 308.4101867675781, 306.4195251464844, 292.4656677246094, 287.5595397949219, 285.9736328125, 282.490234375, 269.082763671875, 261.9930725097656, 261.9860534667969, 259.7738037109375, 260.91339111328125, 255.70907592773438, 261.5018005371094, 267.10791015625, 242.4766387939453, 244.94749450683594, 239.98768615722656, 245.4640655517578, 243.6298065185547, 0.00022022162738721818, 0.7785723805427551, 1.602559208869934, 0.37314581871032715, 0.25369811058044434, 0.24038653075695038, 1.2232575416564941, 0.5973063111305237, 1.122861623764038, 1.0452793836593628, 0.7732195258140564, 1.076851725578308, 0.6555123925209045, 2.0308115482330322, 0.47485315799713135, 0.708097517490387, 1.2142707109451294, 0.7416532635688782, 1.3169701099395752, 1.100946068763733, 1.6757687330245972, 0.2278227061033249, 1.0411298274993896, 1.553431510925293, 0.8823078870773315, 2.4599127769470215, 1.873917579650879, 2.5345206260681152, 0.4590577185153961, 1.697235345840454, 433.2422790527344, 432.45465087890625, 405.9104309082031, 393.0566101074219, 381.8947448730469, 354.50762939453125, 356.5106506347656, 352.45465087890625, 347.9772033691406, 334.28790283203125, 331.918701171875, 308.4189453125, 315.6142578125, 306.34991455078125, 287.57403564453125, 292.39306640625, 285.95587158203125, 282.5254821777344, 267.2533874511719, 269.01318359375, 260.88153076171875, 259.7113037109375, 261.452880859375, 244.98251342773438, 261.8229064941406, 255.59686279296875, 261.8288879394531, 242.3436737060547, 245.4033966064453, 243.56658935546875, 34.5215950012207, 34.74583053588867, 15.47297191619873, 32.6302604675293, 236.1123809814453, 38.760108947753906, 190.6653594970703, 106.76494598388672, 292.7079772949219, 240.13340759277344, 66.76625061035156, 14.04991340637207, 102.06476593017578, 45.68294143676758, 24.539804458618164, 22.225521087646484, 40.95828628540039, 12.293661117553711, 33.0281867980957, 56.11846923828125, 22.853660583496094, 82.54491424560547, 62.62599182128906, 42.65438461303711, 103.04043579101562, 24.970314025878906, 61.00811004638672, 21.098562240600586, 315.9337158203125, 7.335394382476807, 433.4591369628906, 432.7404479980469, 406.2112121582031, 393.43487548828125, 382.1864929199219, 354.5747985839844, 352.6068115234375, 356.6033630371094, 348.0889587402344, 332.091796875, 334.3812255859375, 306.54241943359375, 308.505615234375, 287.76348876953125, 286.1371765136719, 282.6878967285156, 269.26617431640625, 261.081298828125, 262.0951232910156, 261.64434814453125, 255.83233642578125, 267.2364807128906, 259.84576416015625, 262.0396423339844, 245.59765625, 240.0530242919922, 245.00601196289062, 243.688720703125, 242.39630126953125, 1.3883191347122192, 8.95742130279541, 1.9922270774841309, 3.080552577972412, 3.383725166320801, 0.9606972932815552, 1.8570839166641235, 0.00021989150263834745, 1.7257063388824463, 1.2035211324691772, 2.409252643585205, 12.433940887451172, 14.485298156738281, 0.837933361530304, 1.8305394649505615, 3.899906873703003, 32.52684020996094, 9.783246994018555, 5.70817756652832, 2.783196210861206, 34.84067153930664, 16.26198387145996, 1.82010018825531, 7.461841106414795, 1.876163363456726, 1.3395872116088867, 1.8274365663528442, 9.57805061340332, 3.508589267730713, 1.381605625152588, 433.2901611328125, 432.52471923828125, 405.9552917480469, 393.2748107910156, 382.08123779296875, 356.6316833496094, 348.1119384765625, 352.5325927734375, 354.475830078125, 334.389892578125, 332.0573425292969, 315.73828125, 308.5077819824219, 306.5015563964844, 287.6387634277344, 292.469482421875, 285.9582824707031, 282.5486145019531, 267.35150146484375, 269.1517333984375, 262.0212097167969, 259.8027038574219, 261.54364013671875, 261.9570007324219, 260.925537109375, 255.71385192871094, 243.7563934326172, 244.96939086914062, 245.49676513671875, 239.9947052001953, 242.3279266357422, 0.7948827147483826, 1.817704200744629, 0.7202441692352295, 0.5562903881072998, 1.5759509801864624, 3.493260145187378, 0.959997296333313, 13.973960876464844, 2.225881338119507, 2.8621904850006104, 0.8315773010253906, 2.042137384414673, 3.4403159618377686, 0.14526836574077606, 7.212233066558838, 2.5886082649230957, 5.614445686340332, 9.027534484863281, 1.116977334022522, 2.7690048217773438, 3.4941163063049316, 1.3550970554351807, 0.5033526420593262, 0.17822857201099396, 1.6828275918960571, 3.3772315979003906, 0.44342201948165894, 0.8976937532424927, 2.969156265258789, 0.39724409580230713, 433.3371887207031, 432.52874755859375, 405.9861755371094, 382.0264892578125, 393.0857238769531, 354.4676208496094, 356.4908142089844, 347.9691162109375, 352.3799133300781, 332.0224609375, 334.2826843261719, 306.5143737792969, 315.670166015625, 308.41058349609375, 286.0127868652344, 292.41864013671875, 287.5284118652344, 282.5110778808594, 267.2519836425781, 269.1113586425781, 259.7872619628906, 255.73501586914062, 261.50115966796875, 261.9017333984375, 260.877197265625, 261.907470703125, 243.7058868408203, 242.31216430664062, 244.86773681640625, 245.4023895263672, 0.00022027004160918295, 0.7506499290466309, 0.6800384521484375, 0.5403702855110168, 2.5646252632141113, 0.9702448844909668, 0.24669109284877777, 2.1419663429260254, 1.9857730865478516, 1.8211430311203003, 2.1072425842285156, 0.7135581970214844, 0.345959335565567, 0.5630688071250916, 0.6780917644500732, 1.4393091201782227, 0.7873867154121399, 0.8881011009216309, 0.285351037979126, 2.2562224864959717, 0.8842827677726746, 1.2219067811965942, 2.125751495361328, 1.0701935291290283, 1.185319423675537, 0.43306124210357666, 1.0708121061325073, 2.398561477661133, 6.187520503997803, 3.39983868598938, 433.2668151855469, 432.3570861816406, 405.90093994140625, 381.9499206542969, 392.9806823730469, 354.53106689453125, 356.5403747558594, 347.9975891113281, 352.4369812011719, 332.02490234375, 334.2577209472656, 308.4596862792969, 315.6676940917969, 306.3427734375, 285.9832458496094, 282.5460510253906, 287.4488220214844, 267.25958251953125, 292.2184143066406, 259.7825012207031, 255.69253540039062, 261.46246337890625, 268.9483642578125, 261.85223388671875, 260.77392578125, 261.7830505371094, 242.3721923828125, 243.59617614746094, 244.87071228027344, 245.3934326171875], \"Term\": [\"dispensing\", \"sherbert\", \"dandruff\", \"product\", \"stuggling\", \"feel\", \"freaks\", \"shampoo\", \"received\", \"free\", \"atleat\", \"norm\", \"review\", \"occassional\", \"scalp\", \"bad\", \"secondary\", \"hve\", \"smackers\", \"ben\", \"neurotoxicity\", \"usto\", \"afflicted\", \"influenstor\", \"blows\", \"speaks\", \"use\", \"smell\", \"teal\", \"desperation\", \"shampoo\", \"product\", \"use\", \"touted\", \"review\", \"scalp\", \"received\", \"occassional\", \"dispensing\", \"dandruff\", \"relitvly\", \"freaks\", \"comfy\", \"shrink\", \"homemade\", \"nice\", \"sensitivity\", \"smell\", \"shoulders\", \"bad\", \"ben\", \"head\", \"worked\", \"revives\", \"clean\", \"sporadically\", \"reccomnd\", \"blottle\", \"disliked\", \"lacking\", \"overtakes\", \"tasker\", \"persons\", \"jolly\", \"fiancee\", \"norm\", \"curve\", \"sherbert\", \"judgement\", \"hve\", \"smackers\", \"envelope\", \"tickle\", \"unscented\", \"estimation\", \"juat\", \"postal\", \"usto\", \"shopper\", \"hesitated\", \"afterall\", \"figure\", \"midwestern\", \"apt\", \"defining\", \"vey\", \"hats\", \"town\", \"regain\", \"shanpoo\", \"sunny\", \"southwest\", \"cleanse\", \"dullness\", \"friday\", \"descript\", \"hormones\", \"itched\", \"quip\", \"burned\", \"harmless\", \"emphasis\", \"eyes\", \"b\", \"topically\", \"pulsating\", \"newer\", \"redirected\", \"apply\", \"dispensing\", \"overtakes\", \"tasker\", \"head\", \"persons\", \"jolly\", \"norm\", \"fiancee\", \"curve\", \"sherbert\", \"hve\", \"judgement\", \"envelope\", \"smackers\", \"smell\", \"shampoo\", \"tickle\", \"shoulders\", \"dandruff\", \"product\", \"sensitivity\", \"relitvly\", \"unscented\", \"review\", \"estimation\", \"postal\", \"juat\", \"scalp\", \"free\", \"shopper\", \"usto\", \"paste\", \"marvelous\", \"staticy\", \"smoothe\", \"fungals\", \"useand\", \"unfortunate\", \"hate\", \"nemesis\", \"friends\", \"wasteful\", \"feeel\", \"believing\", \"technology\", \"masage\", \"pores\", \"banishing\", \"mildly\", \"effectively\", \"skelp\", \"myriad\", \"fordry\", \"soooooo\", \"headache\", \"goood\", \"solders\", \"urge\", \"eventually\", \"prescribe\", \"uncommon\", \"dispensing\", \"overtakes\", \"tasker\", \"head\", \"persons\", \"fiancee\", \"jolly\", \"curve\", \"norm\", \"sherbert\", \"judgement\", \"hve\", \"envelope\", \"smackers\", \"shampoo\", \"tickle\", \"shoulders\", \"smell\", \"dandruff\", \"sensitivity\", \"review\", \"product\", \"relitvly\", \"unscented\", \"estimation\", \"juat\", \"scalp\", \"usto\", \"shopper\", \"postal\", \"orangey\", \"teach\", \"passed\", \"complementary\", \"casually\", \"convenience\", \"cologne\", \"versions\", \"refreshingly\", \"promise\", \"limp\", \"buyers\", \"directed\", \"scratch\", \"silmilar\", \"regret\", \"membranes\", \"cam\", \"samples\", \"warning\", \"longtime\", \"ny\", \"info\", \"stuff\", \"oz\", \"abilities\", \"road\", \"dandriff\", \"safer\", \"bringing\", \"overtakes\", \"dispensing\", \"tasker\", \"head\", \"persons\", \"norm\", \"jolly\", \"fiancee\", \"curve\", \"sherbert\", \"judgement\", \"smackers\", \"hve\", \"envelope\", \"shampoo\", \"smell\", \"tickle\", \"shoulders\", \"sensitivity\", \"unscented\", \"dandruff\", \"product\", \"estimation\", \"relitvly\", \"review\", \"juat\", \"scalp\", \"postal\", \"shopper\", \"nice\", \"usto\", \"cleaned\", \"beginning\", \"itchiness\", \"boost\", \"diet\", \"look\", \"recommando\", \"positive\", \"proved\", \"formulas\", \"ends\", \"relaxer\", \"totally\", \"perfume\", \"recieved\", \"typical\", \"unhealthy\", \"vanished\", \"briefly\", \"cap\", \"gross\", \"taken\", \"wear\", \"spent\", \"exclusively\", \"grease\", \"possibly\", \"terrible\", \"renewed\", \"tend\", \"dispensing\", \"overtakes\", \"tasker\", \"head\", \"persons\", \"jolly\", \"fiancee\", \"curve\", \"norm\", \"sherbert\", \"judgement\", \"hve\", \"envelope\", \"smackers\", \"shampoo\", \"smell\", \"tickle\", \"shoulders\", \"dandruff\", \"product\", \"sensitivity\", \"estimation\", \"review\", \"juat\", \"relitvly\", \"unscented\", \"shopper\", \"postal\", \"free\", \"scalp\", \"usto\", \"hair\", \"consistently\", \"silver\", \"nervous\", \"chemicals\", \"prefer\", \"whomp\", \"oh\", \"lighter\", \"changing\", \"diagnosed\", \"fill\", \"lathering\", \"nt\", \"state\", \"glaring\", \"dirty\", \"stayed\", \"stripping\", \"urge\", \"constantly\", \"oz\", \"humid\", \"relieved\", \"produce\", \"automatically\", \"customer\", \"treating\", \"plenty\", \"tube\", \"overtakes\", \"dispensing\", \"tasker\", \"head\", \"persons\", \"norm\", \"jolly\", \"fiancee\", \"curve\", \"sherbert\", \"judgement\", \"envelope\", \"hve\", \"smackers\", \"smell\", \"shampoo\", \"tickle\", \"shoulders\", \"unscented\", \"dandruff\", \"review\", \"estimation\", \"relitvly\", \"postal\", \"product\", \"juat\", \"sensitivity\", \"shopper\", \"scalp\", \"usto\", \"horible\", \"silkyness\", \"excelent\", \"exacerbating\", \"received\", \"doeses\", \"feel\", \"flakes\", \"shampoo\", \"free\", \"wizard\", \"givez\", \"days\", \"emptied\", \"eternity\", \"protector\", \"access\", \"help\", \"licorice\", \"definetely\", \"miami\", \"regurgitate\", \"sporadic\", \"dandruffc\", \"toe\", \"wasteful\", \"emphasize\", \"partners\", \"hve\", \"outs\", \"overtakes\", \"dispensing\", \"tasker\", \"head\", \"persons\", \"norm\", \"fiancee\", \"jolly\", \"curve\", \"judgement\", \"sherbert\", \"smackers\", \"envelope\", \"smell\", \"tickle\", \"shoulders\", \"dandruff\", \"review\", \"product\", \"relitvly\", \"juat\", \"unscented\", \"estimation\", \"sensitivity\", \"scalp\", \"nice\", \"postal\", \"usto\", \"shopper\", \"ease\", \"strength\", \"y\", \"straightener\", \"outstanding\", \"n\", \"alleviate\", \"hair\", \"volumized\", \"dad\", \"shared\", \"stickiness\", \"flowers\", \"unique\", \"randomly\", \"assumed\", \"sth\", \"blend\", \"irritable\", \"spend\", \"usages\", \"competition\", \"miracles\", \"replace\", \"loving\", \"multiple\", \"ability\", \"bloody\", \"claimed\", \"opposed\", \"overtakes\", \"dispensing\", \"tasker\", \"head\", \"persons\", \"jolly\", \"curve\", \"fiancee\", \"norm\", \"sherbert\", \"judgement\", \"hve\", \"envelope\", \"smackers\", \"smell\", \"shampoo\", \"tickle\", \"shoulders\", \"unscented\", \"dandruff\", \"sensitivity\", \"estimation\", \"relitvly\", \"product\", \"review\", \"juat\", \"usto\", \"postal\", \"scalp\", \"free\", \"shopper\", \"weighing\", \"perfumy\", \"bother\", \"blends\", \"battles\", \"greasier\", \"consistency\", \"ignoring\", \"grainy\", \"smothering\", \"static\", \"lie\", \"key\", \"tingly\", \"log\", \"held\", \"hints\", \"genie\", \"outweigh\", \"courtesy\", \"forgot\", \"health\", \"standard\", \"matching\", \"cake\", \"reversed\", \"moisturizer\", \"quickly\", \"bothers\", \"hopefully\", \"overtakes\", \"dispensing\", \"tasker\", \"persons\", \"head\", \"norm\", \"jolly\", \"curve\", \"fiancee\", \"judgement\", \"sherbert\", \"smackers\", \"hve\", \"envelope\", \"tickle\", \"shampoo\", \"smell\", \"shoulders\", \"unscented\", \"dandruff\", \"estimation\", \"juat\", \"relitvly\", \"product\", \"review\", \"sensitivity\", \"usto\", \"shopper\", \"postal\", \"scalp\", \"hair\", \"based\", \"switched\", \"rinses\", \"knocked\", \"gift\", \"coal\", \"annoying\", \"essence\", \"realized\", \"rest\", \"negative\", \"masculine\", \"bouncy\", \"deal\", \"showing\", \"beard\", \"seriously\", \"hear\", \"eucalyptus\", \"fortunately\", \"basically\", \"directions\", \"managed\", \"fix\", \"opposite\", \"decrease\", \"complementary\", \"subsided\", \"bleaching\", \"overtakes\", \"dispensing\", \"tasker\", \"persons\", \"head\", \"norm\", \"jolly\", \"curve\", \"fiancee\", \"judgement\", \"sherbert\", \"envelope\", \"hve\", \"smackers\", \"tickle\", \"shoulders\", \"smell\", \"unscented\", \"shampoo\", \"estimation\", \"juat\", \"relitvly\", \"dandruff\", \"sensitivity\", \"review\", \"product\", \"shopper\", \"usto\", \"postal\", \"scalp\"], \"Total\": [4326.0, 3343.0, 2691.0, 2620.0, 2314.0, 1905.0, 1694.0, 2925.0, 2359.0, 2399.0, 1919.0, 3545.0, 2609.0, 1357.0, 2455.0, 1594.0, 1770.0, 3157.0, 3064.0, 1456.0, 1140.0, 2436.0, 1399.0, 1804.0, 1785.0, 1487.0, 1867.0, 2876.0, 1718.0, 2131.0, 2925.295166015625, 2620.112548828125, 1867.828369140625, 1744.77783203125, 2609.780029296875, 2455.26318359375, 2359.656005859375, 1357.0272216796875, 4326.162109375, 2691.60302734375, 2615.83056640625, 1694.681396484375, 1058.051025390625, 1354.9598388671875, 1314.0062255859375, 2399.7890625, 2620.2734375, 2876.492431640625, 2826.062744140625, 1594.202880859375, 1456.4462890625, 3932.567138671875, 2348.552490234375, 1939.3321533203125, 2201.6943359375, 915.0061645507812, 1335.41845703125, 197.87869262695312, 1489.7564697265625, 666.9251708984375, 4333.2119140625, 4060.642822265625, 3820.759033203125, 3566.288818359375, 3525.5732421875, 3545.383544921875, 3480.63623046875, 3343.644287109375, 3320.162353515625, 3157.79931640625, 3064.986572265625, 3084.840576171875, 2860.48583984375, 2672.568359375, 2598.101318359375, 2557.211181640625, 2449.83740234375, 2436.90625, 2423.9658203125, 377.9209899902344, 312.4653015136719, 936.8419189453125, 715.428466796875, 512.9994506835938, 239.601318359375, 1297.7744140625, 37.77973556518555, 371.226318359375, 456.7472839355469, 123.16493225097656, 1059.7894287109375, 125.72541046142578, 90.11891174316406, 212.14430236816406, 17.457141876220703, 419.9896240234375, 37.67301559448242, 36.13801193237305, 533.3405151367188, 27.131561279296875, 62.107784271240234, 1558.138916015625, 28.796537399291992, 13.19028091430664, 307.93115234375, 803.2174072265625, 127.00504302978516, 1025.868408203125, 5.323415756225586, 4326.162109375, 4333.2119140625, 4060.642822265625, 3932.567138671875, 3820.759033203125, 3566.288818359375, 3545.383544921875, 3525.5732421875, 3480.63623046875, 3343.644287109375, 3157.79931640625, 3320.162353515625, 3084.840576171875, 3064.986572265625, 2876.492431640625, 2925.295166015625, 2860.48583984375, 2826.062744140625, 2691.60302734375, 2620.112548828125, 2620.2734375, 2615.83056640625, 2672.568359375, 2609.780029296875, 2598.101318359375, 2449.83740234375, 2557.211181640625, 2455.26318359375, 2399.871826171875, 2423.9658203125, 2436.90625, 1420.56640625, 409.8070373535156, 307.3119812011719, 92.16998291015625, 193.81349182128906, 215.95205688476562, 87.08564758300781, 6.464478969573975, 674.3673706054688, 4.955866813659668, 249.57965087890625, 203.46571350097656, 322.5883483886719, 319.3631896972656, 50.22639083862305, 40.70787048339844, 90.19820404052734, 61.98151779174805, 22.76138687133789, 211.07330322265625, 284.2404479980469, 144.07322692871094, 171.4739227294922, 70.6024398803711, 93.605712890625, 389.92584228515625, 10.994955062866211, 53.262210845947266, 43.85160827636719, 424.59716796875, 4326.162109375, 4333.2119140625, 4060.642822265625, 3932.567138671875, 3820.759033203125, 3525.5732421875, 3566.288818359375, 3480.63623046875, 3545.383544921875, 3343.644287109375, 3320.162353515625, 3157.79931640625, 3084.840576171875, 3064.986572265625, 2925.295166015625, 2860.48583984375, 2826.062744140625, 2876.492431640625, 2691.60302734375, 2620.2734375, 2609.780029296875, 2620.112548828125, 2615.83056640625, 2672.568359375, 2598.101318359375, 2557.211181640625, 2455.26318359375, 2436.90625, 2423.9658203125, 2449.83740234375, 183.57931518554688, 107.53976440429688, 36.764259338378906, 23.956079483032227, 253.85333251953125, 134.7769317626953, 48.35745620727539, 164.205322265625, 91.657958984375, 65.45340728759766, 43.98694610595703, 271.9034729003906, 4.032481670379639, 21.393695831298828, 62.40999984741211, 6.5906500816345215, 67.19732666015625, 376.1250915527344, 199.10340881347656, 90.68997192382812, 532.7921142578125, 63.83549499511719, 85.32292175292969, 180.90505981445312, 2.2752327919006348, 116.60205078125, 365.3023986816406, 24.44487190246582, 355.5260925292969, 156.0650634765625, 4333.2119140625, 4326.162109375, 4060.642822265625, 3932.567138671875, 3820.759033203125, 3545.383544921875, 3566.288818359375, 3525.5732421875, 3480.63623046875, 3343.644287109375, 3320.162353515625, 3064.986572265625, 3157.79931640625, 3084.840576171875, 2925.295166015625, 2876.492431640625, 2860.48583984375, 2826.062744140625, 2620.2734375, 2672.568359375, 2691.60302734375, 2620.112548828125, 2598.101318359375, 2615.83056640625, 2609.780029296875, 2557.211181640625, 2455.26318359375, 2449.83740234375, 2423.9658203125, 2399.7890625, 2436.90625, 14.061524391174316, 14.285090446472168, 24.75768280029297, 17.421960830688477, 16.873638153076172, 82.19966888427734, 179.09136962890625, 6.288207054138184, 13.119510650634766, 27.428630828857422, 38.38763427734375, 280.0099182128906, 16.604473114013672, 7.66623592376709, 9.083205223083496, 14.232309341430664, 24.403621673583984, 76.2379379272461, 112.71037292480469, 8.114776611328125, 7.6283369064331055, 14.736900329589844, 8.487340927124023, 7.6305718421936035, 24.617273330688477, 29.843313217163086, 28.470813751220703, 10.8701171875, 32.70933151245117, 9.177867889404297, 4326.162109375, 4333.2119140625, 4060.642822265625, 3932.567138671875, 3820.759033203125, 3566.288818359375, 3525.5732421875, 3480.63623046875, 3545.383544921875, 3343.644287109375, 3320.162353515625, 3157.79931640625, 3084.840576171875, 3064.986572265625, 2925.295166015625, 2876.492431640625, 2860.48583984375, 2826.062744140625, 2691.60302734375, 2620.112548828125, 2620.2734375, 2598.101318359375, 2609.780029296875, 2557.211181640625, 2615.83056640625, 2672.568359375, 2423.9658203125, 2449.83740234375, 2399.871826171875, 2455.26318359375, 2436.90625, 0.00219700182788074, 7.772706985473633, 15.999418258666992, 3.7256412506103516, 2.5331122875213623, 2.400406837463379, 12.215230941772461, 5.9646430015563965, 11.212806701660156, 10.43818187713623, 7.721444129943848, 10.753639221191406, 6.546104431152344, 20.28022003173828, 4.7420549392700195, 7.071431636810303, 12.126386642456055, 7.406723976135254, 13.152314186096191, 10.994955062866211, 16.73564910888672, 2.2752327919006348, 10.397725105285645, 15.514155387878418, 8.81169319152832, 24.567502975463867, 18.715129852294922, 25.31279182434082, 4.584728717803955, 16.950754165649414, 4333.2119140625, 4326.162109375, 4060.642822265625, 3932.567138671875, 3820.759033203125, 3545.383544921875, 3566.288818359375, 3525.5732421875, 3480.63623046875, 3343.644287109375, 3320.162353515625, 3084.840576171875, 3157.79931640625, 3064.986572265625, 2876.492431640625, 2925.295166015625, 2860.48583984375, 2826.062744140625, 2672.568359375, 2691.60302734375, 2609.780029296875, 2598.101318359375, 2615.83056640625, 2449.83740234375, 2620.112548828125, 2557.211181640625, 2620.2734375, 2423.9658203125, 2455.26318359375, 2436.90625, 344.9864807128906, 347.22943115234375, 154.63082885742188, 326.09881591796875, 2359.656005859375, 387.36260986328125, 1905.483642578125, 1066.9967041015625, 2925.295166015625, 2399.871826171875, 667.269287109375, 140.41688537597656, 1020.0711059570312, 456.5721435546875, 245.26165771484375, 222.13430786132812, 409.3661193847656, 122.87191009521484, 330.1088562011719, 560.8922119140625, 228.41748046875, 825.0208740234375, 625.9454345703125, 426.3322448730469, 1029.89453125, 249.57965087890625, 609.780517578125, 210.88250732421875, 3157.79931640625, 73.3182601928711, 4333.2119140625, 4326.162109375, 4060.642822265625, 3932.567138671875, 3820.759033203125, 3545.383544921875, 3525.5732421875, 3566.288818359375, 3480.63623046875, 3320.162353515625, 3343.644287109375, 3064.986572265625, 3084.840576171875, 2876.492431640625, 2860.48583984375, 2826.062744140625, 2691.60302734375, 2609.780029296875, 2620.112548828125, 2615.83056640625, 2557.211181640625, 2672.568359375, 2598.101318359375, 2620.2734375, 2455.26318359375, 2399.7890625, 2449.83740234375, 2436.90625, 2423.9658203125, 13.867666244506836, 89.48411560058594, 19.90228271484375, 30.77742576599121, 33.80671691894531, 9.598311424255371, 18.554235458374023, 0.00219700182788074, 17.24216079711914, 12.024856567382812, 24.073068618774414, 124.24051666259766, 144.73866271972656, 8.372864723205566, 18.291322708129883, 38.969112396240234, 325.0294189453125, 97.76065826416016, 57.04002380371094, 27.811731338500977, 348.15411376953125, 162.50253295898438, 18.187936782836914, 74.56521606445312, 18.74834632873535, 13.386393547058105, 18.261486053466797, 95.7132339477539, 35.06144714355469, 13.806465148925781, 4333.2119140625, 4326.162109375, 4060.642822265625, 3932.567138671875, 3820.759033203125, 3566.288818359375, 3480.63623046875, 3525.5732421875, 3545.383544921875, 3343.644287109375, 3320.162353515625, 3157.79931640625, 3084.840576171875, 3064.986572265625, 2876.492431640625, 2925.295166015625, 2860.48583984375, 2826.062744140625, 2672.568359375, 2691.60302734375, 2620.2734375, 2598.101318359375, 2615.83056640625, 2620.112548828125, 2609.780029296875, 2557.211181640625, 2436.90625, 2449.83740234375, 2455.26318359375, 2399.871826171875, 2423.9658203125, 7.938730239868164, 18.158052444458008, 7.195030689239502, 5.5572285652160645, 15.743855476379395, 34.898094177246094, 9.590494155883789, 139.6024627685547, 22.237499237060547, 28.59452247619629, 8.307880401611328, 20.402019500732422, 34.37089920043945, 1.4513293504714966, 72.05516815185547, 25.861989974975586, 56.09234619140625, 90.19161224365234, 11.159479141235352, 27.664649963378906, 34.909263610839844, 13.538863182067871, 5.029075622558594, 1.7807178497314453, 16.813644409179688, 33.74317169189453, 4.430443286895752, 8.969293594360352, 29.66633415222168, 3.969086170196533, 4333.2119140625, 4326.162109375, 4060.642822265625, 3820.759033203125, 3932.567138671875, 3545.383544921875, 3566.288818359375, 3480.63623046875, 3525.5732421875, 3320.162353515625, 3343.644287109375, 3064.986572265625, 3157.79931640625, 3084.840576171875, 2860.48583984375, 2925.295166015625, 2876.492431640625, 2826.062744140625, 2672.568359375, 2691.60302734375, 2598.101318359375, 2557.211181640625, 2615.83056640625, 2620.112548828125, 2609.780029296875, 2620.2734375, 2436.90625, 2423.9658203125, 2449.83740234375, 2455.26318359375, 0.00219700182788074, 7.495265483856201, 6.790578365325928, 5.39596700668335, 25.609710693359375, 9.68911361694336, 2.463521957397461, 21.39043617248535, 19.831029891967773, 18.18720054626465, 21.04471778869629, 7.126278400421143, 3.45511531829834, 5.62352991104126, 6.772312164306641, 14.374846458435059, 7.863922595977783, 8.869817733764648, 2.8499348163604736, 22.534135818481445, 8.831829071044922, 12.20387077331543, 21.231103897094727, 10.688638687133789, 11.838476181030273, 4.325251579284668, 10.694902420043945, 23.956079483032227, 61.799224853515625, 33.956878662109375, 4333.2119140625, 4326.162109375, 4060.642822265625, 3820.759033203125, 3932.567138671875, 3545.383544921875, 3566.288818359375, 3480.63623046875, 3525.5732421875, 3320.162353515625, 3343.644287109375, 3084.840576171875, 3157.79931640625, 3064.986572265625, 2860.48583984375, 2826.062744140625, 2876.492431640625, 2672.568359375, 2925.295166015625, 2598.101318359375, 2557.211181640625, 2615.83056640625, 2691.60302734375, 2620.2734375, 2609.780029296875, 2620.112548828125, 2423.9658203125, 2436.90625, 2449.83740234375, 2455.26318359375], \"loglift\": [30.0, 29.0, 28.0, 27.0, 26.0, 25.0, 24.0, 23.0, 22.0, 21.0, 20.0, 19.0, 18.0, 17.0, 16.0, 15.0, 14.0, 13.0, 12.0, 11.0, 10.0, 9.0, 8.0, 7.0, 6.0, 5.0, 4.0, 3.0, 2.0, 1.0, 0.0013000000035390258, 0.0013000000035390258, 0.0012000000569969416, 0.0012000000569969416, 0.0010999999940395355, 0.0010999999940395355, 0.0010999999940395355, 0.0010999999940395355, 0.0010999999940395355, 0.0010999999940395355, 0.0010000000474974513, 0.0010000000474974513, 0.0010000000474974513, 0.0010000000474974513, 0.0010000000474974513, 0.0010000000474974513, 0.0010000000474974513, 0.0010000000474974513, 0.0008999999845400453, 0.0008999999845400453, 0.0008999999845400453, 0.0008999999845400453, 0.0008999999845400453, 0.0008999999845400453, 0.0008999999845400453, 0.0007999999797903001, 0.0007999999797903001, 0.0007999999797903001, 0.0007999999797903001, 0.0007999999797903001, 0.0006000000284984708, 0.0005000000237487257, 0.0006000000284984708, 0.0006000000284984708, 0.0006000000284984708, 0.0003000000142492354, 0.00039999998989515007, 0.0005000000237487257, 0.00019999999494757503, 0.00039999998989515007, 0.0005000000237487257, 0.0003000000142492354, 0.0006000000284984708, 0.0003000000142492354, 0.0006000000284984708, 0.00039999998989515007, 0.0006000000284984708, 0.0006000000284984708, 0.00019999999494757503, 0.0007999999797903001, 0.0007999999797903001, 0.000699999975040555, 0.000699999975040555, 0.000699999975040555, 0.000699999975040555, 0.000699999975040555, 0.0006000000284984708, 0.0006000000284984708, 0.0006000000284984708, 0.0006000000284984708, 0.0006000000284984708, 0.0006000000284984708, 0.0006000000284984708, 0.0006000000284984708, 0.0006000000284984708, 0.0006000000284984708, 0.0006000000284984708, 0.0006000000284984708, 0.0006000000284984708, 0.0006000000284984708, 0.0006000000284984708, 0.0006000000284984708, 0.0005000000237487257, 0.0005000000237487257, 0.0005000000237487257, 0.0005000000237487257, 0.0005000000237487257, 0.0005000000237487257, 0.0005000000237487257, 0.00019999999494757503, -9.999999747378752e-05, 0.0003000000142492354, 0.0003000000142492354, -9.999999747378752e-05, 0.0003000000142492354, 0.0003000000142492354, 0.0003000000142492354, 0.0, 0.00019999999494757503, 0.00039999998989515007, -9.999999747378752e-05, 0.00039999998989515007, 0.00039999998989515007, 0.0003000000142492354, 0.00019999999494757503, 9.999999747378752e-05, 0.00019999999494757503, 0.00019999999494757503, 0.00039999998989515007, 0.00039999998989515007, 0.00039999998989515007, 9.999999747378752e-05, 0.0003000000142492354, -0.00019999999494757503, 0.0003000000142492354, -9.999999747378752e-05, 0.0003000000142492354, 0.00039999998989515007, 0.00019999999494757503, 0.00019999999494757503, 0.000699999975040555, 0.000699999975040555, 0.000699999975040555, 0.000699999975040555, 0.000699999975040555, 0.000699999975040555, 0.000699999975040555, 0.0006000000284984708, 0.0006000000284984708, 0.0006000000284984708, 0.0006000000284984708, 0.0006000000284984708, 0.0006000000284984708, 0.0006000000284984708, 0.0006000000284984708, 0.0006000000284984708, 0.0006000000284984708, 0.0006000000284984708, 0.0006000000284984708, 0.0006000000284984708, 0.0006000000284984708, 0.0006000000284984708, 0.0006000000284984708, 0.0006000000284984708, 0.0006000000284984708, 0.0006000000284984708, 0.0006000000284984708, 0.0006000000284984708, 0.0006000000284984708, 0.0006000000284984708, 0.00019999999494757503, -9.999999747378752e-05, 9.999999747378752e-05, 9.999999747378752e-05, 0.00019999999494757503, 0.00019999999494757503, 9.999999747378752e-05, 9.999999747378752e-05, -9.999999747378752e-05, 0.0, -9.999999747378752e-05, 0.00039999998989515007, 0.0003000000142492354, -9.999999747378752e-05, 0.00019999999494757503, 9.999999747378752e-05, 0.00019999999494757503, -9.999999747378752e-05, 0.00019999999494757503, 0.00039999998989515007, 0.0003000000142492354, 0.00019999999494757503, 9.999999747378752e-05, -9.999999747378752e-05, 9.999999747378752e-05, -9.999999747378752e-05, 0.0003000000142492354, 0.0003000000142492354, 0.00019999999494757503, 9.999999747378752e-05, 0.0008999999845400453, 0.0007999999797903001, 0.000699999975040555, 0.000699999975040555, 0.000699999975040555, 0.000699999975040555, 0.000699999975040555, 0.000699999975040555, 0.000699999975040555, 0.000699999975040555, 0.0006000000284984708, 0.0006000000284984708, 0.0006000000284984708, 0.0006000000284984708, 0.0006000000284984708, 0.0006000000284984708, 0.0006000000284984708, 0.0006000000284984708, 0.0006000000284984708, 0.0006000000284984708, 0.0006000000284984708, 0.0006000000284984708, 0.0006000000284984708, 0.0006000000284984708, 0.0006000000284984708, 0.0006000000284984708, 0.0006000000284984708, 0.0006000000284984708, 0.0006000000284984708, 0.0006000000284984708, 9.999999747378752e-05, -9.999999747378752e-05, 9.999999747378752e-05, 9.999999747378752e-05, -0.0, 0.00019999999494757503, 9.999999747378752e-05, 0.0, -0.0, 9.999999747378752e-05, 0.0, 0.00019999999494757503, -0.0003000000142492354, -0.0003000000142492354, 9.999999747378752e-05, 9.999999747378752e-05, 9.999999747378752e-05, -9.999999747378752e-05, 0.0003000000142492354, 0.0, -9.999999747378752e-05, 9.999999747378752e-05, 9.999999747378752e-05, -0.0, -9.999999747378752e-05, -9.999999747378752e-05, -0.0, -0.0, -0.0, -9.999999747378752e-05, -0.00019999999494757503, 0.0012000000569969416, 0.0010000000474974513, 0.0010000000474974513, 0.0010000000474974513, 0.0010000000474974513, 0.0010000000474974513, 0.0010000000474974513, 0.0010000000474974513, 0.0010000000474974513, 0.0008999999845400453, 0.0008999999845400453, 0.0008999999845400453, 0.0008999999845400453, 0.0008999999845400453, 0.0008999999845400453, 0.0008999999845400453, 0.0008999999845400453, 0.0008999999845400453, 0.0008999999845400453, 0.0008999999845400453, 0.0008999999845400453, 0.0008999999845400453, 0.0008999999845400453, 0.0008999999845400453, 0.0007999999797903001, 0.0007999999797903001, 0.0007999999797903001, 0.0007999999797903001, 0.0007999999797903001, 0.0007999999797903001, -0.00019999999494757503, -0.0005000000237487257, -0.00019999999494757503, -0.0003000000142492354, 0.0, -9.999999747378752e-05, -0.0, -9.999999747378752e-05, -0.00039999998989515007, -0.00019999999494757503, -0.00019999999494757503, -9.999999747378752e-05, -0.00019999999494757503, -0.0003000000142492354, -0.00019999999494757503, -0.0003000000142492354, -0.0003000000142492354, -0.00039999998989515007, -0.0003000000142492354, -9.999999747378752e-05, -0.00019999999494757503, -9.999999747378752e-05, -0.00019999999494757503, -0.0, -0.0003000000142492354, -0.0006000000284984708, 0.0003000000142492354, -9.999999747378752e-05, 0.0, -0.0003000000142492354, -0.00019999999494757503, 0.002400000113993883, 0.0017000000225380063, 0.0015999999595806003, 0.0015999999595806003, 0.001500000013038516, 0.00139999995008111, 0.00139999995008111, 0.00139999995008111, 0.00139999995008111, 0.00139999995008111, 0.00139999995008111, 0.00139999995008111, 0.00139999995008111, 0.00139999995008111, 0.00139999995008111, 0.0013000000035390258, 0.0013000000035390258, 0.0013000000035390258, 0.0013000000035390258, 0.0013000000035390258, 0.0013000000035390258, 0.0013000000035390258, 0.0013000000035390258, 0.0013000000035390258, 0.0013000000035390258, 0.0013000000035390258, 0.0013000000035390258, 0.0013000000035390258, 0.0013000000035390258, 0.0013000000035390258, -0.00019999999494757503, -0.00039999998989515007, -0.00039999998989515007, -0.0005000000237487257, -0.0005000000237487257, -9.999999747378752e-05, -0.0003000000142492354, -0.0003000000142492354, -0.00019999999494757503, -0.00019999999494757503, -0.0003000000142492354, -0.00019999999494757503, -0.0005000000237487257, -0.0005000000237487257, -0.0003000000142492354, -0.0005000000237487257, -0.0003000000142492354, -0.0003000000142492354, -0.0, -0.0005000000237487257, -0.00039999998989515007, -0.00039999998989515007, -0.0005000000237487257, -0.0, -0.000699999975040555, -0.0005000000237487257, -0.0007999999797903001, -0.00019999999494757503, -0.0005000000237487257, -0.0005000000237487257, 0.000699999975040555, 0.000699999975040555, 0.0006000000284984708, 0.0006000000284984708, 0.0006000000284984708, 0.0006000000284984708, 0.0006000000284984708, 0.0006000000284984708, 0.0006000000284984708, 0.0006000000284984708, 0.0006000000284984708, 0.0006000000284984708, 0.0006000000284984708, 0.0006000000284984708, 0.0006000000284984708, 0.0005000000237487257, 0.0005000000237487257, 0.0005000000237487257, 0.0005000000237487257, 0.0005000000237487257, 0.0005000000237487257, 0.0005000000237487257, 0.0005000000237487257, 0.0005000000237487257, 0.0005000000237487257, 0.0005000000237487257, 0.0005000000237487257, 0.0005000000237487257, 0.0005000000237487257, 0.0005000000237487257, 0.0003000000142492354, 0.0003000000142492354, 0.00039999998989515007, 0.0005000000237487257, 0.0003000000142492354, 9.999999747378752e-05, 9.999999747378752e-05, -9.999999747378752e-05, 9.999999747378752e-05, 0.00019999999494757503, 9.999999747378752e-05, 9.999999747378752e-05, 9.999999747378752e-05, 0.00039999998989515007, 0.0003000000142492354, 0.0003000000142492354, 0.00039999998989515007, 0.00039999998989515007, 0.0003000000142492354, 0.00019999999494757503, 0.00039999998989515007, -9.999999747378752e-05, 9.999999747378752e-05, 0.0, 0.0003000000142492354, 0.0003000000142492354, 9.999999747378752e-05, -0.0, -0.0, 0.0010999999940395355, 0.0010000000474974513, 0.0010000000474974513, 0.0008999999845400453, 0.0008999999845400453, 0.0008999999845400453, 0.0008999999845400453, 0.0008999999845400453, 0.0008999999845400453, 0.0008999999845400453, 0.0007999999797903001, 0.0007999999797903001, 0.0007999999797903001, 0.0007999999797903001, 0.0007999999797903001, 0.0007999999797903001, 0.000699999975040555, 0.000699999975040555, 0.000699999975040555, 0.000699999975040555, 0.000699999975040555, 0.000699999975040555, 0.000699999975040555, 0.000699999975040555, 0.000699999975040555, 0.000699999975040555, 0.000699999975040555, 0.000699999975040555, 0.000699999975040555, 0.000699999975040555, -9.999999747378752e-05, -0.00019999999494757503, -0.0003000000142492354, 0.0, 0.0, 0.0, 9.999999747378752e-05, -9.999999747378752e-05, -0.00019999999494757503, 9.999999747378752e-05, 9.999999747378752e-05, -9.999999747378752e-05, 9.999999747378752e-05, 0.0, -0.0, -0.00019999999494757503, -0.0003000000142492354, -0.00019999999494757503, 0.00039999998989515007, -0.0, -0.0, -0.0, -0.00019999999494757503, -0.00019999999494757503, -0.00019999999494757503, -0.0, 0.0003000000142492354, -9.999999747378752e-05, -9.999999747378752e-05, 0.0, -0.0003000000142492354, 0.0013000000035390258, 0.0010000000474974513, 0.0010000000474974513, 0.0010000000474974513, 0.0010000000474974513, 0.0010000000474974513, 0.0010000000474974513, 0.0010000000474974513, 0.0010000000474974513, 0.0010000000474974513, 0.0010000000474974513, 0.0008999999845400453, 0.0008999999845400453, 0.0008999999845400453, 0.0008999999845400453, 0.0008999999845400453, 0.0008999999845400453, 0.0008999999845400453, 0.0008999999845400453, 0.0008999999845400453, 0.0008999999845400453, 0.0008999999845400453, 0.0008999999845400453, 0.0008999999845400453, 0.0008999999845400453, 0.0008999999845400453, 0.0008999999845400453, 0.0008999999845400453, 0.0008999999845400453, 0.0007999999797903001, 0.0, -0.00019999999494757503, -0.00019999999494757503, -9.999999747378752e-05, -0.00039999998989515007, -0.00019999999494757503, -0.00039999998989515007, -0.0003000000142492354, -0.0005000000237487257, 0.0, -0.00019999999494757503, 9.999999747378752e-05, -0.0003000000142492354, -0.00019999999494757503, -9.999999747378752e-05, -0.00039999998989515007, -0.00039999998989515007, -0.0003000000142492354, -0.0, -0.00019999999494757503, -9.999999747378752e-05, 9.999999747378752e-05, -0.0003000000142492354, -0.00039999998989515007, -0.00039999998989515007, -0.0005000000237487257, 9.999999747378752e-05, -0.0003000000142492354, -0.0005000000237487257, -0.0005000000237487257, 0.0026000000070780516, 0.001500000013038516, 0.00139999995008111, 0.00139999995008111, 0.00139999995008111, 0.00139999995008111, 0.00139999995008111, 0.00139999995008111, 0.0013000000035390258, 0.0013000000035390258, 0.0013000000035390258, 0.0013000000035390258, 0.0013000000035390258, 0.0013000000035390258, 0.0013000000035390258, 0.0013000000035390258, 0.0013000000035390258, 0.0013000000035390258, 0.0013000000035390258, 0.0012000000569969416, 0.0012000000569969416, 0.0012000000569969416, 0.0012000000569969416, 0.0012000000569969416, 0.0012000000569969416, 0.0012000000569969416, 0.0012000000569969416, 0.0012000000569969416, 0.0012000000569969416, 0.0012000000569969416, -9.999999747378752e-05, -0.0006000000284984708, -0.00039999998989515007, -0.0003000000142492354, -0.000699999975040555, -0.0, -0.00019999999494757503, -0.00019999999494757503, -0.0003000000142492354, 0.0, -0.0003000000142492354, -9.999999747378752e-05, -0.00039999998989515007, -0.0005000000237487257, -0.00019999999494757503, -0.00019999999494757503, -0.000699999975040555, 0.0, -0.0010999999940395355, -9.999999747378752e-05, -9.999999747378752e-05, -0.0005000000237487257, -0.0007999999797903001, -0.000699999975040555, -0.0007999999797903001, -0.0008999999845400453, -9.999999747378752e-05, -0.00039999998989515007, -0.0005000000237487257, -0.0005000000237487257], \"logprob\": [30.0, 29.0, 28.0, 27.0, 26.0, 25.0, 24.0, 23.0, 22.0, 21.0, 20.0, 19.0, 18.0, 17.0, 16.0, 15.0, 14.0, 13.0, 12.0, 11.0, 10.0, 9.0, 8.0, 7.0, 6.0, 5.0, 4.0, 3.0, 2.0, 1.0, -6.370200157165527, -6.480400085449219, -6.818900108337402, -6.88700008392334, -6.484399795532227, -6.545499801635742, -6.585299968719482, -7.138500213623047, -5.979100227355957, -6.453700065612793, -6.4822001457214355, -6.916299819946289, -7.387400150299072, -7.140100002288818, -7.17080020904541, -6.56850004196167, -6.480599880218506, -6.38730001449585, -6.40500020980835, -6.97760009765625, -7.06790018081665, -6.074699878692627, -6.590199947357178, -6.781599998474121, -6.654799938201904, -7.532899856567383, -7.154799938201904, -9.06410026550293, -7.045499801635742, -7.8491997718811035, -5.978000164031982, -6.043000221252441, -6.103799819946289, -6.172699928283691, -6.184299945831299, -6.178899765014648, -6.197199821472168, -6.237299919128418, -6.24459981918335, -6.294600009918213, -6.3242998123168945, -6.3180999755859375, -6.393199920654297, -6.46150016784668, -6.489500045776367, -6.505499839782715, -6.5482001304626465, -6.553599834442139, -6.559299945831299, -8.417099952697754, -8.607399940490723, -7.509399890899658, -7.7789998054504395, -8.111599922180176, -8.873000144958496, -7.183599948883057, -10.720199584960938, -8.435199737548828, -8.227899551391602, -9.53849983215332, -7.386199951171875, -9.517900466918945, -9.850899696350098, -8.994799613952637, -11.492300033569336, -8.311800003051758, -10.723099708557129, -10.764699935913086, -8.07289981842041, -11.051400184631348, -10.223199844360352, -7.000800132751465, -10.991800308227539, -11.772600173950195, -8.622200012207031, -7.66349983215332, -9.50790023803711, -7.418799877166748, -12.680000305175781, -5.980000019073486, -5.978600025177002, -6.0432000160217285, -6.075300216674805, -6.104499816894531, -6.172999858856201, -6.178899765014648, -6.184500217437744, -6.1975998878479, -6.237599849700928, -6.29449987411499, -6.244999885559082, -6.317999839782715, -6.324399948120117, -6.387899875640869, -6.371300220489502, -6.393700122833252, -6.405799865722656, -6.454500198364258, -6.481200218200684, -6.481200218200684, -6.482900142669678, -6.461699962615967, -6.485300064086914, -6.490300178527832, -6.548500061035156, -6.506100177764893, -6.54640007019043, -6.5690999031066895, -6.559199810028076, -6.553999900817871, -7.093100070953369, -8.336199760437012, -8.624099731445312, -9.828300476074219, -9.085100173950195, -8.976900100708008, -9.885100364685059, -12.485600471496582, -7.838200092315674, -12.751399993896484, -8.832200050354004, -9.036499977111816, -8.575599670410156, -8.585700035095215, -10.435500144958496, -10.645600318908691, -9.850000381469727, -10.225199699401855, -11.22700023651123, -8.999799728393555, -8.702199935913086, -9.381699562072754, -9.207599639892578, -10.095000267028809, -9.812999725341797, -8.386099815368652, -11.95460033416748, -10.376799583435059, -10.571200370788574, -8.30090045928955, -5.980000019073486, -5.978600025177002, -6.043399810791016, -6.075500011444092, -6.1041998863220215, -6.184599876403809, -6.173299789428711, -6.197500228881836, -6.179299831390381, -6.23769998550415, -6.244900226593018, -6.294600009918213, -6.3180999755859375, -6.324900150299072, -6.371300220489502, -6.393799781799316, -6.405799865722656, -6.388400077819824, -6.454500198364258, -6.481200218200684, -6.485300064086914, -6.481500148773193, -6.4832000732421875, -6.461900234222412, -6.489999771118164, -6.50600004196167, -6.54640007019043, -6.553800106048584, -6.559199810028076, -6.548699855804443, -9.139100074768066, -9.673999786376953, -10.747400283813477, -11.175700187683105, -8.815099716186523, -9.4483003616333, -10.473299980163574, -9.250800132751465, -9.833900451660156, -10.170599937438965, -10.568099975585938, -8.746500015258789, -12.957599639892578, -11.288900375366211, -10.218299865722656, -12.466300010681152, -10.144399642944336, -8.422100067138672, -9.058199882507324, -9.844599723815918, -8.07390022277832, -10.195699691772461, -9.905599594116211, -9.154000282287598, -13.529899597167969, -9.593299865722656, -8.451299667358398, -11.155599594116211, -8.478400230407715, -9.301799774169922, -5.978400230407715, -5.980299949645996, -6.043399810791016, -6.075399875640869, -6.104499816894531, -6.178999900817871, -6.1732001304626465, -6.184800148010254, -6.197700023651123, -6.23769998550415, -6.244800090789795, -6.3246002197265625, -6.295300006866455, -6.318699836730957, -6.371399879455566, -6.388199806213379, -6.393799781799316, -6.406099796295166, -6.481299877166748, -6.4618000984191895, -6.454800128936768, -6.481500148773193, -6.489999771118164, -6.48330020904541, -6.4857001304626465, -6.50600004196167, -6.5467000007629395, -6.548900127410889, -6.559500217437744, -6.569499969482422, -6.5543999671936035, -11.707900047302246, -11.692399978637695, -11.142399787902832, -11.493900299072266, -11.525899887084961, -9.942500114440918, -9.163700103759766, -12.512999534606934, -11.777600288391113, -11.04010009765625, -10.704000473022461, -8.716899871826172, -11.541999816894531, -12.314900398254395, -12.145299911499023, -11.696200370788574, -11.156999588012695, -10.017900466918945, -9.626899719238281, -12.258099555969238, -12.319899559020996, -11.661399841308594, -12.213199615478516, -12.319600105285645, -11.148300170898438, -10.95580005645752, -11.002900123596191, -11.965800285339355, -10.864100456237793, -12.135000228881836, -5.980400085449219, -5.979100227355957, -6.043700218200684, -6.075799942016602, -6.104400157928467, -6.173399925231934, -6.184800148010254, -6.197700023651123, -6.179599761962891, -6.23799991607666, -6.244999885559082, -6.295100212097168, -6.318600177764893, -6.325099945068359, -6.371699810028076, -6.388599872589111, -6.394100189208984, -6.406400203704834, -6.454999923706055, -6.4816999435424805, -6.4816999435424805, -6.490200042724609, -6.485799789428711, -6.50600004196167, -6.48360013961792, -6.462399959564209, -6.559100151062012, -6.548999786376953, -6.569399833679199, -6.546899795532227, -6.5543999671936035, -20.47089958190918, -12.300299644470215, -11.578399658203125, -13.035799980163574, -13.421600341796875, -13.475500106811523, -11.84850025177002, -12.565400123596191, -11.934100151062012, -12.00570011138916, -12.30720043182373, -11.97599983215332, -12.472399711608887, -11.34160041809082, -12.7947998046875, -12.3951997756958, -11.855899810791016, -12.348899841308594, -11.774700164794922, -11.953900337219238, -11.53380012512207, -13.529199600219727, -12.009699821472168, -11.609600067138672, -12.175200462341309, -11.149900436401367, -11.42199993133545, -11.119999885559082, -12.82859992980957, -11.520999908447266, -5.978700160980225, -5.980599880218506, -6.043900012969971, -6.076099872589111, -6.104899883270264, -6.179299831390381, -6.173699855804443, -6.185100078582764, -6.19789981842041, -6.23799991607666, -6.245100021362305, -6.318600177764893, -6.295499801635742, -6.325300216674805, -6.388500213623047, -6.3719000816345215, -6.394199848175049, -6.406300067901611, -6.4618000984191895, -6.4552998542785645, -6.486000061035156, -6.490499973297119, -6.483799934387207, -6.548799991607666, -6.482399940490723, -6.506400108337402, -6.4822998046875, -6.559700012207031, -6.547100067138672, -6.554599761962891, -8.508399963378906, -8.501999855041504, -9.31089973449707, -8.564800262451172, -6.585700035095215, -8.392600059509277, -6.799499988555908, -7.37939977645874, -6.3709001541137695, -6.56879997253418, -7.848800182342529, -9.407400131225586, -7.4243998527526855, -8.228300094604492, -8.849699974060059, -8.948800086975098, -8.337499618530273, -9.540900230407715, -8.55270004272461, -8.022600173950195, -8.920900344848633, -7.63670015335083, -7.912799835205078, -8.296899795532227, -7.414899826049805, -8.832300186157227, -7.939000129699707, -9.000800132751465, -6.29449987411499, -10.057299613952637, -5.9781999588012695, -5.979899883270264, -6.0432000160217285, -6.075099945068359, -6.104100227355957, -6.179100036621094, -6.184700012207031, -6.173399925231934, -6.1975998878479, -6.24459981918335, -6.23769998550415, -6.324699878692627, -6.318299770355225, -6.387899875640869, -6.393599987030029, -6.405700206756592, -6.4542999267578125, -6.485199928283691, -6.481299877166748, -6.482999801635742, -6.505499839782715, -6.461900234222412, -6.4899001121521, -6.481500148773193, -6.546299934387207, -6.569200038909912, -6.548699855804443, -6.554100036621094, -6.559500217437744, -11.72189998626709, -9.857500076293945, -11.360799789428711, -10.92490005493164, -10.831100463867188, -12.090100288391113, -11.430999755859375, -20.472400665283203, -11.504400253295898, -11.864800453186035, -11.170700073242188, -9.529600143432617, -9.376899719238281, -12.226799964904785, -11.44540023803711, -10.68910026550293, -8.567999839782715, -9.769399642944336, -10.308099746704102, -11.026399612426758, -8.499199867248535, -9.261199951171875, -11.45110034942627, -10.040200233459473, -11.42080020904541, -11.757699966430664, -11.447099685668945, -9.790599822998047, -10.7947998046875, -11.726799964904785, -5.978600025177002, -5.980400085449219, -6.043799877166748, -6.075500011444092, -6.104400157928467, -6.173299789428711, -6.197500228881836, -6.184899806976318, -6.1793999671936035, -6.23769998550415, -6.244699954986572, -6.295100212097168, -6.318299770355225, -6.32480001449585, -6.388299942016602, -6.371699810028076, -6.394199848175049, -6.406199932098389, -6.46150016784668, -6.454800128936768, -6.481599807739258, -6.490099906921387, -6.483399868011475, -6.481800079345703, -6.485799789428711, -6.50600004196167, -6.553899765014648, -6.548900127410889, -6.5467000007629395, -6.569399833679199, -6.559700012207031, -12.279600143432617, -11.452500343322754, -12.378199577331543, -12.636500358581543, -11.595199584960938, -10.799200057983398, -12.090900421142578, -9.412799835205078, -11.249899864196777, -10.99839973449707, -12.23449993133545, -11.336000442504883, -10.814499855041504, -13.97920036315918, -10.074199676513672, -11.098899841308594, -10.324700355529785, -9.849699974060059, -11.939399719238281, -11.031499862670898, -10.79889965057373, -11.746199607849121, -12.736499786376953, -13.774700164794922, -11.529600143432617, -10.833000183105469, -12.863300323486328, -12.157999992370605, -10.961799621582031, -12.973199844360352, -5.978499889373779, -5.980400085449219, -6.043700218200684, -6.104499816894531, -6.076000213623047, -6.1793999671936035, -6.173699855804443, -6.19789981842041, -6.185299873352051, -6.244800090789795, -6.23799991607666, -6.32480001449585, -6.295300006866455, -6.318600177764893, -6.394000053405762, -6.371799945831299, -6.388700008392334, -6.406300067901611, -6.4618000984191895, -6.454899787902832, -6.490200042724609, -6.505899906158447, -6.48360013961792, -6.482100009918213, -6.486000061035156, -6.48199987411499, -6.554100036621094, -6.559800148010254, -6.549300193786621, -6.547100067138672, -20.470699310302734, -12.336799621582031, -12.435600280761719, -12.665499687194824, -11.108200073242188, -12.0802001953125, -13.449600219726562, -11.288299560546875, -11.36400032043457, -11.450599670410156, -11.30459976196289, -12.387499809265137, -13.111499786376953, -12.62440013885498, -12.43850040435791, -11.68589973449707, -12.28909969329834, -12.168700218200684, -13.304100036621094, -11.236300468444824, -12.17300033569336, -11.849599838256836, -11.295900344848633, -11.982199668884277, -11.880000114440918, -12.886899948120117, -11.981599807739258, -11.175200462341309, -10.227499961853027, -10.826299667358398, -5.978700160980225, -5.980800151824951, -6.043900012969971, -6.104700088500977, -6.076300144195557, -6.179200172424316, -6.173600196838379, -6.197800159454346, -6.185200214385986, -6.244800090789795, -6.238100051879883, -6.318399906158447, -6.295300006866455, -6.325300216674805, -6.394100189208984, -6.406199932098389, -6.388999938964844, -6.4618000984191895, -6.372499942779541, -6.490200042724609, -6.506100177764893, -6.483699798583984, -6.45550012588501, -6.4822001457214355, -6.486400127410889, -6.482500076293945, -6.559599876403809, -6.554500102996826, -6.549300193786621, -6.5472002029418945]}, \"token.table\": {\"Topic\": [1, 2, 3, 4, 5, 6, 7, 8, 9, 10, 1, 2, 3, 4, 5, 6, 7, 8, 9, 10, 1, 2, 3, 4, 5, 6, 7, 8, 9, 10, 1, 2, 3, 4, 5, 6, 7, 8, 9, 10, 1, 2, 3, 4, 5, 6, 7, 8, 9, 10, 1, 2, 3, 4, 5, 6, 7, 8, 9, 10, 1, 2, 3, 4, 5, 6, 7, 8, 9, 10, 1, 2, 3, 4, 5, 6, 7, 8, 9, 10, 1, 2, 3, 4, 5, 6, 7, 8, 9, 10, 1, 2, 3, 4, 5, 6, 7, 8, 9, 10, 1, 2, 3, 4, 5, 6, 7, 8, 9, 10, 1, 2, 3, 4, 5, 6, 7, 8, 9, 10, 1, 2, 3, 4, 5, 6, 7, 8, 9, 10, 1, 2, 3, 4, 5, 6, 7, 8, 9, 10, 1, 2, 3, 4, 5, 6, 7, 8, 9, 10, 1, 2, 3, 4, 5, 6, 7, 8, 9, 10, 1, 2, 3, 4, 5, 6, 7, 8, 9, 10, 1, 2, 3, 4, 5, 6, 7, 8, 9, 10, 1, 2, 3, 4, 5, 6, 7, 8, 9, 10, 1, 2, 3, 4, 5, 6, 7, 8, 9, 10, 1, 2, 3, 4, 5, 6, 7, 8, 9, 10, 1, 2, 3, 4, 5, 6, 7, 8, 9, 10, 1, 2, 3, 4, 5, 6, 7, 8, 9, 10, 1, 2, 3, 4, 5, 6, 7, 8, 9, 10, 1, 2, 3, 4, 5, 6, 7, 8, 9, 10, 1, 2, 3, 4, 5, 6, 7, 8, 9, 10, 1, 2, 3, 4, 5, 6, 7, 8, 9, 10, 1, 2, 3, 4, 5, 6, 7, 8, 9, 10, 1, 2, 3, 4, 5, 6, 7, 8, 9, 10, 1, 2, 3, 4, 5, 6, 7, 8, 9, 10, 1, 2, 3, 4, 5, 6, 7, 8, 9, 10, 1, 2, 3, 4, 5, 6, 7, 8, 9, 10, 1, 2, 3, 4, 5, 6, 7, 8, 9, 10, 1, 2, 3, 4, 5, 6, 7, 8, 9, 10, 1, 2, 3, 4, 5, 6, 7, 8, 9, 10, 1, 2, 3, 4, 5, 6, 7, 8, 9, 10, 1, 2, 3, 4, 5, 6, 7, 8, 9, 10, 1, 2, 3, 4, 5, 6, 7, 8, 9, 10, 1, 2, 3, 4, 5, 6, 7, 8, 9, 10, 1, 2, 3, 4, 5, 6, 7, 8, 9, 10, 1, 2, 3, 4, 5, 6, 7, 8, 9, 10, 1, 2, 3, 4, 5, 6, 7, 8, 9, 10, 1, 2, 3, 4, 5, 6, 7, 8, 9, 10, 1, 2, 3, 4, 5, 6, 7, 8, 9, 10, 1, 2, 3, 4, 5, 6, 7, 8, 9, 10, 1, 2, 3, 4, 5, 6, 7, 8, 9, 10, 1, 2, 3, 4, 5, 6, 7, 8, 9, 10, 1, 2, 3, 4, 5, 6, 7, 8, 9, 10, 1, 2, 3, 4, 5, 6, 7, 8, 9, 10, 1, 2, 3, 4, 5, 6, 7, 8, 9, 10, 1, 2, 3, 4, 5, 6, 7, 8, 9, 10, 1, 2, 3, 4, 5, 6, 7, 8, 9, 10, 1, 2, 3, 4, 5, 6, 7, 8, 9, 10, 1, 2, 3, 4, 5, 6, 7, 8, 9, 10, 1, 2, 3, 4, 5, 6, 7, 8, 9, 10, 1, 2, 3, 4, 5, 6, 7, 8, 9, 10, 1, 2, 3, 4, 5, 6, 7, 8, 9, 10, 1, 2, 3, 4, 5, 6, 7, 8, 9, 10, 1, 2, 3, 4, 5, 6, 7, 8, 9, 10, 1, 2, 3, 4, 5, 6, 7, 8, 9, 10, 1, 2, 3, 4, 5, 6, 7, 8, 9, 10, 1, 2, 3, 4, 5, 6, 7, 8, 9, 10, 1, 2, 3, 4, 5, 6, 7, 8, 9, 10, 1, 2, 3, 4, 5, 6, 7, 8, 9, 10, 1, 2, 3, 4, 5, 6, 7, 8, 9, 10, 1, 2, 3, 4, 5, 6, 7, 8, 9, 10, 1, 2, 3, 4, 5, 6, 7, 8, 9, 10, 1, 2, 3, 4, 5, 6, 7, 8, 9, 10, 1, 2, 3, 4, 5, 6, 7, 8, 9, 10, 1, 2, 3, 4, 5, 6, 7, 8, 9, 10, 1, 2, 3, 4, 5, 6, 7, 8, 9, 10, 1, 2, 3, 4, 5, 6, 7, 8, 9, 10, 1, 2, 3, 4, 5, 6, 7, 8, 9, 10, 1, 2, 3, 4, 5, 6, 7, 8, 9, 10, 1, 2, 3, 4, 5, 6, 7, 8, 9, 10, 1, 2, 3, 4, 5, 6, 7, 8, 9, 10, 1, 2, 3, 4, 5, 6, 7, 8, 9, 10, 1, 2, 3, 4, 5, 6, 7, 8, 9, 10, 1, 2, 3, 4, 5, 6, 7, 8, 9, 10, 1, 2, 3, 4, 5, 6, 7, 8, 9, 10, 1, 2, 3, 4, 5, 6, 7, 8, 9, 10, 1, 2, 3, 4, 5, 6, 7, 8, 9, 10, 1, 2, 3, 4, 5, 6, 7, 8, 9, 10, 1, 2, 3, 4, 5, 6, 7, 8, 9, 10, 1, 2, 3, 4, 5, 6, 7, 8, 9, 10, 1, 2, 3, 4, 5, 6, 7, 8, 9, 10, 1, 2, 3, 4, 5, 6, 7, 8, 9, 10, 1, 2, 3, 4, 5, 6, 7, 8, 9, 10, 1, 2, 3, 4, 5, 6, 7, 8, 9, 10, 1, 2, 3, 4, 5, 6, 7, 8, 9, 10, 1, 2, 3, 4, 5, 6, 7, 8, 9, 10, 1, 2, 3, 4, 5, 6, 7, 8, 9, 10, 1, 2, 3, 4, 5, 6, 7, 8, 9, 10, 1, 2, 3, 4, 5, 6, 7, 8, 9, 10, 1, 2, 3, 4, 5, 6, 7, 8, 9, 10, 1, 2, 3, 4, 5, 6, 7, 8, 9, 10, 1, 2, 3, 4, 5, 6, 7, 8, 9, 10, 1, 2, 3, 4, 5, 6, 7, 8, 9, 10, 1, 2, 3, 4, 5, 6, 7, 8, 9, 10, 1, 2, 3, 4, 5, 6, 7, 8, 9, 10, 1, 2, 3, 4, 5, 6, 7, 8, 9, 10, 1, 2, 3, 4, 5, 6, 7, 8, 9, 10, 1, 2, 3, 4, 5, 6, 7, 8, 9, 10, 1, 2, 3, 4, 5, 6, 7, 8, 9, 10, 1, 2, 3, 4, 5, 6, 7, 8, 9, 10, 1, 2, 3, 4, 5, 6, 7, 8, 9, 10, 1, 2, 3, 4, 5, 6, 7, 8, 9, 10, 1, 2, 3, 4, 5, 6, 7, 8, 9, 10, 1, 2, 3, 4, 5, 6, 7, 8, 9, 10, 1, 2, 3, 4, 5, 6, 7, 8, 9, 10, 1, 2, 3, 4, 5, 6, 7, 8, 9, 10, 1, 2, 3, 4, 5, 6, 7, 8, 9, 10, 1, 2, 3, 4, 5, 6, 7, 8, 9, 10, 1, 2, 3, 4, 5, 6, 7, 8, 9, 10, 1, 2, 3, 4, 5, 6, 7, 8, 9, 10, 1, 2, 3, 4, 5, 6, 7, 8, 9, 10, 1, 2, 3, 4, 5, 6, 7, 8, 9, 10, 1, 2, 3, 4, 5, 6, 7, 8, 9, 10, 1, 2, 3, 4, 5, 6, 7, 8, 9, 10, 1, 2, 3, 4, 5, 6, 7, 8, 9, 10, 1, 2, 3, 4, 5, 6, 7, 8, 9, 10, 1, 2, 3, 4, 5, 6, 7, 8, 9, 10, 1, 2, 3, 4, 5, 6, 7, 8, 9, 10, 1, 2, 3, 4, 5, 6, 7, 8, 9, 10, 1, 2, 3, 4, 5, 6, 7, 8, 9, 10, 1, 2, 3, 4, 5, 6, 7, 8, 9, 10, 1, 2, 3, 4, 5, 6, 7, 8, 9, 10, 1, 2, 3, 4, 5, 6, 7, 8, 9, 10, 1, 2, 3, 4, 5, 6, 7, 8, 9, 10, 1, 2, 3, 4, 5, 6, 7, 8, 9, 10, 1, 2, 3, 4, 5, 6, 7, 8, 9, 10, 1, 2, 3, 4, 5, 6, 7, 8, 9, 10, 1, 2, 3, 4, 5, 6, 7, 8, 9, 10, 1, 2, 3, 4, 5, 6, 7, 8, 9, 10, 1, 2, 3, 4, 5, 6, 7, 8, 9, 10, 1, 2, 3, 4, 5, 6, 7, 8, 9, 10, 1, 2, 3, 4, 5, 6, 7, 8, 9, 10, 1, 2, 3, 4, 5, 6, 7, 8, 9, 10, 1, 2, 3, 4, 5, 6, 7, 8, 9, 10, 1, 2, 3, 4, 5, 6, 7, 8, 9, 10, 1, 2, 3, 4, 5, 6, 7, 8, 9, 10, 1, 2, 3, 4, 5, 6, 7, 8, 9, 10, 1, 2, 3, 4, 5, 6, 7, 8, 9, 10, 1, 2, 3, 4, 5, 6, 7, 8, 9, 10, 1, 2, 3, 4, 5, 6, 7, 8, 9, 10, 1, 2, 3, 4, 5, 6, 7, 8, 9, 10, 1, 2, 3, 4, 5, 6, 7, 8, 9, 10, 1, 2, 3, 4, 5, 6, 7, 8, 9, 10, 1, 2, 3, 4, 5, 6, 7, 8, 9, 10, 1, 2, 3, 4, 5, 6, 7, 8, 9, 10, 1, 2, 3, 4, 5, 6, 7, 8, 9, 10, 1, 2, 3, 4, 5, 6, 7, 8, 9, 10, 1, 2, 3, 4, 5, 6, 7, 8, 9, 10, 1, 2, 3, 4, 5, 6, 7, 8, 9, 10, 1, 2, 3, 4, 5, 6, 7, 8, 9, 10, 1, 2, 3, 4, 5, 6, 7, 8, 9, 10, 1, 2, 3, 4, 5, 6, 7, 8, 9, 10, 1, 2, 3, 4, 5, 6, 7, 8, 9, 10, 1, 2, 3, 4, 5, 6, 7, 8, 9, 10, 1, 2, 3, 4, 5, 6, 7, 8, 9, 10, 1, 2, 3, 4, 5, 6, 7, 8, 9, 10, 1, 2, 3, 4, 5, 6, 7, 8, 9, 10, 1, 2, 3, 4, 5, 6, 7, 8, 9, 10, 1, 2, 3, 4, 5, 6, 7, 8, 9, 10, 1, 2, 3, 4, 5, 6, 7, 8, 9, 10, 1, 2, 3, 4, 5, 6, 7, 8, 9, 10, 1, 2, 3, 4, 5, 6, 7, 8, 9, 10, 1, 2, 3, 4, 5, 6, 7, 8, 9, 10, 1, 2, 3, 4, 5, 6, 7, 8, 9, 10, 1, 2, 3, 4, 5, 6, 7, 8, 9, 10, 1, 2, 3, 4, 5, 6, 7, 8, 9, 10, 1, 2, 3, 4, 5, 6, 7, 8, 9, 10, 1, 2, 3, 4, 5, 6, 7, 8, 9, 10, 1, 2, 3, 4, 5, 6, 7, 8, 9, 10, 1, 2, 3, 4, 5, 6, 7, 8, 9, 10, 1, 2, 3, 4, 5, 6, 7, 8, 9, 10, 1, 2, 3, 4, 5, 6, 7, 8, 9, 10, 1, 2, 3, 4, 5, 6, 7, 8, 9, 10, 1, 2, 3, 4, 5, 6, 7, 8, 9, 10, 1, 2, 3, 4, 5, 6, 7, 8, 9, 10, 1, 2, 3, 4, 5, 6, 7, 8, 9, 10, 1, 2, 3, 4, 5, 6, 7, 8, 9, 10, 1, 2, 3, 4, 5, 6, 7, 8, 9, 10, 1, 2, 3, 4, 5, 6, 7, 8, 9, 10, 1, 2, 3, 4, 5, 6, 7, 8, 9, 10, 1, 2, 3, 4, 5, 6, 7, 8, 9, 10, 1, 2, 3, 4, 5, 6, 7, 8, 9, 10, 1, 2, 3, 4, 5, 6, 7, 8, 9, 10, 1, 2, 3, 4, 5, 6, 7, 8, 9, 10, 1, 2, 3, 4, 5, 6, 7, 8, 9, 10, 1, 2, 3, 4, 5, 6, 7, 8, 9, 10, 1, 2, 3, 4, 5, 6, 7, 8, 9, 10, 1, 2, 3, 4, 5, 6, 7, 8, 9, 10, 1, 2, 3, 4, 5, 6, 7, 8, 9, 10, 1, 2, 3, 4, 5, 6, 7, 8, 9, 10, 1, 2, 3, 4, 5, 6, 7, 8, 9, 10, 1, 2, 3, 4, 5, 6, 7, 8, 9, 10, 1, 2, 3, 4, 5, 6, 7, 8, 9, 10, 1, 2, 3, 4, 5, 6, 7, 8, 9, 10, 1, 2, 3, 4, 5, 6, 7, 8, 9, 10, 1, 2, 3, 4, 5, 6, 7, 8, 9, 10, 1, 2, 3, 4, 5, 6, 7, 8, 9, 10, 1, 2, 3, 4, 5, 6, 7, 8, 9, 10, 1, 2, 3, 4, 5, 6, 7, 8, 9, 10, 1, 2, 3, 4, 5, 6, 7, 8, 9, 10, 1, 2, 3, 4, 5, 6, 7, 8, 9, 10, 1, 2, 3, 4, 5, 6, 7, 8, 9, 10, 1, 2, 3, 4, 5, 6, 7, 8, 9, 10, 1, 2, 3, 4, 5, 6, 7, 8, 9, 10, 1, 2, 3, 4, 5, 6, 7, 8, 9, 10, 1, 2, 3, 4, 5, 6, 7, 8, 9, 10, 1, 2, 3, 4, 5, 6, 7, 8, 9, 10, 1, 2, 3, 4, 5, 6, 7, 8, 9, 10, 1, 2, 3, 4, 5, 6, 7, 8, 9, 10, 1, 2, 3, 4, 5, 6, 7, 8, 9, 10, 1, 2, 3, 4, 5, 6, 7, 8, 9, 10, 1, 2, 3, 4, 5, 6, 7, 8, 9, 10, 1, 2, 3, 4, 5, 6, 7, 8, 9, 10, 1, 2, 3, 4, 5, 6, 7, 8, 9, 10, 1, 2, 3, 4, 5, 6, 7, 8, 9, 10, 1, 2, 3, 4, 5, 6, 7, 8, 9, 10, 1, 2, 3, 4, 5, 6, 7, 8, 9, 10, 1, 2, 3, 4, 5, 6, 7, 8, 9, 10, 1, 2, 3, 4, 5, 6, 7, 8, 9, 10, 1, 2, 3, 4, 5, 6, 7, 8, 9, 10, 1, 2, 3, 4, 5, 6, 7, 8, 9, 10, 1, 2, 3, 4, 5, 6, 7, 8, 9, 10, 1, 2, 3, 4, 5, 6, 7, 8, 9, 10, 1, 2, 3, 4, 5, 6, 7, 8, 9, 10, 1, 2, 3, 4, 5, 6, 7, 8, 9, 10, 1, 2, 3, 4, 5, 6, 7, 8, 9, 10, 1, 2, 3, 4, 5, 6, 7, 8, 9, 10, 1, 2, 3, 4, 5, 6, 7, 8, 9, 10, 1, 2, 3, 4, 5, 6, 7, 8, 9, 10, 1, 2, 3, 4, 5, 6, 7, 8, 9, 10, 1, 2, 3, 4, 5, 6, 7, 8, 9, 10, 1, 2, 3, 4, 5, 6, 7, 8, 9, 10, 1, 2, 3, 4, 5, 6, 7, 8, 9, 10, 1, 2, 3, 4, 5, 6, 7, 8, 9, 10, 1, 2, 3, 4, 5, 6, 7, 8, 9, 10, 1, 2, 3, 4, 5, 6, 7, 8, 9, 10, 1, 2, 3, 4, 5, 6, 7, 8, 9, 10, 1, 2, 3, 4, 5, 6, 7, 8, 9, 10, 1, 2, 3, 4, 5, 6, 7, 8, 9, 10, 1, 2, 3, 4, 5, 6, 7, 8, 9, 10, 1, 2, 3, 4, 5, 6, 7, 8, 9, 10, 1, 2, 3, 4, 5, 6, 7, 8, 9, 10, 1, 2, 3, 4, 5, 6, 7, 8, 9, 10, 1, 2, 3, 4, 5, 6, 7, 8, 9, 10, 1, 2, 3, 4, 5, 6, 7, 8, 9, 10, 1, 2, 3, 4, 5, 6, 7, 8, 9, 10, 1, 2, 3, 4, 5, 6, 7, 8, 9, 10, 1, 2, 3, 4, 5, 6, 7, 8, 9, 10, 1, 2, 3, 4, 5, 6, 7, 8, 9, 10, 1, 2, 3, 4, 5, 6, 7, 8, 9, 10, 1, 2, 3, 4, 5, 6, 7, 8, 9, 10, 1, 2, 3, 4, 5, 6, 7, 8, 9, 10, 1, 2, 3, 4, 5, 6, 7, 8, 9, 10, 1, 2, 3, 4, 5, 6, 7, 8, 9, 10, 1, 2, 3, 4, 5, 6, 7, 8, 9, 10, 1, 2, 3, 4, 5, 6, 7, 8, 9, 10, 1, 2, 3, 4, 5, 6, 7, 8, 9, 10, 1, 2, 3, 4, 5, 6, 7, 8, 9, 10, 1, 2, 3, 4, 5, 6, 7, 8, 9, 10, 1, 2, 3, 4, 5, 6, 7, 8, 9, 10, 1, 2, 3, 4, 5, 6, 7, 8, 9, 10, 1, 2, 3, 4, 5, 6, 7, 8, 9, 10, 1, 2, 3, 4, 5, 6, 7, 8, 9, 10, 1, 2, 3, 4, 5, 6, 7, 8, 9, 10, 1, 2, 3, 4, 5, 6, 7, 8, 9, 10, 1, 2, 3, 4, 5, 6, 7, 8, 9, 10, 1, 2, 3, 4, 5, 6, 7, 8, 9, 10, 1, 2, 3, 4, 5, 6, 7, 8, 9, 10, 1, 2, 3, 4, 5, 6, 7, 8, 9, 10, 1, 2, 3, 4, 5, 6, 7, 8, 9, 10, 1, 2, 3, 4, 5, 6, 7, 8, 9, 10, 1, 2, 3, 4, 5, 6, 7, 8, 9, 10, 1, 2, 3, 4, 5, 6, 7, 8, 9, 10, 1, 2, 3, 4, 5, 6, 7, 8, 9, 10, 1, 2, 3, 4, 5, 6, 7, 8, 9, 10, 1, 2, 3, 4, 5, 6, 7, 8, 9, 10, 1, 2, 3, 4, 5, 6, 7, 8, 9, 10, 1, 2, 3, 4, 5, 6, 7, 8, 9, 10, 1, 2, 3, 4, 5, 6, 7, 8, 9, 10, 1, 2, 3, 4, 5, 6, 7, 8, 9, 10, 1, 2, 3, 4, 5, 6, 7, 8, 9, 10, 1, 2, 3, 4, 5, 6, 7, 8, 9, 10, 1, 2, 3, 4, 5, 6, 7, 8, 9, 10, 1, 2, 3, 4, 5, 6, 7, 8, 9, 10, 1, 2, 3, 4, 5, 6, 7, 8, 9, 10, 1, 2, 3, 4, 5, 6, 7, 8, 9, 10, 1, 2, 3, 4, 5, 6, 7, 8, 9, 10, 1, 2, 3, 4, 5, 6, 7, 8, 9, 10, 1, 2, 3, 4, 5, 6, 7, 8, 9, 10, 1, 2, 3, 4, 5, 6, 7, 8, 9, 10, 1, 2, 3, 4, 5, 6, 7, 8, 9, 10, 1, 2, 3, 4, 5, 6, 7, 8, 9, 10, 1, 2, 3, 4, 5, 6, 7, 8, 9, 10, 1, 2, 3, 4, 5, 6, 7, 8, 9, 10, 1, 2, 3, 4, 5, 6, 7, 8, 9, 10, 1, 2, 3, 4, 5, 6, 7, 8, 9, 10, 1, 2, 3, 4, 5, 6, 7, 8, 9, 10, 1, 2, 3, 4, 5, 6, 7, 8, 9, 10], \"Freq\": [0.10291413962841034, 0.10291413962841034, 0.10291413962841034, 0.10291413962841034, 0.10291413962841034, 0.10291413962841034, 0.10291413962841034, 0.10291413962841034, 0.10291413962841034, 0.10291413962841034, 0.10952011495828629, 0.10952011495828629, 0.10952011495828629, 0.10952011495828629, 0.10952011495828629, 0.10952011495828629, 0.10952011495828629, 0.10952011495828629, 0.10952011495828629, 0.10952011495828629, 0.10015484690666199, 0.10015484690666199, 0.10015484690666199, 0.10015484690666199, 0.10015484690666199, 0.10015484690666199, 0.10015484690666199, 0.10015484690666199, 0.10015484690666199, 0.10015484690666199, 0.10003726184368134, 0.10003726184368134, 0.10003726184368134, 0.10003726184368134, 0.10003726184368134, 0.10003726184368134, 0.10003726184368134, 0.10003726184368134, 0.10003726184368134, 0.10003726184368134, 0.09921101480722427, 0.09921101480722427, 0.09921101480722427, 0.09921101480722427, 0.09921101480722427, 0.09921101480722427, 0.09921101480722427, 0.09921101480722427, 0.09921101480722427, 0.09921101480722427, 0.10779210180044174, 0.10779210180044174, 0.10779210180044174, 0.10779210180044174, 0.10779210180044174, 0.10779210180044174, 0.10779210180044174, 0.10779210180044174, 0.10779210180044174, 0.10779210180044174, 0.09349972754716873, 0.09349972754716873, 0.09349972754716873, 0.09349972754716873, 0.09349972754716873, 0.09349972754716873, 0.09349972754716873, 0.09349972754716873, 0.09349972754716873, 0.09349972754716873, 0.18784931302070618, 0.18784931302070618, 0.18784931302070618, 0.18784931302070618, 0.18784931302070618, 0.18784931302070618, 0.18784931302070618, 0.18784931302070618, 0.18784931302070618, 0.18784931302070618, 0.09941530972719193, 0.09941530972719193, 0.09941530972719193, 0.09941530972719193, 0.09941530972719193, 0.09941530972719193, 0.09941530972719193, 0.09941530972719193, 0.09941530972719193, 0.09941530972719193, 0.1026453971862793, 0.1026453971862793, 0.1026453971862793, 0.1026453971862793, 0.1026453971862793, 0.1026453971862793, 0.1026453971862793, 0.1026453971862793, 0.1026453971862793, 0.1026453971862793, 0.10004723072052002, 0.10004723072052002, 0.10004723072052002, 0.10004723072052002, 0.10004723072052002, 0.10004723072052002, 0.10004723072052002, 0.10004723072052002, 0.10004723072052002, 0.10004723072052002, 0.08140835165977478, 0.08140835165977478, 0.08140835165977478, 0.08140835165977478, 0.08140835165977478, 0.08140835165977478, 0.08140835165977478, 0.08140835165977478, 0.08140835165977478, 0.08140835165977478, 0.0758133977651596, 0.0758133977651596, 0.0758133977651596, 0.0758133977651596, 0.0758133977651596, 0.0758133977651596, 0.0758133977651596, 0.0758133977651596, 0.0758133977651596, 0.0758133977651596, 0.10036363452672958, 0.10036363452672958, 0.09973636269569397, 0.09973636269569397, 0.09973636269569397, 0.09973636269569397, 0.09973636269569397, 0.09973636269569397, 0.09973636269569397, 0.09973636269569397, 0.09978025406599045, 0.09978025406599045, 0.09978025406599045, 0.09978025406599045, 0.09978025406599045, 0.09978025406599045, 0.09978025406599045, 0.09978025406599045, 0.09978025406599045, 0.09978025406599045, 0.13341756165027618, 0.13341756165027618, 0.13341756165027618, 0.13341756165027618, 0.13341756165027618, 0.13341756165027618, 0.13341756165027618, 0.13341756165027618, 0.13341756165027618, 0.13341756165027618, 0.08194121718406677, 0.08194121718406677, 0.08194121718406677, 0.08194121718406677, 0.08194121718406677, 0.08194121718406677, 0.08194121718406677, 0.08194121718406677, 0.08194121718406677, 0.08194121718406677, 0.12703368067741394, 0.12703368067741394, 0.12703368067741394, 0.12703368067741394, 0.12703368067741394, 0.12703368067741394, 0.12703368067741394, 0.12703368067741394, 0.12703368067741394, 0.12703368067741394, 0.12716300785541534, 0.12716300785541534, 0.12716300785541534, 0.12716300785541534, 0.12716300785541534, 0.12716300785541534, 0.12716300785541534, 0.12716300785541534, 0.12716300785541534, 0.12716300785541534, 0.07000305503606796, 0.07000305503606796, 0.07000305503606796, 0.07000305503606796, 0.07000305503606796, 0.07000305503606796, 0.07000305503606796, 0.07000305503606796, 0.07000305503606796, 0.07000305503606796, 0.0991976335644722, 0.0991976335644722, 0.0991976335644722, 0.0991976335644722, 0.0991976335644722, 0.0991976335644722, 0.0991976335644722, 0.0991976335644722, 0.0991976335644722, 0.0991976335644722, 0.10024400055408478, 0.10024400055408478, 0.10024400055408478, 0.10024400055408478, 0.10024400055408478, 0.10024400055408478, 0.10024400055408478, 0.10024400055408478, 0.10024400055408478, 0.10024400055408478, 0.08834734559059143, 0.08834734559059143, 0.08834734559059143, 0.08834734559059143, 0.08834734559059143, 0.08834734559059143, 0.08834734559059143, 0.08834734559059143, 0.08834734559059143, 0.08834734559059143, 0.10229063779115677, 0.10229063779115677, 0.10229063779115677, 0.10229063779115677, 0.10229063779115677, 0.10229063779115677, 0.10229063779115677, 0.10229063779115677, 0.10229063779115677, 0.10229063779115677, 0.17994581162929535, 0.17994581162929535, 0.17994581162929535, 0.17994581162929535, 0.17994581162929535, 0.17994581162929535, 0.17994581162929535, 0.17994581162929535, 0.17994581162929535, 0.17994581162929535, 0.10447876155376434, 0.10447876155376434, 0.10447876155376434, 0.10447876155376434, 0.10447876155376434, 0.10447876155376434, 0.10447876155376434, 0.10447876155376434, 0.10447876155376434, 0.10447876155376434, 0.10107202082872391, 0.10107202082872391, 0.10107202082872391, 0.10107202082872391, 0.10107202082872391, 0.10107202082872391, 0.10107202082872391, 0.10107202082872391, 0.10107202082872391, 0.10107202082872391, 0.10027041286230087, 0.10027041286230087, 0.09971024096012115, 0.10027041286230087, 0.09971024096012115, 0.09971024096012115, 0.10027041286230087, 0.10027041286230087, 0.10027041286230087, 0.09971024096012115, 0.11479764431715012, 0.11479764431715012, 0.11479764431715012, 0.11479764431715012, 0.11479764431715012, 0.11479764431715012, 0.11479764431715012, 0.11479764431715012, 0.11479764431715012, 0.11479764431715012, 0.138984814286232, 0.138984814286232, 0.138984814286232, 0.138984814286232, 0.138984814286232, 0.138984814286232, 0.138984814286232, 0.138984814286232, 0.138984814286232, 0.138984814286232, 0.10112472623586655, 0.10112472623586655, 0.10112472623586655, 0.10112472623586655, 0.10112472623586655, 0.10112472623586655, 0.10112472623586655, 0.10112472623586655, 0.10112472623586655, 0.10112472623586655, 0.1778242588043213, 0.1778242588043213, 0.1778242588043213, 0.1778242588043213, 0.1778242588043213, 0.1778242588043213, 0.1778242588043213, 0.1778242588043213, 0.1778242588043213, 0.1778242588043213, 0.09759527444839478, 0.09759527444839478, 0.09759527444839478, 0.09759527444839478, 0.09759527444839478, 0.09759527444839478, 0.09759527444839478, 0.09759527444839478, 0.09759527444839478, 0.09759527444839478, 0.10252134501934052, 0.10252134501934052, 0.10252134501934052, 0.10252134501934052, 0.10252134501934052, 0.10252134501934052, 0.10252134501934052, 0.10252134501934052, 0.10252134501934052, 0.10252134501934052, 0.11057233065366745, 0.11057233065366745, 0.11057233065366745, 0.11057233065366745, 0.11057233065366745, 0.11057233065366745, 0.11057233065366745, 0.11057233065366745, 0.11057233065366745, 0.11057233065366745, 0.09929994493722916, 0.09929994493722916, 0.09929994493722916, 0.09929994493722916, 0.09929994493722916, 0.09929994493722916, 0.09929994493722916, 0.09929994493722916, 0.09929994493722916, 0.09929994493722916, 0.11895100772380829, 0.11895100772380829, 0.11895100772380829, 0.11895100772380829, 0.11895100772380829, 0.11895100772380829, 0.11895100772380829, 0.11895100772380829, 0.11895100772380829, 0.11895100772380829, 0.10103021562099457, 0.10103021562099457, 0.10103021562099457, 0.10103021562099457, 0.10103021562099457, 0.10103021562099457, 0.10103021562099457, 0.10103021562099457, 0.10103021562099457, 0.10103021562099457, 0.12323198467493057, 0.12323198467493057, 0.12323198467493057, 0.12323198467493057, 0.12323198467493057, 0.12323198467493057, 0.12323198467493057, 0.12323198467493057, 0.12323198467493057, 0.12323198467493057, 0.09848206490278244, 0.09848206490278244, 0.09848206490278244, 0.09848206490278244, 0.09848206490278244, 0.09848206490278244, 0.09848206490278244, 0.09848206490278244, 0.09848206490278244, 0.09848206490278244, 0.09580212086439133, 0.09580212086439133, 0.09580212086439133, 0.09580212086439133, 0.09580212086439133, 0.09580212086439133, 0.09580212086439133, 0.09580212086439133, 0.09580212086439133, 0.09580212086439133, 0.11408542096614838, 0.11408542096614838, 0.11408542096614838, 0.11408542096614838, 0.11408542096614838, 0.11408542096614838, 0.11408542096614838, 0.11408542096614838, 0.11408542096614838, 0.11408542096614838, 0.0999230444431305, 0.0999230444431305, 0.0999230444431305, 0.0999230444431305, 0.0999230444431305, 0.0999230444431305, 0.0999230444431305, 0.0999230444431305, 0.0999230444431305, 0.0999230444431305, 0.07111604511737823, 0.07111604511737823, 0.07111604511737823, 0.07111604511737823, 0.07111604511737823, 0.07111604511737823, 0.07111604511737823, 0.07111604511737823, 0.07111604511737823, 0.07111604511737823, 0.0998680517077446, 0.0998680517077446, 0.0998680517077446, 0.0998680517077446, 0.0998680517077446, 0.0998680517077446, 0.0998680517077446, 0.0998680517077446, 0.0998680517077446, 0.0998680517077446, 0.10339666903018951, 0.10339666903018951, 0.10339666903018951, 0.10339666903018951, 0.10339666903018951, 0.10339666903018951, 0.10339666903018951, 0.10339666903018951, 0.10339666903018951, 0.10339666903018951, 0.10018420219421387, 0.10018420219421387, 0.10018420219421387, 0.10018420219421387, 0.10018420219421387, 0.10018420219421387, 0.10018420219421387, 0.10018420219421387, 0.10018420219421387, 0.10018420219421387, 0.09846000373363495, 0.09846000373363495, 0.09846000373363495, 0.09846000373363495, 0.09846000373363495, 0.09846000373363495, 0.09846000373363495, 0.09846000373363495, 0.09846000373363495, 0.09846000373363495, 0.08348611742258072, 0.08348611742258072, 0.08348611742258072, 0.08348611742258072, 0.08348611742258072, 0.08348611742258072, 0.08348611742258072, 0.08348611742258072, 0.08348611742258072, 0.08348611742258072, 0.10426991432905197, 0.10426991432905197, 0.10426991432905197, 0.10426991432905197, 0.10426991432905197, 0.10426991432905197, 0.10426991432905197, 0.10426991432905197, 0.10426991432905197, 0.10426991432905197, 0.1286552995443344, 0.1286552995443344, 0.1286552995443344, 0.1286552995443344, 0.1286552995443344, 0.1286552995443344, 0.1286552995443344, 0.1286552995443344, 0.1286552995443344, 0.1286552995443344, 0.119505375623703, 0.119505375623703, 0.119505375623703, 0.119505375623703, 0.119505375623703, 0.119505375623703, 0.119505375623703, 0.119505375623703, 0.119505375623703, 0.119505375623703, 0.09645567834377289, 0.09645567834377289, 0.09645567834377289, 0.09645567834377289, 0.09645567834377289, 0.09645567834377289, 0.09645567834377289, 0.09645567834377289, 0.09645567834377289, 0.09645567834377289, 0.10844163596630096, 0.10844163596630096, 0.10844163596630096, 0.10844163596630096, 0.10844163596630096, 0.10844163596630096, 0.10844163596630096, 0.10844163596630096, 0.10844163596630096, 0.10844163596630096, 0.09998171776533127, 0.09998171776533127, 0.09998171776533127, 0.09998171776533127, 0.09998171776533127, 0.09998171776533127, 0.09998171776533127, 0.09998171776533127, 0.09998171776533127, 0.09998171776533127, 0.10686540603637695, 0.10686540603637695, 0.10686540603637695, 0.10686540603637695, 0.10686540603637695, 0.10686540603637695, 0.10686540603637695, 0.10686540603637695, 0.10686540603637695, 0.10686540603637695, 0.08316107839345932, 0.08316107839345932, 0.08316107839345932, 0.08316107839345932, 0.08316107839345932, 0.08316107839345932, 0.08316107839345932, 0.08316107839345932, 0.08316107839345932, 0.08316107839345932, 0.08181674778461456, 0.08181674778461456, 0.08181674778461456, 0.08181674778461456, 0.08181674778461456, 0.08181674778461456, 0.08181674778461456, 0.08181674778461456, 0.08181674778461456, 0.08181674778461456, 0.09994044154882431, 0.09994044154882431, 0.09994044154882431, 0.09994044154882431, 0.09994044154882431, 0.09994044154882431, 0.09994044154882431, 0.09994044154882431, 0.09994044154882431, 0.09994044154882431, 0.10086030513048172, 0.10086030513048172, 0.10086030513048172, 0.10086030513048172, 0.10086030513048172, 0.10086030513048172, 0.10086030513048172, 0.10086030513048172, 0.10086030513048172, 0.10086030513048172, 0.0999930277466774, 0.0999930277466774, 0.0999930277466774, 0.0999930277466774, 0.0999930277466774, 0.0999930277466774, 0.0999930277466774, 0.0999930277466774, 0.0999930277466774, 0.0999930277466774, 0.1476600617170334, 0.1476600617170334, 0.1476600617170334, 0.1476600617170334, 0.1476600617170334, 0.1476600617170334, 0.1476600617170334, 0.1476600617170334, 0.1476600617170334, 0.1476600617170334, 0.09350249171257019, 0.09350249171257019, 0.09350249171257019, 0.09350249171257019, 0.09350249171257019, 0.09350249171257019, 0.09350249171257019, 0.09350249171257019, 0.09350249171257019, 0.09350249171257019, 0.0998409315943718, 0.0998409315943718, 0.0998409315943718, 0.0998409315943718, 0.0998409315943718, 0.0998409315943718, 0.0998409315943718, 0.0998409315943718, 0.0998409315943718, 0.0998409315943718, 0.10016639530658722, 0.10016639530658722, 0.10016639530658722, 0.10016639530658722, 0.10016639530658722, 0.10016639530658722, 0.10016639530658722, 0.10016639530658722, 0.10016639530658722, 0.10016639530658722, 0.1000024676322937, 0.1000024676322937, 0.1000024676322937, 0.1000024676322937, 0.1000024676322937, 0.1000024676322937, 0.1000024676322937, 0.1000024676322937, 0.1000024676322937, 0.1000024676322937, 0.09991110861301422, 0.09991110861301422, 0.09991110861301422, 0.09991110861301422, 0.09991110861301422, 0.09991110861301422, 0.09991110861301422, 0.09991110861301422, 0.09991110861301422, 0.09991110861301422, 0.12950944900512695, 0.12950944900512695, 0.12950944900512695, 0.12950944900512695, 0.12950944900512695, 0.12950944900512695, 0.12950944900512695, 0.12950944900512695, 0.12950944900512695, 0.12950944900512695, 0.1185280829668045, 0.1185280829668045, 0.1185280829668045, 0.1185280829668045, 0.1185280829668045, 0.1185280829668045, 0.1185280829668045, 0.1185280829668045, 0.1185280829668045, 0.1185280829668045, 0.09420141577720642, 0.09420141577720642, 0.09420141577720642, 0.09420141577720642, 0.09420141577720642, 0.09420141577720642, 0.09420141577720642, 0.09420141577720642, 0.09420141577720642, 0.09420141577720642, 0.082464799284935, 0.082464799284935, 0.082464799284935, 0.082464799284935, 0.082464799284935, 0.082464799284935, 0.082464799284935, 0.082464799284935, 0.082464799284935, 0.082464799284935, 0.10001634806394577, 0.10001634806394577, 0.10001634806394577, 0.10001634806394577, 0.10001634806394577, 0.10001634806394577, 0.10001634806394577, 0.10001634806394577, 0.10001634806394577, 0.10001634806394577, 0.10008871555328369, 0.10008871555328369, 0.10008871555328369, 0.10008871555328369, 0.10008871555328369, 0.09985756129026413, 0.10008871555328369, 0.10008871555328369, 0.10008871555328369, 0.09985756129026413, 0.10068085789680481, 0.10068085789680481, 0.10068085789680481, 0.10068085789680481, 0.10068085789680481, 0.10068085789680481, 0.10068085789680481, 0.10068085789680481, 0.10068085789680481, 0.10068085789680481, 0.09898922592401505, 0.09898922592401505, 0.09898922592401505, 0.09898922592401505, 0.09898922592401505, 0.09898922592401505, 0.09898922592401505, 0.09898922592401505, 0.09898922592401505, 0.09898922592401505, 0.07211018353700638, 0.07211018353700638, 0.07211018353700638, 0.07211018353700638, 0.07211018353700638, 0.07211018353700638, 0.07211018353700638, 0.07211018353700638, 0.07211018353700638, 0.07211018353700638, 0.0878681093454361, 0.0878681093454361, 0.0878681093454361, 0.0878681093454361, 0.0878681093454361, 0.0878681093454361, 0.0878681093454361, 0.0878681093454361, 0.0878681093454361, 0.0878681093454361, 0.1001194417476654, 0.1001194417476654, 0.1001194417476654, 0.1001194417476654, 0.1001194417476654, 0.1001194417476654, 0.1001194417476654, 0.1001194417476654, 0.1001194417476654, 0.1001194417476654, 0.10003599524497986, 0.10003599524497986, 0.10003599524497986, 0.10003599524497986, 0.10003599524497986, 0.10003599524497986, 0.10003599524497986, 0.10003599524497986, 0.10003599524497986, 0.10003599524497986, 0.10075078159570694, 0.10075078159570694, 0.10075078159570694, 0.10075078159570694, 0.10075078159570694, 0.10075078159570694, 0.10075078159570694, 0.10075078159570694, 0.10075078159570694, 0.10075078159570694, 0.10420022159814835, 0.10420022159814835, 0.10420022159814835, 0.10420022159814835, 0.10420022159814835, 0.10420022159814835, 0.10420022159814835, 0.10420022159814835, 0.10420022159814835, 0.10420022159814835, 0.10016725212335587, 0.10016725212335587, 0.10016725212335587, 0.0998430848121643, 0.0998430848121643, 0.0998430848121643, 0.10016725212335587, 0.10016725212335587, 0.0998430848121643, 0.0998430848121643, 0.10085204988718033, 0.10085204988718033, 0.10085204988718033, 0.10085204988718033, 0.10085204988718033, 0.10085204988718033, 0.10085204988718033, 0.10085204988718033, 0.10085204988718033, 0.10085204988718033, 0.10007307678461075, 0.10007307678461075, 0.10007307678461075, 0.10007307678461075, 0.10007307678461075, 0.10007307678461075, 0.10007307678461075, 0.10007307678461075, 0.10007307678461075, 0.10007307678461075, 0.10193195194005966, 0.10193195194005966, 0.10193195194005966, 0.10193195194005966, 0.10193195194005966, 0.10193195194005966, 0.10193195194005966, 0.10193195194005966, 0.10193195194005966, 0.10193195194005966, 0.08875423669815063, 0.08875423669815063, 0.08875423669815063, 0.08875423669815063, 0.08875423669815063, 0.08875423669815063, 0.08875423669815063, 0.08875423669815063, 0.08875423669815063, 0.08875423669815063, 0.09387518465518951, 0.09387518465518951, 0.09387518465518951, 0.09387518465518951, 0.09387518465518951, 0.09387518465518951, 0.09387518465518951, 0.09387518465518951, 0.09387518465518951, 0.09387518465518951, 0.10119631886482239, 0.10119631886482239, 0.10119631886482239, 0.10119631886482239, 0.10119631886482239, 0.10119631886482239, 0.10119631886482239, 0.10119631886482239, 0.10119631886482239, 0.10119631886482239, 0.09700523316860199, 0.09700523316860199, 0.09700523316860199, 0.09700523316860199, 0.09700523316860199, 0.09700523316860199, 0.09700523316860199, 0.09700523316860199, 0.09700523316860199, 0.09700523316860199, 0.08124376833438873, 0.08124376833438873, 0.08124376833438873, 0.08124376833438873, 0.08124376833438873, 0.08124376833438873, 0.08124376833438873, 0.08124376833438873, 0.08124376833438873, 0.08124376833438873, 0.10417918860912323, 0.10417918860912323, 0.10417918860912323, 0.10417918860912323, 0.10417918860912323, 0.10417918860912323, 0.10417918860912323, 0.10417918860912323, 0.10417918860912323, 0.10417918860912323, 0.09829665720462799, 0.09829665720462799, 0.09829665720462799, 0.09829665720462799, 0.09829665720462799, 0.09829665720462799, 0.09829665720462799, 0.09829665720462799, 0.09829665720462799, 0.09829665720462799, 0.10023701936006546, 0.10023701936006546, 0.09971221536397934, 0.10023701936006546, 0.09971221536397934, 0.10023701936006546, 0.10023701936006546, 0.10023701936006546, 0.10023701936006546, 0.09971221536397934, 0.10012555867433548, 0.10012555867433548, 0.10012555867433548, 0.10012555867433548, 0.10012555867433548, 0.09984192252159119, 0.10012555867433548, 0.10012555867433548, 0.09984192252159119, 0.09984192252159119, 0.10033709555864334, 0.10033709555864334, 0.10033709555864334, 0.10033709555864334, 0.10033709555864334, 0.10033709555864334, 0.10033709555864334, 0.10033709555864334, 0.10033709555864334, 0.10033709555864334, 0.09299177676439285, 0.09299177676439285, 0.09299177676439285, 0.09299177676439285, 0.09299177676439285, 0.09299177676439285, 0.09299177676439285, 0.09299177676439285, 0.09299177676439285, 0.09299177676439285, 0.08447033166885376, 0.08447033166885376, 0.08447033166885376, 0.08447033166885376, 0.08447033166885376, 0.08447033166885376, 0.08447033166885376, 0.08447033166885376, 0.08447033166885376, 0.08447033166885376, 0.10028146952390671, 0.10028146952390671, 0.10028146952390671, 0.10028146952390671, 0.10028146952390671, 0.10028146952390671, 0.10028146952390671, 0.10028146952390671, 0.10028146952390671, 0.10028146952390671, 0.09672605246305466, 0.09672605246305466, 0.09672605246305466, 0.09672605246305466, 0.09672605246305466, 0.09672605246305466, 0.09672605246305466, 0.09672605246305466, 0.09672605246305466, 0.09672605246305466, 0.0971728041768074, 0.0971728041768074, 0.0971728041768074, 0.0971728041768074, 0.0971728041768074, 0.0971728041768074, 0.0971728041768074, 0.0971728041768074, 0.0971728041768074, 0.0971728041768074, 0.08593707531690598, 0.08593707531690598, 0.08593707531690598, 0.08593707531690598, 0.08593707531690598, 0.08593707531690598, 0.08593707531690598, 0.08593707531690598, 0.08593707531690598, 0.08593707531690598, 0.1093747615814209, 0.1093747615814209, 0.1093747615814209, 0.1093747615814209, 0.1093747615814209, 0.1093747615814209, 0.1093747615814209, 0.1093747615814209, 0.1093747615814209, 0.1093747615814209, 0.11322683095932007, 0.11322683095932007, 0.11322683095932007, 0.11322683095932007, 0.11322683095932007, 0.11322683095932007, 0.11322683095932007, 0.11322683095932007, 0.11322683095932007, 0.11322683095932007, 0.10031384229660034, 0.10031384229660034, 0.10031384229660034, 0.09972375631332397, 0.09972375631332397, 0.09972375631332397, 0.09972375631332397, 0.09972375631332397, 0.09972375631332397, 0.09972375631332397, 0.10000534355640411, 0.10000534355640411, 0.10000534355640411, 0.10000534355640411, 0.10000534355640411, 0.10000534355640411, 0.10000534355640411, 0.10000534355640411, 0.10000534355640411, 0.10000534355640411, 0.11456628888845444, 0.11456628888845444, 0.11456628888845444, 0.11456628888845444, 0.11456628888845444, 0.11456628888845444, 0.11456628888845444, 0.11456628888845444, 0.11456628888845444, 0.11456628888845444, 0.0980323925614357, 0.0980323925614357, 0.0980323925614357, 0.0980323925614357, 0.0980323925614357, 0.0980323925614357, 0.0980323925614357, 0.0980323925614357, 0.0980323925614357, 0.0980323925614357, 0.09978754818439484, 0.09978754818439484, 0.09978754818439484, 0.09978754818439484, 0.09978754818439484, 0.09978754818439484, 0.09978754818439484, 0.09978754818439484, 0.09978754818439484, 0.09978754818439484, 0.10320861637592316, 0.10320861637592316, 0.10320861637592316, 0.10320861637592316, 0.10320861637592316, 0.10320861637592316, 0.10320861637592316, 0.10320861637592316, 0.10320861637592316, 0.10320861637592316, 0.0997031107544899, 0.0997031107544899, 0.0997031107544899, 0.0997031107544899, 0.0997031107544899, 0.0997031107544899, 0.0997031107544899, 0.0997031107544899, 0.0997031107544899, 0.0997031107544899, 0.141414076089859, 0.141414076089859, 0.141414076089859, 0.141414076089859, 0.141414076089859, 0.141414076089859, 0.141414076089859, 0.141414076089859, 0.141414076089859, 0.141414076089859, 0.09614797681570053, 0.09614797681570053, 0.09614797681570053, 0.09614797681570053, 0.09614797681570053, 0.09614797681570053, 0.09614797681570053, 0.09614797681570053, 0.09614797681570053, 0.09614797681570053, 0.08993817120790482, 0.08993817120790482, 0.08993817120790482, 0.08993817120790482, 0.08993817120790482, 0.08993817120790482, 0.08993817120790482, 0.08993817120790482, 0.08993817120790482, 0.08993817120790482, 0.10052502900362015, 0.10052502900362015, 0.10052502900362015, 0.10052502900362015, 0.10052502900362015, 0.10052502900362015, 0.10052502900362015, 0.10052502900362015, 0.10052502900362015, 0.10052502900362015, 0.08596458286046982, 0.08596458286046982, 0.08596458286046982, 0.08596458286046982, 0.08596458286046982, 0.08596458286046982, 0.08596458286046982, 0.08596458286046982, 0.08596458286046982, 0.08596458286046982, 0.1310901790857315, 0.1310901790857315, 0.1310901790857315, 0.1310901790857315, 0.1310901790857315, 0.1310901790857315, 0.1310901790857315, 0.1310901790857315, 0.1310901790857315, 0.1310901790857315, 0.09660624712705612, 0.09660624712705612, 0.09660624712705612, 0.09660624712705612, 0.09660624712705612, 0.09660624712705612, 0.09660624712705612, 0.09660624712705612, 0.09660624712705612, 0.09660624712705612, 0.15469150245189667, 0.15469150245189667, 0.15469150245189667, 0.15469150245189667, 0.15469150245189667, 0.15469150245189667, 0.15469150245189667, 0.15469150245189667, 0.15469150245189667, 0.15469150245189667, 0.1058768630027771, 0.1058768630027771, 0.1058768630027771, 0.1058768630027771, 0.1058768630027771, 0.1058768630027771, 0.1058768630027771, 0.1058768630027771, 0.1058768630027771, 0.1058768630027771, 0.10018900781869888, 0.09993471950292587, 0.09993471950292587, 0.09993471950292587, 0.09993471950292587, 0.09993471950292587, 0.09993471950292587, 0.09993471950292587, 0.09993471950292587, 0.09993471950292587, 0.09914671629667282, 0.09914671629667282, 0.09914671629667282, 0.09914671629667282, 0.09914671629667282, 0.09914671629667282, 0.09914671629667282, 0.09914671629667282, 0.09914671629667282, 0.09914671629667282, 0.07386144250631332, 0.07386144250631332, 0.07386144250631332, 0.07386144250631332, 0.07386144250631332, 0.07386144250631332, 0.07386144250631332, 0.07386144250631332, 0.07386144250631332, 0.07386144250631332, 0.11600035429000854, 0.11600035429000854, 0.11600035429000854, 0.11600035429000854, 0.11600035429000854, 0.11600035429000854, 0.11600035429000854, 0.11600035429000854, 0.11600035429000854, 0.11600035429000854, 0.09766267985105515, 0.09766267985105515, 0.09766267985105515, 0.09766267985105515, 0.09766267985105515, 0.09766267985105515, 0.09766267985105515, 0.09766267985105515, 0.09766267985105515, 0.09766267985105515, 0.10055011510848999, 0.10055011510848999, 0.10055011510848999, 0.10055011510848999, 0.10055011510848999, 0.10055011510848999, 0.10055011510848999, 0.10055011510848999, 0.10055011510848999, 0.10055011510848999, 0.10696646571159363, 0.10696646571159363, 0.10696646571159363, 0.10696646571159363, 0.10696646571159363, 0.10696646571159363, 0.10696646571159363, 0.10696646571159363, 0.10696646571159363, 0.10696646571159363, 0.10045614838600159, 0.0996951162815094, 0.0996951162815094, 0.0996951162815094, 0.0996951162815094, 0.0996951162815094, 0.0996951162815094, 0.0996951162815094, 0.0996951162815094, 0.0996951162815094, 0.0985545888543129, 0.1014532521367073, 0.0985545888543129, 0.0985545888543129, 0.1014532521367073, 0.0985545888543129, 0.1014532521367073, 0.0985545888543129, 0.0985545888543129, 0.1014532521367073, 0.10617679357528687, 0.10617679357528687, 0.10617679357528687, 0.10617679357528687, 0.10617679357528687, 0.10617679357528687, 0.10617679357528687, 0.10617679357528687, 0.10617679357528687, 0.10617679357528687, 0.09617488086223602, 0.09617488086223602, 0.09617488086223602, 0.09617488086223602, 0.09617488086223602, 0.09617488086223602, 0.09617488086223602, 0.09617488086223602, 0.09617488086223602, 0.09617488086223602, 0.10006968677043915, 0.10006968677043915, 0.10006968677043915, 0.10006968677043915, 0.10006968677043915, 0.10006968677043915, 0.10006968677043915, 0.10006968677043915, 0.10006968677043915, 0.10006968677043915, 0.10028476268053055, 0.10028476268053055, 0.10028476268053055, 0.10028476268053055, 0.10028476268053055, 0.10028476268053055, 0.10028476268053055, 0.10028476268053055, 0.10028476268053055, 0.10028476268053055, 0.09977544099092484, 0.09977544099092484, 0.09977544099092484, 0.09977544099092484, 0.09977544099092484, 0.09977544099092484, 0.09977544099092484, 0.09977544099092484, 0.09977544099092484, 0.09977544099092484, 0.10548161715269089, 0.10548161715269089, 0.10548161715269089, 0.10548161715269089, 0.10548161715269089, 0.10548161715269089, 0.10548161715269089, 0.10548161715269089, 0.10548161715269089, 0.10548161715269089, 0.10518929362297058, 0.10518929362297058, 0.10518929362297058, 0.10518929362297058, 0.10518929362297058, 0.10518929362297058, 0.10518929362297058, 0.10518929362297058, 0.10518929362297058, 0.10518929362297058, 0.1106867715716362, 0.1106867715716362, 0.1106867715716362, 0.1106867715716362, 0.1106867715716362, 0.1106867715716362, 0.1106867715716362, 0.1106867715716362, 0.1106867715716362, 0.1106867715716362, 0.08078300207853317, 0.08078300207853317, 0.08078300207853317, 0.08078300207853317, 0.08078300207853317, 0.08078300207853317, 0.08078300207853317, 0.08078300207853317, 0.08078300207853317, 0.08078300207853317, 0.10010406374931335, 0.10010406374931335, 0.10010406374931335, 0.10010406374931335, 0.10010406374931335, 0.10010406374931335, 0.10010406374931335, 0.10010406374931335, 0.09982366114854813, 0.10010406374931335, 0.1001090556383133, 0.1001090556383133, 0.1001090556383133, 0.1001090556383133, 0.1001090556383133, 0.1001090556383133, 0.1001090556383133, 0.1001090556383133, 0.1001090556383133, 0.1001090556383133, 0.09999510645866394, 0.09999510645866394, 0.09999510645866394, 0.09999510645866394, 0.09999510645866394, 0.09999510645866394, 0.09999510645866394, 0.09999510645866394, 0.09999510645866394, 0.09999510645866394, 0.08728314191102982, 0.08728314191102982, 0.08728314191102982, 0.08728314191102982, 0.08728314191102982, 0.08728314191102982, 0.08728314191102982, 0.08728314191102982, 0.08728314191102982, 0.08728314191102982, 0.11714306473731995, 0.11714306473731995, 0.11714306473731995, 0.11714306473731995, 0.11714306473731995, 0.11714306473731995, 0.11714306473731995, 0.11714306473731995, 0.11714306473731995, 0.11714306473731995, 0.10046104341745377, 0.10046104341745377, 0.10046104341745377, 0.10046104341745377, 0.10046104341745377, 0.10046104341745377, 0.10046104341745377, 0.10046104341745377, 0.10046104341745377, 0.10046104341745377, 0.15276260673999786, 0.15276260673999786, 0.15276260673999786, 0.15276260673999786, 0.15276260673999786, 0.15276260673999786, 0.15276260673999786, 0.15276260673999786, 0.15276260673999786, 0.15276260673999786, 0.09996702522039413, 0.09996702522039413, 0.09996702522039413, 0.09996702522039413, 0.09996702522039413, 0.09996702522039413, 0.09996702522039413, 0.09996702522039413, 0.09996702522039413, 0.09996702522039413, 0.09802950918674469, 0.09802950918674469, 0.09802950918674469, 0.09802950918674469, 0.09802950918674469, 0.09802950918674469, 0.09802950918674469, 0.09802950918674469, 0.09802950918674469, 0.09802950918674469, 0.0891837403178215, 0.0891837403178215, 0.0891837403178215, 0.0891837403178215, 0.0891837403178215, 0.0891837403178215, 0.0891837403178215, 0.0891837403178215, 0.0891837403178215, 0.0891837403178215, 0.0909360721707344, 0.0909360721707344, 0.0909360721707344, 0.0909360721707344, 0.0909360721707344, 0.0909360721707344, 0.0909360721707344, 0.0909360721707344, 0.0909360721707344, 0.0909360721707344, 0.09714778512716293, 0.09714778512716293, 0.09714778512716293, 0.09714778512716293, 0.09714778512716293, 0.09714778512716293, 0.09714778512716293, 0.09714778512716293, 0.09714778512716293, 0.09714778512716293, 0.09947595000267029, 0.09947595000267029, 0.09947595000267029, 0.09947595000267029, 0.09947595000267029, 0.09947595000267029, 0.09947595000267029, 0.09947595000267029, 0.09947595000267029, 0.09947595000267029, 0.09732399135828018, 0.09732399135828018, 0.09732399135828018, 0.09732399135828018, 0.09732399135828018, 0.09732399135828018, 0.09732399135828018, 0.09732399135828018, 0.09732399135828018, 0.09732399135828018, 0.10667607188224792, 0.10667607188224792, 0.10667607188224792, 0.10667607188224792, 0.10667607188224792, 0.10667607188224792, 0.10667607188224792, 0.10667607188224792, 0.10667607188224792, 0.10667607188224792, 0.09355728328227997, 0.09355728328227997, 0.09355728328227997, 0.09355728328227997, 0.09355728328227997, 0.09355728328227997, 0.09355728328227997, 0.09355728328227997, 0.09355728328227997, 0.09355728328227997, 0.10004708915948868, 0.10004708915948868, 0.10004708915948868, 0.10004708915948868, 0.10004708915948868, 0.10004708915948868, 0.10004708915948868, 0.10004708915948868, 0.10004708915948868, 0.10004708915948868, 0.09954925626516342, 0.09954925626516342, 0.09954925626516342, 0.09954925626516342, 0.09954925626516342, 0.09954925626516342, 0.09954925626516342, 0.09954925626516342, 0.09954925626516342, 0.09954925626516342, 0.10417081415653229, 0.10417081415653229, 0.10417081415653229, 0.10417081415653229, 0.10417081415653229, 0.10417081415653229, 0.10417081415653229, 0.10417081415653229, 0.10417081415653229, 0.10417081415653229, 0.10069281607866287, 0.10069281607866287, 0.10069281607866287, 0.10069281607866287, 0.10069281607866287, 0.10069281607866287, 0.10069281607866287, 0.10069281607866287, 0.10069281607866287, 0.10069281607866287, 0.1006389930844307, 0.1006389930844307, 0.1006389930844307, 0.1006389930844307, 0.1006389930844307, 0.1006389930844307, 0.1006389930844307, 0.1006389930844307, 0.1006389930844307, 0.1006389930844307, 0.09680305421352386, 0.09680305421352386, 0.09680305421352386, 0.09680305421352386, 0.09680305421352386, 0.09680305421352386, 0.09680305421352386, 0.09680305421352386, 0.09680305421352386, 0.09680305421352386, 0.10996299237012863, 0.10996299237012863, 0.10996299237012863, 0.10996299237012863, 0.10996299237012863, 0.10996299237012863, 0.10996299237012863, 0.10996299237012863, 0.10996299237012863, 0.10996299237012863, 0.07470271736383438, 0.07470271736383438, 0.07470271736383438, 0.07470271736383438, 0.07470271736383438, 0.07470271736383438, 0.07470271736383438, 0.07470271736383438, 0.07470271736383438, 0.07470271736383438, 0.09850814938545227, 0.09850814938545227, 0.09850814938545227, 0.09850814938545227, 0.09850814938545227, 0.09850814938545227, 0.09850814938545227, 0.09850814938545227, 0.09850814938545227, 0.09850814938545227, 0.10418499261140823, 0.10418499261140823, 0.10418499261140823, 0.10418499261140823, 0.10418499261140823, 0.10418499261140823, 0.10418499261140823, 0.10418499261140823, 0.10418499261140823, 0.10418499261140823, 0.14032569527626038, 0.14032569527626038, 0.14032569527626038, 0.14032569527626038, 0.14032569527626038, 0.14032569527626038, 0.14032569527626038, 0.14032569527626038, 0.14032569527626038, 0.14032569527626038, 0.09935237467288971, 0.09935237467288971, 0.09935237467288971, 0.09935237467288971, 0.09935237467288971, 0.09935237467288971, 0.09935237467288971, 0.09935237467288971, 0.09935237467288971, 0.09935237467288971, 0.0999128669500351, 0.0999128669500351, 0.0999128669500351, 0.0999128669500351, 0.0999128669500351, 0.0999128669500351, 0.0999128669500351, 0.0999128669500351, 0.0999128669500351, 0.0999128669500351, 0.1023581400513649, 0.1023581400513649, 0.1023581400513649, 0.1023581400513649, 0.1023581400513649, 0.1023581400513649, 0.1023581400513649, 0.1023581400513649, 0.1023581400513649, 0.1023581400513649, 0.10000879317522049, 0.10000879317522049, 0.10000879317522049, 0.10000879317522049, 0.10000879317522049, 0.10000879317522049, 0.10000879317522049, 0.10000879317522049, 0.10000879317522049, 0.10000879317522049, 0.10013020783662796, 0.10013020783662796, 0.10013020783662796, 0.10013020783662796, 0.09984815120697021, 0.10013020783662796, 0.10013020783662796, 0.09984815120697021, 0.09984815120697021, 0.10013020783662796, 0.09861826151609421, 0.09861826151609421, 0.09861826151609421, 0.09861826151609421, 0.09861826151609421, 0.09861826151609421, 0.09861826151609421, 0.09861826151609421, 0.09861826151609421, 0.09861826151609421, 0.09399159252643585, 0.09399159252643585, 0.09399159252643585, 0.09399159252643585, 0.09399159252643585, 0.09399159252643585, 0.09399159252643585, 0.09399159252643585, 0.09399159252643585, 0.09399159252643585, 0.10021906346082687, 0.10021906346082687, 0.10021906346082687, 0.10021906346082687, 0.10021906346082687, 0.10021906346082687, 0.10021906346082687, 0.10021906346082687, 0.10021906346082687, 0.10021906346082687, 0.1676546335220337, 0.1676546335220337, 0.1676546335220337, 0.1676546335220337, 0.1676546335220337, 0.1676546335220337, 0.1676546335220337, 0.1676546335220337, 0.1676546335220337, 0.1676546335220337, 0.0724298357963562, 0.0724298357963562, 0.0724298357963562, 0.0724298357963562, 0.0724298357963562, 0.0724298357963562, 0.0724298357963562, 0.0724298357963562, 0.0724298357963562, 0.0724298357963562, 0.09805025905370712, 0.09805025905370712, 0.09805025905370712, 0.09805025905370712, 0.09805025905370712, 0.09805025905370712, 0.09805025905370712, 0.09805025905370712, 0.09805025905370712, 0.09805025905370712, 0.09547416865825653, 0.09547416865825653, 0.09547416865825653, 0.09547416865825653, 0.09547416865825653, 0.09547416865825653, 0.09547416865825653, 0.09547416865825653, 0.09547416865825653, 0.09547416865825653, 0.08873976022005081, 0.08873976022005081, 0.08873976022005081, 0.08873976022005081, 0.08873976022005081, 0.08873976022005081, 0.08873976022005081, 0.08873976022005081, 0.08873976022005081, 0.08873976022005081, 0.08960991352796555, 0.08960991352796555, 0.08960991352796555, 0.08960991352796555, 0.08960991352796555, 0.08960991352796555, 0.08960991352796555, 0.08960991352796555, 0.08960991352796555, 0.08960991352796555, 0.10015664994716644, 0.09992587566375732, 0.09992587566375732, 0.09992587566375732, 0.09992587566375732, 0.09992587566375732, 0.09992587566375732, 0.09992587566375732, 0.09992587566375732, 0.09992587566375732, 0.0995815172791481, 0.0995815172791481, 0.0995815172791481, 0.0995815172791481, 0.0995815172791481, 0.0995815172791481, 0.0995815172791481, 0.0995815172791481, 0.0995815172791481, 0.0995815172791481, 0.10880132019519806, 0.10880132019519806, 0.10880132019519806, 0.10880132019519806, 0.10880132019519806, 0.10880132019519806, 0.10880132019519806, 0.10880132019519806, 0.10880132019519806, 0.10880132019519806, 0.09996012598276138, 0.09996012598276138, 0.09996012598276138, 0.09996012598276138, 0.09996012598276138, 0.09996012598276138, 0.09996012598276138, 0.09996012598276138, 0.09996012598276138, 0.09996012598276138, 0.13044211268424988, 0.13044211268424988, 0.13044211268424988, 0.13044211268424988, 0.13044211268424988, 0.13044211268424988, 0.13044211268424988, 0.13044211268424988, 0.13044211268424988, 0.13044211268424988, 0.11014397442340851, 0.11014397442340851, 0.11014397442340851, 0.11014397442340851, 0.11014397442340851, 0.11014397442340851, 0.11014397442340851, 0.11014397442340851, 0.11014397442340851, 0.11014397442340851, 0.09998013079166412, 0.09998013079166412, 0.09998013079166412, 0.09998013079166412, 0.09998013079166412, 0.09998013079166412, 0.09998013079166412, 0.09998013079166412, 0.09998013079166412, 0.09998013079166412, 0.09826109558343887, 0.09826109558343887, 0.09826109558343887, 0.09826109558343887, 0.09826109558343887, 0.09826109558343887, 0.09826109558343887, 0.09826109558343887, 0.09826109558343887, 0.09826109558343887, 0.1590278446674347, 0.1590278446674347, 0.1590278446674347, 0.1590278446674347, 0.1590278446674347, 0.1590278446674347, 0.1590278446674347, 0.1590278446674347, 0.1590278446674347, 0.1590278446674347, 0.10537106543779373, 0.10537106543779373, 0.10537106543779373, 0.10537106543779373, 0.10537106543779373, 0.10537106543779373, 0.10537106543779373, 0.10537106543779373, 0.10537106543779373, 0.10537106543779373, 0.10000663995742798, 0.10000663995742798, 0.10000663995742798, 0.10000663995742798, 0.10000663995742798, 0.10000663995742798, 0.10000663995742798, 0.10000663995742798, 0.10000663995742798, 0.10000663995742798, 0.09121672064065933, 0.09121672064065933, 0.09121672064065933, 0.09121672064065933, 0.09121672064065933, 0.09121672064065933, 0.09121672064065933, 0.09121672064065933, 0.09121672064065933, 0.09121672064065933, 0.11348556727170944, 0.11348556727170944, 0.11348556727170944, 0.11348556727170944, 0.11348556727170944, 0.11348556727170944, 0.11348556727170944, 0.11348556727170944, 0.11348556727170944, 0.11348556727170944, 0.0999957025051117, 0.0999957025051117, 0.0999957025051117, 0.0999957025051117, 0.0999957025051117, 0.0999957025051117, 0.0999957025051117, 0.0999957025051117, 0.0999957025051117, 0.0999957025051117, 0.10694630444049835, 0.10694630444049835, 0.10694630444049835, 0.10694630444049835, 0.10694630444049835, 0.10694630444049835, 0.10694630444049835, 0.10694630444049835, 0.10694630444049835, 0.10694630444049835, 0.09903918206691742, 0.09903918206691742, 0.09903918206691742, 0.09903918206691742, 0.09903918206691742, 0.09903918206691742, 0.09903918206691742, 0.09903918206691742, 0.09903918206691742, 0.09903918206691742, 0.07622235268354416, 0.07622235268354416, 0.07622235268354416, 0.07622235268354416, 0.07622235268354416, 0.07622235268354416, 0.07622235268354416, 0.07622235268354416, 0.07622235268354416, 0.07622235268354416, 0.0995994359254837, 0.0995994359254837, 0.0995994359254837, 0.0995994359254837, 0.0995994359254837, 0.0995994359254837, 0.0995994359254837, 0.0995994359254837, 0.0995994359254837, 0.0995994359254837, 0.11149150133132935, 0.11149150133132935, 0.11149150133132935, 0.11149150133132935, 0.11149150133132935, 0.11149150133132935, 0.11149150133132935, 0.11149150133132935, 0.11149150133132935, 0.11149150133132935, 0.09937366098165512, 0.09937366098165512, 0.09937366098165512, 0.09937366098165512, 0.09937366098165512, 0.09937366098165512, 0.09937366098165512, 0.09937366098165512, 0.09937366098165512, 0.09937366098165512, 0.10934146493673325, 0.10934146493673325, 0.10934146493673325, 0.10934146493673325, 0.10934146493673325, 0.10934146493673325, 0.10934146493673325, 0.10934146493673325, 0.10934146493673325, 0.10934146493673325, 0.10996744781732559, 0.10996744781732559, 0.10996744781732559, 0.10996744781732559, 0.10996744781732559, 0.10996744781732559, 0.10996744781732559, 0.10996744781732559, 0.10996744781732559, 0.10996744781732559, 0.10034307837486267, 0.10034307837486267, 0.10034307837486267, 0.10034307837486267, 0.10034307837486267, 0.09959425032138824, 0.10034307837486267, 0.10034307837486267, 0.10034307837486267, 0.09959425032138824, 0.1000145748257637, 0.1000145748257637, 0.1000145748257637, 0.1000145748257637, 0.1000145748257637, 0.1000145748257637, 0.1000145748257637, 0.1000145748257637, 0.1000145748257637, 0.1000145748257637, 0.11009329557418823, 0.11009329557418823, 0.11009329557418823, 0.11009329557418823, 0.11009329557418823, 0.11009329557418823, 0.11009329557418823, 0.11009329557418823, 0.11009329557418823, 0.11009329557418823, 0.10050735622644424, 0.10050735622644424, 0.10050735622644424, 0.10050735622644424, 0.10050735622644424, 0.10050735622644424, 0.10050735622644424, 0.10050735622644424, 0.10050735622644424, 0.10050735622644424, 0.10040274262428284, 0.10040274262428284, 0.10040274262428284, 0.10040274262428284, 0.10040274262428284, 0.10040274262428284, 0.10040274262428284, 0.10040274262428284, 0.10040274262428284, 0.10040274262428284, 0.09819114208221436, 0.09819114208221436, 0.09819114208221436, 0.09819114208221436, 0.09819114208221436, 0.09819114208221436, 0.09819114208221436, 0.09819114208221436, 0.09819114208221436, 0.09819114208221436, 0.10071215033531189, 0.10071215033531189, 0.10071215033531189, 0.10071215033531189, 0.10071215033531189, 0.10071215033531189, 0.10071215033531189, 0.10071215033531189, 0.10071215033531189, 0.10071215033531189, 0.15173010528087616, 0.15173010528087616, 0.15173010528087616, 0.15173010528087616, 0.15173010528087616, 0.15173010528087616, 0.15173010528087616, 0.15173010528087616, 0.15173010528087616, 0.15173010528087616, 0.10060351341962814, 0.09939142316579819, 0.10060351341962814, 0.10060351341962814, 0.09939142316579819, 0.09939142316579819, 0.10060351341962814, 0.10060351341962814, 0.09939142316579819, 0.09939142316579819, 0.09999645501375198, 0.09999645501375198, 0.09999645501375198, 0.09999645501375198, 0.09999645501375198, 0.09999645501375198, 0.09999645501375198, 0.09999645501375198, 0.09999645501375198, 0.09999645501375198, 0.12891452014446259, 0.12891452014446259, 0.12891452014446259, 0.12891452014446259, 0.12891452014446259, 0.12891452014446259, 0.12891452014446259, 0.12891452014446259, 0.12891452014446259, 0.12891452014446259, 0.10015939176082611, 0.10015939176082611, 0.10015939176082611, 0.10015939176082611, 0.10015939176082611, 0.09977710247039795, 0.10015939176082611, 0.10015939176082611, 0.10015939176082611, 0.09977710247039795, 0.0917169451713562, 0.0917169451713562, 0.0917169451713562, 0.0917169451713562, 0.0917169451713562, 0.0917169451713562, 0.0917169451713562, 0.0917169451713562, 0.0917169451713562, 0.0917169451713562, 0.09387755393981934, 0.09387755393981934, 0.09387755393981934, 0.09387755393981934, 0.09387755393981934, 0.09387755393981934, 0.09387755393981934, 0.09387755393981934, 0.09387755393981934, 0.09387755393981934, 0.09503572434186935, 0.09503572434186935, 0.09503572434186935, 0.09503572434186935, 0.09503572434186935, 0.09503572434186935, 0.09503572434186935, 0.09503572434186935, 0.09503572434186935, 0.09503572434186935, 0.08890687674283981, 0.08890687674283981, 0.08890687674283981, 0.08890687674283981, 0.08890687674283981, 0.08890687674283981, 0.08890687674283981, 0.08890687674283981, 0.08890687674283981, 0.08890687674283981, 0.10000842809677124, 0.10000842809677124, 0.10000842809677124, 0.10000842809677124, 0.10000842809677124, 0.10000842809677124, 0.10000842809677124, 0.10000842809677124, 0.10000842809677124, 0.10000842809677124, 0.1000344380736351, 0.1000344380736351, 0.1000344380736351, 0.1000344380736351, 0.1000344380736351, 0.1000344380736351, 0.1000344380736351, 0.1000344380736351, 0.1000344380736351, 0.1000344380736351, 0.1853235960006714, 0.1853235960006714, 0.1853235960006714, 0.1853235960006714, 0.1853235960006714, 0.1853235960006714, 0.1853235960006714, 0.1853235960006714, 0.1853235960006714, 0.1853235960006714, 0.10128594934940338, 0.10128594934940338, 0.10128594934940338, 0.10128594934940338, 0.10128594934940338, 0.10128594934940338, 0.10128594934940338, 0.10128594934940338, 0.10128594934940338, 0.10128594934940338, 0.10125838965177536, 0.10125838965177536, 0.10125838965177536, 0.10125838965177536, 0.10125838965177536, 0.10125838965177536, 0.10125838965177536, 0.10125838965177536, 0.10125838965177536, 0.10125838965177536, 0.1004503145813942, 0.1004503145813942, 0.1004503145813942, 0.1004503145813942, 0.1004503145813942, 0.1004503145813942, 0.1004503145813942, 0.1004503145813942, 0.1004503145813942, 0.1004503145813942, 0.10019292682409286, 0.10019292682409286, 0.10019292682409286, 0.10019292682409286, 0.09978563338518143, 0.09978563338518143, 0.10019292682409286, 0.09978563338518143, 0.09978563338518143, 0.09978563338518143, 0.09348548203706741, 0.09348548203706741, 0.09348548203706741, 0.09348548203706741, 0.09348548203706741, 0.09348548203706741, 0.09348548203706741, 0.09348548203706741, 0.09348548203706741, 0.09348548203706741, 0.09995875507593155, 0.09995875507593155, 0.09995875507593155, 0.09995875507593155, 0.09995875507593155, 0.09995875507593155, 0.09995875507593155, 0.09995875507593155, 0.09995875507593155, 0.09995875507593155, 0.09998956322669983, 0.09998956322669983, 0.09998956322669983, 0.09998956322669983, 0.09998956322669983, 0.09998956322669983, 0.09998956322669983, 0.09998956322669983, 0.09998956322669983, 0.09998956322669983, 0.11274188756942749, 0.11274188756942749, 0.11274188756942749, 0.11274188756942749, 0.11274188756942749, 0.11274188756942749, 0.11274188756942749, 0.11274188756942749, 0.11274188756942749, 0.11274188756942749, 0.10016082972288132, 0.10016082972288132, 0.10016082972288132, 0.10016082972288132, 0.09981898963451385, 0.09981898963451385, 0.10016082972288132, 0.09981898963451385, 0.09981898963451385, 0.09981898963451385, 0.09743033349514008, 0.09743033349514008, 0.09743033349514008, 0.09743033349514008, 0.09743033349514008, 0.09743033349514008, 0.09743033349514008, 0.09743033349514008, 0.09743033349514008, 0.09743033349514008, 0.08308039605617523, 0.08308039605617523, 0.08308039605617523, 0.08308039605617523, 0.08308039605617523, 0.08308039605617523, 0.08308039605617523, 0.08308039605617523, 0.08308039605617523, 0.08308039605617523, 0.10019008070230484, 0.09989100694656372, 0.09989100694656372, 0.09989100694656372, 0.09989100694656372, 0.09989100694656372, 0.09989100694656372, 0.09989100694656372, 0.09989100694656372, 0.09989100694656372, 0.09983639419078827, 0.09983639419078827, 0.09983639419078827, 0.09983639419078827, 0.09983639419078827, 0.09983639419078827, 0.09983639419078827, 0.09983639419078827, 0.09983639419078827, 0.09983639419078827, 0.100139319896698, 0.100139319896698, 0.100139319896698, 0.100139319896698, 0.0997854694724083, 0.100139319896698, 0.100139319896698, 0.100139319896698, 0.100139319896698, 0.100139319896698, 0.06956595927476883, 0.06956595927476883, 0.06956595927476883, 0.06956595927476883, 0.06956595927476883, 0.06956595927476883, 0.06956595927476883, 0.06956595927476883, 0.06956595927476883, 0.06956595927476883, 0.10037197917699814, 0.10037197917699814, 0.10037197917699814, 0.09963394701480865, 0.10037197917699814, 0.09963394701480865, 0.10037197917699814, 0.09963394701480865, 0.09963394701480865, 0.09963394701480865, 0.10079790651798248, 0.10079790651798248, 0.10079790651798248, 0.10079790651798248, 0.10079790651798248, 0.10079790651798248, 0.10079790651798248, 0.10079790651798248, 0.10079790651798248, 0.10079790651798248, 0.09613844007253647, 0.09613844007253647, 0.09613844007253647, 0.09613844007253647, 0.09613844007253647, 0.09613844007253647, 0.09613844007253647, 0.09613844007253647, 0.09613844007253647, 0.09613844007253647, 0.12500454485416412, 0.12500454485416412, 0.12500454485416412, 0.12500454485416412, 0.12500454485416412, 0.12500454485416412, 0.12500454485416412, 0.12500454485416412, 0.12500454485416412, 0.12500454485416412, 0.09949149936437607, 0.09949149936437607, 0.09949149936437607, 0.09949149936437607, 0.09949149936437607, 0.09949149936437607, 0.09949149936437607, 0.09949149936437607, 0.09949149936437607, 0.09949149936437607, 0.10016357153654099, 0.10016357153654099, 0.0998373031616211, 0.10016357153654099, 0.0998373031616211, 0.0998373031616211, 0.10016357153654099, 0.10016357153654099, 0.10016357153654099, 0.0998373031616211, 0.10012193769216537, 0.10012193769216537, 0.10012193769216537, 0.10012193769216537, 0.10012193769216537, 0.10012193769216537, 0.10012193769216537, 0.10012193769216537, 0.10012193769216537, 0.09977429360151291, 0.09764567017555237, 0.09764567017555237, 0.09764567017555237, 0.09764567017555237, 0.09764567017555237, 0.09764567017555237, 0.09764567017555237, 0.09764567017555237, 0.09764567017555237, 0.09764567017555237, 0.10491520166397095, 0.10491520166397095, 0.10491520166397095, 0.10491520166397095, 0.10491520166397095, 0.10491520166397095, 0.10491520166397095, 0.10491520166397095, 0.10491520166397095, 0.10491520166397095, 0.10001901537179947, 0.10001901537179947, 0.10001901537179947, 0.10001901537179947, 0.10001901537179947, 0.10001901537179947, 0.10001901537179947, 0.10001901537179947, 0.10001901537179947, 0.10001901537179947, 0.09914043545722961, 0.09914043545722961, 0.09914043545722961, 0.09914043545722961, 0.09914043545722961, 0.09914043545722961, 0.09914043545722961, 0.09914043545722961, 0.09914043545722961, 0.09914043545722961, 0.10339993983507156, 0.10339993983507156, 0.10339993983507156, 0.10339993983507156, 0.10339993983507156, 0.10339993983507156, 0.10339993983507156, 0.10339993983507156, 0.10339993983507156, 0.10339993983507156, 0.10013683885335922, 0.10013683885335922, 0.10013683885335922, 0.10013683885335922, 0.10013683885335922, 0.10013683885335922, 0.10013683885335922, 0.10013683885335922, 0.10013683885335922, 0.10013683885335922, 0.10786814987659454, 0.10786814987659454, 0.10786814987659454, 0.10786814987659454, 0.10786814987659454, 0.10786814987659454, 0.10786814987659454, 0.10786814987659454, 0.10786814987659454, 0.10786814987659454, 0.13105177879333496, 0.13105177879333496, 0.13105177879333496, 0.13105177879333496, 0.13105177879333496, 0.13105177879333496, 0.13105177879333496, 0.13105177879333496, 0.13105177879333496, 0.13105177879333496, 0.10064774751663208, 0.10064774751663208, 0.10064774751663208, 0.10064774751663208, 0.10064774751663208, 0.10064774751663208, 0.10064774751663208, 0.10064774751663208, 0.10064774751663208, 0.10064774751663208, 0.10054577142000198, 0.09945288300514221, 0.10054577142000198, 0.09945288300514221, 0.10054577142000198, 0.09945288300514221, 0.10054577142000198, 0.09945288300514221, 0.09945288300514221, 0.09945288300514221, 0.19884370267391205, 0.19884370267391205, 0.19884370267391205, 0.19884370267391205, 0.19884370267391205, 0.19884370267391205, 0.19884370267391205, 0.19884370267391205, 0.19884370267391205, 0.19884370267391205, 0.12036764621734619, 0.12036764621734619, 0.12036764621734619, 0.12036764621734619, 0.12036764621734619, 0.12036764621734619, 0.12036764621734619, 0.12036764621734619, 0.12036764621734619, 0.12036764621734619, 0.10087468475103378, 0.10087468475103378, 0.10087468475103378, 0.10087468475103378, 0.10087468475103378, 0.10087468475103378, 0.10087468475103378, 0.10087468475103378, 0.10087468475103378, 0.10087468475103378, 0.1350124627351761, 0.1350124627351761, 0.1350124627351761, 0.1350124627351761, 0.1350124627351761, 0.1350124627351761, 0.1350124627351761, 0.1350124627351761, 0.1350124627351761, 0.1350124627351761, 0.098452627658844, 0.098452627658844, 0.098452627658844, 0.10152927041053772, 0.10152927041053772, 0.10152927041053772, 0.098452627658844, 0.10152927041053772, 0.10152927041053772, 0.10152927041053772, 0.09658684581518173, 0.09658684581518173, 0.09658684581518173, 0.09658684581518173, 0.09658684581518173, 0.09658684581518173, 0.09658684581518173, 0.09658684581518173, 0.09658684581518173, 0.09658684581518173, 0.09747403860092163, 0.09747403860092163, 0.09747403860092163, 0.09747403860092163, 0.09747403860092163, 0.09747403860092163, 0.09747403860092163, 0.09747403860092163, 0.09747403860092163, 0.09747403860092163, 0.10057651251554489, 0.10057651251554489, 0.10057651251554489, 0.10057651251554489, 0.10057651251554489, 0.10057651251554489, 0.10057651251554489, 0.10057651251554489, 0.10057651251554489, 0.10057651251554489, 0.07603224366903305, 0.07603224366903305, 0.07603224366903305, 0.07603224366903305, 0.07603224366903305, 0.07603224366903305, 0.07603224366903305, 0.07603224366903305, 0.07603224366903305, 0.07603224366903305, 0.09949970245361328, 0.09949970245361328, 0.09949970245361328, 0.09949970245361328, 0.09949970245361328, 0.09949970245361328, 0.09949970245361328, 0.09949970245361328, 0.09949970245361328, 0.09949970245361328, 0.10022061318159103, 0.09978862851858139, 0.10022061318159103, 0.09978862851858139, 0.10022061318159103, 0.09978862851858139, 0.10022061318159103, 0.09978862851858139, 0.09978862851858139, 0.09978862851858139, 0.09708859771490097, 0.09708859771490097, 0.09708859771490097, 0.09708859771490097, 0.09708859771490097, 0.09708859771490097, 0.09708859771490097, 0.09708859771490097, 0.09708859771490097, 0.09708859771490097, 0.10001987218856812, 0.10001987218856812, 0.10001987218856812, 0.10001987218856812, 0.10001987218856812, 0.10001987218856812, 0.10001987218856812, 0.10001987218856812, 0.10001987218856812, 0.10001987218856812, 0.14726285636425018, 0.14726285636425018, 0.14726285636425018, 0.14726285636425018, 0.14726285636425018, 0.14726285636425018, 0.14726285636425018, 0.14726285636425018, 0.14726285636425018, 0.14726285636425018, 0.06785687804222107, 0.06785687804222107, 0.06785687804222107, 0.06785687804222107, 0.06785687804222107, 0.06785687804222107, 0.06785687804222107, 0.06785687804222107, 0.06785687804222107, 0.06785687804222107, 0.09998416900634766, 0.09998416900634766, 0.09998416900634766, 0.09998416900634766, 0.09998416900634766, 0.09998416900634766, 0.09998416900634766, 0.09998416900634766, 0.09998416900634766, 0.09998416900634766, 0.10228774696588516, 0.10228774696588516, 0.10228774696588516, 0.10228774696588516, 0.10228774696588516, 0.10228774696588516, 0.10228774696588516, 0.10228774696588516, 0.10228774696588516, 0.10228774696588516, 0.10006826370954514, 0.10006826370954514, 0.10006826370954514, 0.10006826370954514, 0.10006826370954514, 0.10006826370954514, 0.10006826370954514, 0.10006826370954514, 0.10006826370954514, 0.10006826370954514, 0.10019940137863159, 0.10019940137863159, 0.10019940137863159, 0.10019940137863159, 0.10019940137863159, 0.10019940137863159, 0.10019940137863159, 0.10019940137863159, 0.10019940137863159, 0.10019940137863159, 0.10895776748657227, 0.10895776748657227, 0.10895776748657227, 0.10895776748657227, 0.10895776748657227, 0.10895776748657227, 0.10895776748657227, 0.10895776748657227, 0.10895776748657227, 0.10895776748657227, 0.09199532866477966, 0.09199532866477966, 0.09199532866477966, 0.09199532866477966, 0.09199532866477966, 0.09199532866477966, 0.09199532866477966, 0.09199532866477966, 0.09199532866477966, 0.09199532866477966, 0.09998301416635513, 0.09998301416635513, 0.09998301416635513, 0.09998301416635513, 0.09998301416635513, 0.09998301416635513, 0.09998301416635513, 0.09998301416635513, 0.09998301416635513, 0.09998301416635513, 0.10001023858785629, 0.10001023858785629, 0.10001023858785629, 0.10001023858785629, 0.10001023858785629, 0.10001023858785629, 0.10001023858785629, 0.10001023858785629, 0.10001023858785629, 0.10001023858785629, 0.10067185759544373, 0.10067185759544373, 0.10067185759544373, 0.10067185759544373, 0.10067185759544373, 0.10067185759544373, 0.10067185759544373, 0.10067185759544373, 0.10067185759544373, 0.10067185759544373, 0.12044946849346161, 0.12044946849346161, 0.12044946849346161, 0.12044946849346161, 0.12044946849346161, 0.12044946849346161, 0.12044946849346161, 0.12044946849346161, 0.12044946849346161, 0.12044946849346161, 0.10029930621385574, 0.09972616285085678, 0.10029930621385574, 0.09972616285085678, 0.09972616285085678, 0.09972616285085678, 0.09972616285085678, 0.09972616285085678, 0.09972616285085678, 0.09972616285085678, 0.09966965764760971, 0.09966965764760971, 0.09966965764760971, 0.09966965764760971, 0.09966965764760971, 0.09966965764760971, 0.09966965764760971, 0.09966965764760971, 0.09966965764760971, 0.09966965764760971, 0.11851715296506882, 0.11851715296506882, 0.11851715296506882, 0.11851715296506882, 0.11851715296506882, 0.11851715296506882, 0.11851715296506882, 0.11851715296506882, 0.11851715296506882, 0.11851715296506882, 0.11798884719610214, 0.11798884719610214, 0.11798884719610214, 0.11798884719610214, 0.11798884719610214, 0.11798884719610214, 0.11798884719610214, 0.11798884719610214, 0.11798884719610214, 0.11798884719610214, 0.07026266306638718, 0.07026266306638718, 0.07026266306638718, 0.07026266306638718, 0.07026266306638718, 0.07026266306638718, 0.07026266306638718, 0.07026266306638718, 0.07026266306638718, 0.07026266306638718, 0.09891729056835175, 0.09891729056835175, 0.09891729056835175, 0.09891729056835175, 0.09891729056835175, 0.09891729056835175, 0.09891729056835175, 0.09891729056835175, 0.09891729056835175, 0.09891729056835175, 0.10334653407335281, 0.10334653407335281, 0.10334653407335281, 0.10334653407335281, 0.10334653407335281, 0.10334653407335281, 0.10334653407335281, 0.10334653407335281, 0.10334653407335281, 0.10334653407335281, 0.08195504546165466, 0.08195504546165466, 0.08195504546165466, 0.08195504546165466, 0.08195504546165466, 0.08195504546165466, 0.08195504546165466, 0.08195504546165466, 0.08195504546165466, 0.08195504546165466, 0.1194334328174591, 0.1194334328174591, 0.1194334328174591, 0.1194334328174591, 0.1194334328174591, 0.1194334328174591, 0.1194334328174591, 0.1194334328174591, 0.1194334328174591, 0.1194334328174591, 0.0999038964509964, 0.0999038964509964, 0.0999038964509964, 0.0999038964509964, 0.0999038964509964, 0.0999038964509964, 0.0999038964509964, 0.0999038964509964, 0.0999038964509964, 0.0999038964509964, 0.09095080196857452, 0.09095080196857452, 0.09095080196857452, 0.09095080196857452, 0.09095080196857452, 0.09095080196857452, 0.09095080196857452, 0.09095080196857452, 0.09095080196857452, 0.09095080196857452, 0.10053019225597382, 0.10053019225597382, 0.10053019225597382, 0.10053019225597382, 0.10053019225597382, 0.10053019225597382, 0.10053019225597382, 0.10053019225597382, 0.10053019225597382, 0.10053019225597382, 0.10011626780033112, 0.10011626780033112, 0.10011626780033112, 0.10011626780033112, 0.10011626780033112, 0.10011626780033112, 0.10011626780033112, 0.10011626780033112, 0.10011626780033112, 0.10011626780033112, 0.1018744632601738, 0.1018744632601738, 0.1018744632601738, 0.1018744632601738, 0.1018744632601738, 0.1018744632601738, 0.1018744632601738, 0.1018744632601738, 0.1018744632601738, 0.1018744632601738, 0.1001269519329071, 0.1001269519329071, 0.1001269519329071, 0.1001269519329071, 0.1001269519329071, 0.1001269519329071, 0.1001269519329071, 0.1001269519329071, 0.1001269519329071, 0.1001269519329071, 0.10493463277816772, 0.10493463277816772, 0.10493463277816772, 0.10493463277816772, 0.10493463277816772, 0.10493463277816772, 0.10493463277816772, 0.10493463277816772, 0.10493463277816772, 0.10493463277816772, 0.0974389836192131, 0.0974389836192131, 0.0974389836192131, 0.0974389836192131, 0.0974389836192131, 0.0974389836192131, 0.0974389836192131, 0.0974389836192131, 0.0974389836192131, 0.0974389836192131, 0.10017149150371552, 0.10017149150371552, 0.10017149150371552, 0.10017149150371552, 0.10017149150371552, 0.10017149150371552, 0.10017149150371552, 0.10017149150371552, 0.10017149150371552, 0.10017149150371552, 0.11599474400281906, 0.11599474400281906, 0.11599474400281906, 0.11599474400281906, 0.11599474400281906, 0.11599474400281906, 0.11599474400281906, 0.11599474400281906, 0.11599474400281906, 0.11599474400281906, 0.09923920035362244, 0.09923920035362244, 0.09923920035362244, 0.09923920035362244, 0.09923920035362244, 0.09923920035362244, 0.09923920035362244, 0.09923920035362244, 0.09923920035362244, 0.09923920035362244, 0.10016842186450958, 0.10016842186450958, 0.10016842186450958, 0.10016842186450958, 0.10016842186450958, 0.10016842186450958, 0.10016842186450958, 0.10016842186450958, 0.10016842186450958, 0.10016842186450958, 0.11782253533601761, 0.11782253533601761, 0.11782253533601761, 0.11782253533601761, 0.11782253533601761, 0.11782253533601761, 0.11782253533601761, 0.11782253533601761, 0.11782253533601761, 0.11782253533601761, 0.12596473097801208, 0.12596473097801208, 0.12596473097801208, 0.12596473097801208, 0.12596473097801208, 0.12596473097801208, 0.12596473097801208, 0.12596473097801208, 0.12596473097801208, 0.12596473097801208, 0.08186501264572144, 0.08186501264572144, 0.08186501264572144, 0.08186501264572144, 0.08186501264572144, 0.08186501264572144, 0.08186501264572144, 0.08186501264572144, 0.08186501264572144, 0.08186501264572144, 0.10040923953056335, 0.10040923953056335, 0.10040923953056335, 0.10040923953056335, 0.10040923953056335, 0.10040923953056335, 0.10040923953056335, 0.10040923953056335, 0.10040923953056335, 0.10040923953056335, 0.10006163269281387, 0.10006163269281387, 0.10006163269281387, 0.10006163269281387, 0.10006163269281387, 0.10006163269281387, 0.10006163269281387, 0.10006163269281387, 0.10006163269281387, 0.10006163269281387, 0.1004909873008728, 0.1004909873008728, 0.1004909873008728, 0.1004909873008728, 0.1004909873008728, 0.1004909873008728, 0.1004909873008728, 0.1004909873008728, 0.1004909873008728, 0.1004909873008728], \"Term\": [\"abilities\", \"abilities\", \"abilities\", \"abilities\", \"abilities\", \"abilities\", \"abilities\", \"abilities\", \"abilities\", \"abilities\", \"ability\", \"ability\", \"ability\", \"ability\", \"ability\", \"ability\", \"ability\", \"ability\", \"ability\", \"ability\", \"access\", \"access\", \"access\", \"access\", \"access\", \"access\", \"access\", \"access\", \"access\", \"access\", \"afflicted\", \"afflicted\", \"afflicted\", \"afflicted\", \"afflicted\", \"afflicted\", \"afflicted\", \"afflicted\", \"afflicted\", \"afflicted\", \"afterall\", \"afterall\", \"afterall\", \"afterall\", \"afterall\", \"afterall\", \"afterall\", \"afterall\", \"afterall\", \"afterall\", \"alleviate\", \"alleviate\", \"alleviate\", \"alleviate\", \"alleviate\", \"alleviate\", \"alleviate\", \"alleviate\", \"alleviate\", \"alleviate\", \"annoying\", \"annoying\", \"annoying\", \"annoying\", \"annoying\", \"annoying\", \"annoying\", \"annoying\", \"annoying\", \"annoying\", \"apply\", \"apply\", \"apply\", \"apply\", \"apply\", \"apply\", \"apply\", \"apply\", \"apply\", \"apply\", \"apt\", \"apt\", \"apt\", \"apt\", \"apt\", \"apt\", \"apt\", \"apt\", \"apt\", \"apt\", \"assumed\", \"assumed\", \"assumed\", \"assumed\", \"assumed\", \"assumed\", \"assumed\", \"assumed\", \"assumed\", \"assumed\", \"atleat\", \"atleat\", \"atleat\", \"atleat\", \"atleat\", \"atleat\", \"atleat\", \"atleat\", \"atleat\", \"atleat\", \"automatically\", \"automatically\", \"automatically\", \"automatically\", \"automatically\", \"automatically\", \"automatically\", \"automatically\", \"automatically\", \"automatically\", \"b\", \"b\", \"b\", \"b\", \"b\", \"b\", \"b\", \"b\", \"b\", \"b\", \"bad\", \"bad\", \"bad\", \"bad\", \"bad\", \"bad\", \"bad\", \"bad\", \"bad\", \"bad\", \"banishing\", \"banishing\", \"banishing\", \"banishing\", \"banishing\", \"banishing\", \"banishing\", \"banishing\", \"banishing\", \"banishing\", \"based\", \"based\", \"based\", \"based\", \"based\", \"based\", \"based\", \"based\", \"based\", \"based\", \"basically\", \"basically\", \"basically\", \"basically\", \"basically\", \"basically\", \"basically\", \"basically\", \"basically\", \"basically\", \"battles\", \"battles\", \"battles\", \"battles\", \"battles\", \"battles\", \"battles\", \"battles\", \"battles\", \"battles\", \"beard\", \"beard\", \"beard\", \"beard\", \"beard\", \"beard\", \"beard\", \"beard\", \"beard\", \"beard\", \"beginning\", \"beginning\", \"beginning\", \"beginning\", \"beginning\", \"beginning\", \"beginning\", \"beginning\", \"beginning\", \"beginning\", \"believing\", \"believing\", \"believing\", \"believing\", \"believing\", \"believing\", \"believing\", \"believing\", \"believing\", \"believing\", \"ben\", \"ben\", \"ben\", \"ben\", \"ben\", \"ben\", \"ben\", \"ben\", \"ben\", \"ben\", \"bleaching\", \"bleaching\", \"bleaching\", \"bleaching\", \"bleaching\", \"bleaching\", \"bleaching\", \"bleaching\", \"bleaching\", \"bleaching\", \"blend\", \"blend\", \"blend\", \"blend\", \"blend\", \"blend\", \"blend\", \"blend\", \"blend\", \"blend\", \"blends\", \"blends\", \"blends\", \"blends\", \"blends\", \"blends\", \"blends\", \"blends\", \"blends\", \"blends\", \"bloody\", \"bloody\", \"bloody\", \"bloody\", \"bloody\", \"bloody\", \"bloody\", \"bloody\", \"bloody\", \"bloody\", \"blottle\", \"blottle\", \"blottle\", \"blottle\", \"blottle\", \"blottle\", \"blottle\", \"blottle\", \"blottle\", \"blottle\", \"blows\", \"blows\", \"blows\", \"blows\", \"blows\", \"blows\", \"blows\", \"blows\", \"blows\", \"blows\", \"boost\", \"boost\", \"boost\", \"boost\", \"boost\", \"boost\", \"boost\", \"boost\", \"boost\", \"boost\", \"bother\", \"bother\", \"bother\", \"bother\", \"bother\", \"bother\", \"bother\", \"bother\", \"bother\", \"bother\", \"bothers\", \"bothers\", \"bothers\", \"bothers\", \"bothers\", \"bothers\", \"bothers\", \"bothers\", \"bothers\", \"bothers\", \"bouncy\", \"bouncy\", \"bouncy\", \"bouncy\", \"bouncy\", \"bouncy\", \"bouncy\", \"bouncy\", \"bouncy\", \"bouncy\", \"briefly\", \"briefly\", \"briefly\", \"briefly\", \"briefly\", \"briefly\", \"briefly\", \"briefly\", \"briefly\", \"briefly\", \"bringing\", \"bringing\", \"bringing\", \"bringing\", \"bringing\", \"bringing\", \"bringing\", \"bringing\", \"bringing\", \"bringing\", \"burned\", \"burned\", \"burned\", \"burned\", \"burned\", \"burned\", \"burned\", \"burned\", \"burned\", \"burned\", \"buyers\", \"buyers\", \"buyers\", \"buyers\", \"buyers\", \"buyers\", \"buyers\", \"buyers\", \"buyers\", \"buyers\", \"cake\", \"cake\", \"cake\", \"cake\", \"cake\", \"cake\", \"cake\", \"cake\", \"cake\", \"cake\", \"cam\", \"cam\", \"cam\", \"cam\", \"cam\", \"cam\", \"cam\", \"cam\", \"cam\", \"cam\", \"cap\", \"cap\", \"cap\", \"cap\", \"cap\", \"cap\", \"cap\", \"cap\", \"cap\", \"cap\", \"casually\", \"casually\", \"casually\", \"casually\", \"casually\", \"casually\", \"casually\", \"casually\", \"casually\", \"casually\", \"changing\", \"changing\", \"changing\", \"changing\", \"changing\", \"changing\", \"changing\", \"changing\", \"changing\", \"changing\", \"claimed\", \"claimed\", \"claimed\", \"claimed\", \"claimed\", \"claimed\", \"claimed\", \"claimed\", \"claimed\", \"claimed\", \"clean\", \"clean\", \"clean\", \"clean\", \"clean\", \"clean\", \"clean\", \"clean\", \"clean\", \"clean\", \"cleaned\", \"cleaned\", \"cleaned\", \"cleaned\", \"cleaned\", \"cleaned\", \"cleaned\", \"cleaned\", \"cleaned\", \"cleaned\", \"cleanse\", \"cleanse\", \"cleanse\", \"cleanse\", \"cleanse\", \"cleanse\", \"cleanse\", \"cleanse\", \"cleanse\", \"cleanse\", \"cologne\", \"cologne\", \"cologne\", \"cologne\", \"cologne\", \"cologne\", \"cologne\", \"cologne\", \"cologne\", \"cologne\", \"comfy\", \"comfy\", \"comfy\", \"comfy\", \"comfy\", \"comfy\", \"comfy\", \"comfy\", \"comfy\", \"comfy\", \"competition\", \"competition\", \"competition\", \"competition\", \"competition\", \"competition\", \"competition\", \"competition\", \"competition\", \"competition\", \"complementary\", \"complementary\", \"complementary\", \"complementary\", \"complementary\", \"complementary\", \"complementary\", \"complementary\", \"complementary\", \"complementary\", \"consistency\", \"consistency\", \"consistency\", \"consistency\", \"consistency\", \"consistency\", \"consistency\", \"consistency\", \"consistency\", \"consistency\", \"consistently\", \"consistently\", \"consistently\", \"consistently\", \"consistently\", \"consistently\", \"consistently\", \"consistently\", \"consistently\", \"consistently\", \"constantly\", \"constantly\", \"constantly\", \"constantly\", \"constantly\", \"constantly\", \"constantly\", \"constantly\", \"constantly\", \"constantly\", \"convenience\", \"convenience\", \"convenience\", \"convenience\", \"convenience\", \"convenience\", \"convenience\", \"convenience\", \"convenience\", \"convenience\", \"courtesy\", \"courtesy\", \"courtesy\", \"courtesy\", \"courtesy\", \"courtesy\", \"courtesy\", \"courtesy\", \"courtesy\", \"courtesy\", \"curve\", \"curve\", \"curve\", \"curve\", \"curve\", \"curve\", \"curve\", \"curve\", \"curve\", \"curve\", \"customer\", \"customer\", \"customer\", \"customer\", \"customer\", \"customer\", \"customer\", \"customer\", \"customer\", \"customer\", \"dad\", \"dad\", \"dad\", \"dad\", \"dad\", \"dad\", \"dad\", \"dad\", \"dad\", \"dad\", \"dandriff\", \"dandriff\", \"dandriff\", \"dandriff\", \"dandriff\", \"dandriff\", \"dandriff\", \"dandriff\", \"dandriff\", \"dandriff\", \"dandruff\", \"dandruff\", \"dandruff\", \"dandruff\", \"dandruff\", \"dandruff\", \"dandruff\", \"dandruff\", \"dandruff\", \"dandruff\", \"dandruffc\", \"dandruffc\", \"dandruffc\", \"dandruffc\", \"dandruffc\", \"dandruffc\", \"dandruffc\", \"dandruffc\", \"dandruffc\", \"dandruffc\", \"days\", \"days\", \"days\", \"days\", \"days\", \"days\", \"days\", \"days\", \"days\", \"days\", \"deal\", \"deal\", \"deal\", \"deal\", \"deal\", \"deal\", \"deal\", \"deal\", \"deal\", \"deal\", \"decrease\", \"decrease\", \"decrease\", \"decrease\", \"decrease\", \"decrease\", \"decrease\", \"decrease\", \"decrease\", \"decrease\", \"definetely\", \"definetely\", \"definetely\", \"definetely\", \"definetely\", \"definetely\", \"definetely\", \"definetely\", \"definetely\", \"definetely\", \"defining\", \"defining\", \"defining\", \"defining\", \"defining\", \"defining\", \"defining\", \"defining\", \"defining\", \"defining\", \"descript\", \"descript\", \"descript\", \"descript\", \"descript\", \"descript\", \"descript\", \"descript\", \"descript\", \"descript\", \"desperation\", \"desperation\", \"desperation\", \"desperation\", \"desperation\", \"desperation\", \"desperation\", \"desperation\", \"desperation\", \"desperation\", \"diagnosed\", \"diagnosed\", \"diagnosed\", \"diagnosed\", \"diagnosed\", \"diagnosed\", \"diagnosed\", \"diagnosed\", \"diagnosed\", \"diagnosed\", \"diet\", \"diet\", \"diet\", \"diet\", \"diet\", \"diet\", \"diet\", \"diet\", \"diet\", \"diet\", \"directions\", \"directions\", \"directions\", \"directions\", \"directions\", \"directions\", \"directions\", \"directions\", \"directions\", \"directions\", \"dirty\", \"dirty\", \"dirty\", \"dirty\", \"dirty\", \"dirty\", \"dirty\", \"dirty\", \"dirty\", \"dirty\", \"disliked\", \"disliked\", \"disliked\", \"disliked\", \"disliked\", \"disliked\", \"disliked\", \"disliked\", \"disliked\", \"disliked\", \"dispensing\", \"dispensing\", \"dispensing\", \"dispensing\", \"dispensing\", \"dispensing\", \"dispensing\", \"dispensing\", \"dispensing\", \"dispensing\", \"doeses\", \"doeses\", \"doeses\", \"doeses\", \"doeses\", \"doeses\", \"doeses\", \"doeses\", \"doeses\", \"doeses\", \"dullness\", \"dullness\", \"dullness\", \"dullness\", \"dullness\", \"dullness\", \"dullness\", \"dullness\", \"dullness\", \"dullness\", \"ease\", \"ease\", \"ease\", \"ease\", \"ease\", \"ease\", \"ease\", \"ease\", \"ease\", \"ease\", \"effectively\", \"effectively\", \"effectively\", \"effectively\", \"effectively\", \"effectively\", \"effectively\", \"effectively\", \"effectively\", \"effectively\", \"emphasis\", \"emphasis\", \"emphasis\", \"emphasis\", \"emphasis\", \"emphasis\", \"emphasis\", \"emphasis\", \"emphasis\", \"emphasis\", \"emphasize\", \"emphasize\", \"emphasize\", \"emphasize\", \"emphasize\", \"emphasize\", \"emphasize\", \"emphasize\", \"emphasize\", \"emphasize\", \"emptied\", \"emptied\", \"emptied\", \"emptied\", \"emptied\", \"emptied\", \"emptied\", \"emptied\", \"emptied\", \"emptied\", \"ends\", \"ends\", \"ends\", \"ends\", \"ends\", \"ends\", \"ends\", \"ends\", \"ends\", \"ends\", \"envelope\", \"envelope\", \"envelope\", \"envelope\", \"envelope\", \"envelope\", \"envelope\", \"envelope\", \"envelope\", \"envelope\", \"essence\", \"essence\", \"essence\", \"essence\", \"essence\", \"essence\", \"essence\", \"essence\", \"essence\", \"essence\", \"estimation\", \"estimation\", \"estimation\", \"estimation\", \"estimation\", \"estimation\", \"estimation\", \"estimation\", \"estimation\", \"estimation\", \"eternity\", \"eternity\", \"eternity\", \"eternity\", \"eternity\", \"eternity\", \"eternity\", \"eternity\", \"eternity\", \"eternity\", \"eucalyptus\", \"eucalyptus\", \"eucalyptus\", \"eucalyptus\", \"eucalyptus\", \"eucalyptus\", \"eucalyptus\", \"eucalyptus\", \"eucalyptus\", \"eucalyptus\", \"eventually\", \"eventually\", \"eventually\", \"eventually\", \"eventually\", \"eventually\", \"eventually\", \"eventually\", \"eventually\", \"eventually\", \"exacerbating\", \"exacerbating\", \"exacerbating\", \"exacerbating\", \"exacerbating\", \"exacerbating\", \"exacerbating\", \"exacerbating\", \"exacerbating\", \"exacerbating\", \"excelent\", \"excelent\", \"excelent\", \"excelent\", \"excelent\", \"excelent\", \"excelent\", \"excelent\", \"excelent\", \"excelent\", \"exclusively\", \"exclusively\", \"exclusively\", \"exclusively\", \"exclusively\", \"exclusively\", \"exclusively\", \"exclusively\", \"exclusively\", \"exclusively\", \"eyes\", \"eyes\", \"eyes\", \"eyes\", \"eyes\", \"eyes\", \"eyes\", \"eyes\", \"eyes\", \"eyes\", \"feeel\", \"feeel\", \"feeel\", \"feeel\", \"feeel\", \"feeel\", \"feeel\", \"feeel\", \"feeel\", \"feeel\", \"feel\", \"feel\", \"feel\", \"feel\", \"feel\", \"feel\", \"feel\", \"feel\", \"feel\", \"feel\", \"fiancee\", \"fiancee\", \"fiancee\", \"fiancee\", \"fiancee\", \"fiancee\", \"fiancee\", \"fiancee\", \"fiancee\", \"fiancee\", \"figure\", \"figure\", \"figure\", \"figure\", \"figure\", \"figure\", \"figure\", \"figure\", \"figure\", \"figure\", \"fill\", \"fill\", \"fill\", \"fill\", \"fill\", \"fill\", \"fill\", \"fill\", \"fill\", \"fill\", \"fix\", \"fix\", \"fix\", \"fix\", \"fix\", \"fix\", \"fix\", \"fix\", \"fix\", \"fix\", \"flakes\", \"flakes\", \"flakes\", \"flakes\", \"flakes\", \"flakes\", \"flakes\", \"flakes\", \"flakes\", \"flakes\", \"flowers\", \"flowers\", \"flowers\", \"flowers\", \"flowers\", \"flowers\", \"flowers\", \"flowers\", \"flowers\", \"flowers\", \"fordry\", \"fordry\", \"fordry\", \"fordry\", \"fordry\", \"fordry\", \"fordry\", \"fordry\", \"fordry\", \"fordry\", \"forgot\", \"forgot\", \"forgot\", \"forgot\", \"forgot\", \"forgot\", \"forgot\", \"forgot\", \"forgot\", \"forgot\", \"formulas\", \"formulas\", \"formulas\", \"formulas\", \"formulas\", \"formulas\", \"formulas\", \"formulas\", \"formulas\", \"formulas\", \"fortunately\", \"fortunately\", \"fortunately\", \"fortunately\", \"fortunately\", \"fortunately\", \"fortunately\", \"fortunately\", \"fortunately\", \"fortunately\", \"freaks\", \"freaks\", \"freaks\", \"freaks\", \"freaks\", \"freaks\", \"freaks\", \"freaks\", \"freaks\", \"freaks\", \"free\", \"free\", \"free\", \"free\", \"free\", \"free\", \"free\", \"free\", \"free\", \"free\", \"friday\", \"friday\", \"friday\", \"friday\", \"friday\", \"friday\", \"friday\", \"friday\", \"friday\", \"friday\", \"fungals\", \"fungals\", \"fungals\", \"fungals\", \"fungals\", \"fungals\", \"fungals\", \"fungals\", \"fungals\", \"fungals\", \"genie\", \"genie\", \"genie\", \"genie\", \"genie\", \"genie\", \"genie\", \"genie\", \"genie\", \"genie\", \"gift\", \"gift\", \"gift\", \"gift\", \"gift\", \"gift\", \"gift\", \"gift\", \"gift\", \"gift\", \"givez\", \"givez\", \"givez\", \"givez\", \"givez\", \"givez\", \"givez\", \"givez\", \"givez\", \"givez\", \"glaring\", \"glaring\", \"glaring\", \"glaring\", \"glaring\", \"glaring\", \"glaring\", \"glaring\", \"glaring\", \"glaring\", \"goood\", \"goood\", \"goood\", \"goood\", \"goood\", \"goood\", \"goood\", \"goood\", \"goood\", \"goood\", \"grainy\", \"grainy\", \"grainy\", \"grainy\", \"grainy\", \"grainy\", \"grainy\", \"grainy\", \"grainy\", \"grainy\", \"grease\", \"grease\", \"grease\", \"grease\", \"grease\", \"grease\", \"grease\", \"grease\", \"grease\", \"grease\", \"greasier\", \"greasier\", \"greasier\", \"greasier\", \"greasier\", \"greasier\", \"greasier\", \"greasier\", \"greasier\", \"greasier\", \"gross\", \"gross\", \"gross\", \"gross\", \"gross\", \"gross\", \"gross\", \"gross\", \"gross\", \"gross\", \"harmless\", \"harmless\", \"harmless\", \"harmless\", \"harmless\", \"harmless\", \"harmless\", \"harmless\", \"harmless\", \"harmless\", \"hate\", \"hate\", \"hate\", \"hate\", \"hate\", \"hate\", \"hate\", \"hate\", \"hate\", \"hate\", \"hats\", \"hats\", \"hats\", \"hats\", \"hats\", \"hats\", \"hats\", \"hats\", \"hats\", \"hats\", \"head\", \"head\", \"head\", \"head\", \"head\", \"head\", \"head\", \"head\", \"head\", \"head\", \"headache\", \"headache\", \"headache\", \"headache\", \"headache\", \"headache\", \"headache\", \"headache\", \"headache\", \"headache\", \"health\", \"health\", \"health\", \"health\", \"health\", \"health\", \"health\", \"health\", \"health\", \"health\", \"held\", \"held\", \"held\", \"held\", \"held\", \"held\", \"held\", \"held\", \"held\", \"held\", \"help\", \"help\", \"help\", \"help\", \"help\", \"help\", \"help\", \"help\", \"help\", \"help\", \"hesitated\", \"hesitated\", \"hesitated\", \"hesitated\", \"hesitated\", \"hesitated\", \"hesitated\", \"hesitated\", \"hesitated\", \"hesitated\", \"hints\", \"hints\", \"hints\", \"hints\", \"hints\", \"hints\", \"hints\", \"hints\", \"hints\", \"hints\", \"homemade\", \"homemade\", \"homemade\", \"homemade\", \"homemade\", \"homemade\", \"homemade\", \"homemade\", \"homemade\", \"homemade\", \"horible\", \"horible\", \"horible\", \"horible\", \"horible\", \"horible\", \"horible\", \"horible\", \"horible\", \"horible\", \"hormones\", \"hormones\", \"hormones\", \"hormones\", \"hormones\", \"hormones\", \"hormones\", \"hormones\", \"hormones\", \"hormones\", \"humid\", \"humid\", \"humid\", \"humid\", \"humid\", \"humid\", \"humid\", \"humid\", \"humid\", \"humid\", \"hve\", \"hve\", \"hve\", \"hve\", \"hve\", \"hve\", \"hve\", \"hve\", \"hve\", \"hve\", \"ignoring\", \"ignoring\", \"ignoring\", \"ignoring\", \"ignoring\", \"ignoring\", \"ignoring\", \"ignoring\", \"ignoring\", \"ignoring\", \"influenstor\", \"influenstor\", \"influenstor\", \"influenstor\", \"influenstor\", \"influenstor\", \"influenstor\", \"influenstor\", \"influenstor\", \"influenstor\", \"info\", \"info\", \"info\", \"info\", \"info\", \"info\", \"info\", \"info\", \"info\", \"info\", \"irritable\", \"irritable\", \"irritable\", \"irritable\", \"irritable\", \"irritable\", \"irritable\", \"irritable\", \"irritable\", \"irritable\", \"itched\", \"itched\", \"itched\", \"itched\", \"itched\", \"itched\", \"itched\", \"itched\", \"itched\", \"itched\", \"itchiness\", \"itchiness\", \"itchiness\", \"itchiness\", \"itchiness\", \"itchiness\", \"itchiness\", \"itchiness\", \"itchiness\", \"itchiness\", \"jolly\", \"jolly\", \"jolly\", \"jolly\", \"jolly\", \"jolly\", \"jolly\", \"jolly\", \"jolly\", \"jolly\", \"juat\", \"juat\", \"juat\", \"juat\", \"juat\", \"juat\", \"juat\", \"juat\", \"juat\", \"juat\", \"judgement\", \"judgement\", \"judgement\", \"judgement\", \"judgement\", \"judgement\", \"judgement\", \"judgement\", \"judgement\", \"judgement\", \"key\", \"key\", \"key\", \"key\", \"key\", \"key\", \"key\", \"key\", \"key\", \"key\", \"knocked\", \"knocked\", \"knocked\", \"knocked\", \"knocked\", \"knocked\", \"knocked\", \"knocked\", \"knocked\", \"knocked\", \"lacking\", \"lacking\", \"lacking\", \"lacking\", \"lacking\", \"lacking\", \"lacking\", \"lacking\", \"lacking\", \"lacking\", \"lathering\", \"lathering\", \"lathering\", \"lathering\", \"lathering\", \"lathering\", \"lathering\", \"lathering\", \"lathering\", \"lathering\", \"licorice\", \"licorice\", \"licorice\", \"licorice\", \"licorice\", \"licorice\", \"licorice\", \"licorice\", \"licorice\", \"licorice\", \"lie\", \"lie\", \"lie\", \"lie\", \"lie\", \"lie\", \"lie\", \"lie\", \"lie\", \"lie\", \"lighter\", \"lighter\", \"lighter\", \"lighter\", \"lighter\", \"lighter\", \"lighter\", \"lighter\", \"lighter\", \"lighter\", \"limp\", \"limp\", \"limp\", \"limp\", \"limp\", \"limp\", \"limp\", \"limp\", \"limp\", \"limp\", \"log\", \"log\", \"log\", \"log\", \"log\", \"log\", \"log\", \"log\", \"log\", \"log\", \"longtime\", \"longtime\", \"longtime\", \"longtime\", \"longtime\", \"longtime\", \"longtime\", \"longtime\", \"longtime\", \"longtime\", \"look\", \"look\", \"look\", \"look\", \"look\", \"look\", \"look\", \"look\", \"look\", \"look\", \"loving\", \"loving\", \"loving\", \"loving\", \"loving\", \"loving\", \"loving\", \"loving\", \"loving\", \"loving\", \"managed\", \"managed\", \"managed\", \"managed\", \"managed\", \"managed\", \"managed\", \"managed\", \"managed\", \"managed\", \"marvelous\", \"marvelous\", \"marvelous\", \"marvelous\", \"marvelous\", \"marvelous\", \"marvelous\", \"marvelous\", \"marvelous\", \"marvelous\", \"masage\", \"masage\", \"masage\", \"masage\", \"masage\", \"masage\", \"masage\", \"masage\", \"masage\", \"masage\", \"membranes\", \"membranes\", \"membranes\", \"membranes\", \"membranes\", \"membranes\", \"membranes\", \"membranes\", \"membranes\", \"membranes\", \"miami\", \"miami\", \"miami\", \"miami\", \"miami\", \"miami\", \"miami\", \"miami\", \"miami\", \"miami\", \"midwestern\", \"midwestern\", \"midwestern\", \"midwestern\", \"midwestern\", \"midwestern\", \"midwestern\", \"midwestern\", \"midwestern\", \"midwestern\", \"mildly\", \"mildly\", \"mildly\", \"mildly\", \"mildly\", \"mildly\", \"mildly\", \"mildly\", \"mildly\", \"mildly\", \"miracles\", \"miracles\", \"miracles\", \"miracles\", \"miracles\", \"miracles\", \"miracles\", \"miracles\", \"miracles\", \"miracles\", \"multiple\", \"multiple\", \"multiple\", \"multiple\", \"multiple\", \"multiple\", \"multiple\", \"multiple\", \"multiple\", \"multiple\", \"myriad\", \"myriad\", \"myriad\", \"myriad\", \"myriad\", \"myriad\", \"myriad\", \"myriad\", \"myriad\", \"myriad\", \"n\", \"n\", \"n\", \"n\", \"n\", \"n\", \"n\", \"n\", \"n\", \"n\", \"negative\", \"negative\", \"negative\", \"negative\", \"negative\", \"negative\", \"negative\", \"negative\", \"negative\", \"negative\", \"nemesis\", \"nemesis\", \"nemesis\", \"nemesis\", \"nemesis\", \"nemesis\", \"nemesis\", \"nemesis\", \"nemesis\", \"nemesis\", \"neurotoxicity\", \"neurotoxicity\", \"neurotoxicity\", \"neurotoxicity\", \"neurotoxicity\", \"neurotoxicity\", \"neurotoxicity\", \"neurotoxicity\", \"neurotoxicity\", \"neurotoxicity\", \"newer\", \"newer\", \"newer\", \"newer\", \"newer\", \"newer\", \"newer\", \"newer\", \"newer\", \"newer\", \"nice\", \"nice\", \"nice\", \"nice\", \"nice\", \"nice\", \"nice\", \"nice\", \"nice\", \"nice\", \"norm\", \"norm\", \"norm\", \"norm\", \"norm\", \"norm\", \"norm\", \"norm\", \"norm\", \"norm\", \"nt\", \"nt\", \"nt\", \"nt\", \"nt\", \"nt\", \"nt\", \"nt\", \"nt\", \"nt\", \"ny\", \"ny\", \"ny\", \"ny\", \"ny\", \"ny\", \"ny\", \"ny\", \"ny\", \"ny\", \"occassional\", \"occassional\", \"occassional\", \"occassional\", \"occassional\", \"occassional\", \"occassional\", \"occassional\", \"occassional\", \"occassional\", \"oh\", \"oh\", \"oh\", \"oh\", \"oh\", \"oh\", \"oh\", \"oh\", \"oh\", \"oh\", \"opposed\", \"opposed\", \"opposed\", \"opposed\", \"opposed\", \"opposed\", \"opposed\", \"opposed\", \"opposed\", \"opposed\", \"orangey\", \"orangey\", \"orangey\", \"orangey\", \"orangey\", \"orangey\", \"orangey\", \"orangey\", \"orangey\", \"orangey\", \"outs\", \"outs\", \"outs\", \"outs\", \"outs\", \"outs\", \"outs\", \"outs\", \"outs\", \"outs\", \"outstanding\", \"outstanding\", \"outstanding\", \"outstanding\", \"outstanding\", \"outstanding\", \"outstanding\", \"outstanding\", \"outstanding\", \"outstanding\", \"outweigh\", \"outweigh\", \"outweigh\", \"outweigh\", \"outweigh\", \"outweigh\", \"outweigh\", \"outweigh\", \"outweigh\", \"outweigh\", \"overtakes\", \"overtakes\", \"overtakes\", \"overtakes\", \"overtakes\", \"overtakes\", \"overtakes\", \"overtakes\", \"overtakes\", \"overtakes\", \"partners\", \"partners\", \"partners\", \"partners\", \"partners\", \"partners\", \"partners\", \"partners\", \"partners\", \"partners\", \"passed\", \"passed\", \"passed\", \"passed\", \"passed\", \"passed\", \"passed\", \"passed\", \"passed\", \"passed\", \"paste\", \"paste\", \"paste\", \"paste\", \"paste\", \"paste\", \"paste\", \"paste\", \"paste\", \"paste\", \"perfume\", \"perfume\", \"perfume\", \"perfume\", \"perfume\", \"perfume\", \"perfume\", \"perfume\", \"perfume\", \"perfume\", \"perfumy\", \"perfumy\", \"perfumy\", \"perfumy\", \"perfumy\", \"perfumy\", \"perfumy\", \"perfumy\", \"perfumy\", \"perfumy\", \"persons\", \"persons\", \"persons\", \"persons\", \"persons\", \"persons\", \"persons\", \"persons\", \"persons\", \"persons\", \"pores\", \"pores\", \"pores\", \"pores\", \"pores\", \"pores\", \"pores\", \"pores\", \"pores\", \"pores\", \"positive\", \"positive\", \"positive\", \"positive\", \"positive\", \"positive\", \"positive\", \"positive\", \"positive\", \"positive\", \"possibly\", \"possibly\", \"possibly\", \"possibly\", \"possibly\", \"possibly\", \"possibly\", \"possibly\", \"possibly\", \"possibly\", \"postal\", \"postal\", \"postal\", \"postal\", \"postal\", \"postal\", \"postal\", \"postal\", \"postal\", \"postal\", \"prescribe\", \"prescribe\", \"prescribe\", \"prescribe\", \"prescribe\", \"prescribe\", \"prescribe\", \"prescribe\", \"prescribe\", \"prescribe\", \"produce\", \"produce\", \"produce\", \"produce\", \"produce\", \"produce\", \"produce\", \"produce\", \"produce\", \"produce\", \"product\", \"product\", \"product\", \"product\", \"product\", \"product\", \"product\", \"product\", \"product\", \"product\", \"promise\", \"promise\", \"promise\", \"promise\", \"promise\", \"promise\", \"promise\", \"promise\", \"promise\", \"promise\", \"protector\", \"protector\", \"protector\", \"protector\", \"protector\", \"protector\", \"protector\", \"protector\", \"protector\", \"protector\", \"proved\", \"proved\", \"proved\", \"proved\", \"proved\", \"proved\", \"proved\", \"proved\", \"proved\", \"proved\", \"pulsating\", \"pulsating\", \"pulsating\", \"pulsating\", \"pulsating\", \"pulsating\", \"pulsating\", \"pulsating\", \"pulsating\", \"pulsating\", \"quickly\", \"quickly\", \"quickly\", \"quickly\", \"quickly\", \"quickly\", \"quickly\", \"quickly\", \"quickly\", \"quickly\", \"quip\", \"quip\", \"quip\", \"quip\", \"quip\", \"quip\", \"quip\", \"quip\", \"quip\", \"quip\", \"randomly\", \"randomly\", \"randomly\", \"randomly\", \"randomly\", \"randomly\", \"randomly\", \"randomly\", \"randomly\", \"randomly\", \"realized\", \"realized\", \"realized\", \"realized\", \"realized\", \"realized\", \"realized\", \"realized\", \"realized\", \"realized\", \"reccomnd\", \"reccomnd\", \"reccomnd\", \"reccomnd\", \"reccomnd\", \"reccomnd\", \"reccomnd\", \"reccomnd\", \"reccomnd\", \"reccomnd\", \"received\", \"received\", \"received\", \"received\", \"received\", \"received\", \"received\", \"received\", \"received\", \"received\", \"recieved\", \"recieved\", \"recieved\", \"recieved\", \"recieved\", \"recieved\", \"recieved\", \"recieved\", \"recieved\", \"recieved\", \"recommando\", \"recommando\", \"recommando\", \"recommando\", \"recommando\", \"recommando\", \"recommando\", \"recommando\", \"recommando\", \"recommando\", \"redirected\", \"redirected\", \"redirected\", \"redirected\", \"redirected\", \"redirected\", \"redirected\", \"redirected\", \"redirected\", \"redirected\", \"refreshingly\", \"refreshingly\", \"refreshingly\", \"refreshingly\", \"refreshingly\", \"refreshingly\", \"refreshingly\", \"refreshingly\", \"refreshingly\", \"refreshingly\", \"regain\", \"regain\", \"regain\", \"regain\", \"regain\", \"regain\", \"regain\", \"regain\", \"regain\", \"regain\", \"regret\", \"regret\", \"regret\", \"regret\", \"regret\", \"regret\", \"regret\", \"regret\", \"regret\", \"regret\", \"regurgitate\", \"regurgitate\", \"regurgitate\", \"regurgitate\", \"regurgitate\", \"regurgitate\", \"regurgitate\", \"regurgitate\", \"regurgitate\", \"regurgitate\", \"relaxer\", \"relaxer\", \"relaxer\", \"relaxer\", \"relaxer\", \"relaxer\", \"relaxer\", \"relaxer\", \"relaxer\", \"relaxer\", \"relieved\", \"relieved\", \"relieved\", \"relieved\", \"relieved\", \"relieved\", \"relieved\", \"relieved\", \"relieved\", \"relieved\", \"relitvly\", \"relitvly\", \"relitvly\", \"relitvly\", \"relitvly\", \"relitvly\", \"relitvly\", \"relitvly\", \"relitvly\", \"relitvly\", \"renewed\", \"renewed\", \"renewed\", \"renewed\", \"renewed\", \"renewed\", \"renewed\", \"renewed\", \"renewed\", \"renewed\", \"replace\", \"replace\", \"replace\", \"replace\", \"replace\", \"replace\", \"replace\", \"replace\", \"replace\", \"replace\", \"rest\", \"rest\", \"rest\", \"rest\", \"rest\", \"rest\", \"rest\", \"rest\", \"rest\", \"rest\", \"reversed\", \"reversed\", \"reversed\", \"reversed\", \"reversed\", \"reversed\", \"reversed\", \"reversed\", \"reversed\", \"reversed\", \"review\", \"review\", \"review\", \"review\", \"review\", \"review\", \"review\", \"review\", \"review\", \"review\", \"revives\", \"revives\", \"revives\", \"revives\", \"revives\", \"revives\", \"revives\", \"revives\", \"revives\", \"revives\", \"rinses\", \"rinses\", \"rinses\", \"rinses\", \"rinses\", \"rinses\", \"rinses\", \"rinses\", \"rinses\", \"rinses\", \"road\", \"road\", \"road\", \"road\", \"road\", \"road\", \"road\", \"road\", \"road\", \"road\", \"safer\", \"safer\", \"safer\", \"safer\", \"safer\", \"safer\", \"safer\", \"safer\", \"safer\", \"safer\", \"samples\", \"samples\", \"samples\", \"samples\", \"samples\", \"samples\", \"samples\", \"samples\", \"samples\", \"samples\", \"scalp\", \"scalp\", \"scalp\", \"scalp\", \"scalp\", \"scalp\", \"scalp\", \"scalp\", \"scalp\", \"scalp\", \"scratch\", \"scratch\", \"scratch\", \"scratch\", \"scratch\", \"scratch\", \"scratch\", \"scratch\", \"scratch\", \"scratch\", \"secondary\", \"secondary\", \"secondary\", \"secondary\", \"secondary\", \"secondary\", \"secondary\", \"secondary\", \"secondary\", \"secondary\", \"sensitivity\", \"sensitivity\", \"sensitivity\", \"sensitivity\", \"sensitivity\", \"sensitivity\", \"sensitivity\", \"sensitivity\", \"sensitivity\", \"sensitivity\", \"seriously\", \"seriously\", \"seriously\", \"seriously\", \"seriously\", \"seriously\", \"seriously\", \"seriously\", \"seriously\", \"seriously\", \"shampoo\", \"shampoo\", \"shampoo\", \"shampoo\", \"shampoo\", \"shampoo\", \"shampoo\", \"shampoo\", \"shampoo\", \"shampoo\", \"shanpoo\", \"shanpoo\", \"shanpoo\", \"shanpoo\", \"shanpoo\", \"shanpoo\", \"shanpoo\", \"shanpoo\", \"shanpoo\", \"shanpoo\", \"shared\", \"shared\", \"shared\", \"shared\", \"shared\", \"shared\", \"shared\", \"shared\", \"shared\", \"shared\", \"sherbert\", \"sherbert\", \"sherbert\", \"sherbert\", \"sherbert\", \"sherbert\", \"sherbert\", \"sherbert\", \"sherbert\", \"sherbert\", \"shopper\", \"shopper\", \"shopper\", \"shopper\", \"shopper\", \"shopper\", \"shopper\", \"shopper\", \"shopper\", \"shopper\", \"shoulders\", \"shoulders\", \"shoulders\", \"shoulders\", \"shoulders\", \"shoulders\", \"shoulders\", \"shoulders\", \"shoulders\", \"shoulders\", \"showing\", \"showing\", \"showing\", \"showing\", \"showing\", \"showing\", \"showing\", \"showing\", \"showing\", \"showing\", \"shrink\", \"shrink\", \"shrink\", \"shrink\", \"shrink\", \"shrink\", \"shrink\", \"shrink\", \"shrink\", \"shrink\", \"silkyness\", \"silkyness\", \"silkyness\", \"silkyness\", \"silkyness\", \"silkyness\", \"silkyness\", \"silkyness\", \"silkyness\", \"silkyness\", \"silmilar\", \"silmilar\", \"silmilar\", \"silmilar\", \"silmilar\", \"silmilar\", \"silmilar\", \"silmilar\", \"silmilar\", \"silmilar\", \"silver\", \"silver\", \"silver\", \"silver\", \"silver\", \"silver\", \"silver\", \"silver\", \"silver\", \"silver\", \"skelp\", \"skelp\", \"skelp\", \"skelp\", \"skelp\", \"skelp\", \"skelp\", \"skelp\", \"skelp\", \"skelp\", \"smackers\", \"smackers\", \"smackers\", \"smackers\", \"smackers\", \"smackers\", \"smackers\", \"smackers\", \"smackers\", \"smackers\", \"smell\", \"smell\", \"smell\", \"smell\", \"smell\", \"smell\", \"smell\", \"smell\", \"smell\", \"smell\", \"smoothe\", \"smoothe\", \"smoothe\", \"smoothe\", \"smoothe\", \"smoothe\", \"smoothe\", \"smoothe\", \"smoothe\", \"smoothe\", \"smothering\", \"smothering\", \"smothering\", \"smothering\", \"smothering\", \"smothering\", \"smothering\", \"smothering\", \"smothering\", \"smothering\", \"solders\", \"solders\", \"solders\", \"solders\", \"solders\", \"solders\", \"solders\", \"solders\", \"solders\", \"solders\", \"soooooo\", \"soooooo\", \"soooooo\", \"soooooo\", \"soooooo\", \"soooooo\", \"soooooo\", \"soooooo\", \"soooooo\", \"soooooo\", \"southwest\", \"southwest\", \"southwest\", \"southwest\", \"southwest\", \"southwest\", \"southwest\", \"southwest\", \"southwest\", \"southwest\", \"speaks\", \"speaks\", \"speaks\", \"speaks\", \"speaks\", \"speaks\", \"speaks\", \"speaks\", \"speaks\", \"speaks\", \"spend\", \"spend\", \"spend\", \"spend\", \"spend\", \"spend\", \"spend\", \"spend\", \"spend\", \"spend\", \"spent\", \"spent\", \"spent\", \"spent\", \"spent\", \"spent\", \"spent\", \"spent\", \"spent\", \"spent\", \"sporadic\", \"sporadic\", \"sporadic\", \"sporadic\", \"sporadic\", \"sporadic\", \"sporadic\", \"sporadic\", \"sporadic\", \"sporadic\", \"sporadically\", \"sporadically\", \"sporadically\", \"sporadically\", \"sporadically\", \"sporadically\", \"sporadically\", \"sporadically\", \"sporadically\", \"sporadically\", \"standard\", \"standard\", \"standard\", \"standard\", \"standard\", \"standard\", \"standard\", \"standard\", \"standard\", \"standard\", \"static\", \"static\", \"static\", \"static\", \"static\", \"static\", \"static\", \"static\", \"static\", \"static\", \"staticy\", \"staticy\", \"staticy\", \"staticy\", \"staticy\", \"staticy\", \"staticy\", \"staticy\", \"staticy\", \"staticy\", \"stayed\", \"stayed\", \"stayed\", \"stayed\", \"stayed\", \"stayed\", \"stayed\", \"stayed\", \"stayed\", \"stayed\", \"sth\", \"sth\", \"sth\", \"sth\", \"sth\", \"sth\", \"sth\", \"sth\", \"sth\", \"sth\", \"stickiness\", \"stickiness\", \"stickiness\", \"stickiness\", \"stickiness\", \"stickiness\", \"stickiness\", \"stickiness\", \"stickiness\", \"stickiness\", \"straightener\", \"straightener\", \"straightener\", \"straightener\", \"straightener\", \"straightener\", \"straightener\", \"straightener\", \"straightener\", \"straightener\", \"strength\", \"strength\", \"strength\", \"strength\", \"strength\", \"strength\", \"strength\", \"strength\", \"strength\", \"strength\", \"stripping\", \"stripping\", \"stripping\", \"stripping\", \"stripping\", \"stripping\", \"stripping\", \"stripping\", \"stripping\", \"stripping\", \"stuff\", \"stuff\", \"stuff\", \"stuff\", \"stuff\", \"stuff\", \"stuff\", \"stuff\", \"stuff\", \"stuff\", \"stuggling\", \"stuggling\", \"stuggling\", \"stuggling\", \"stuggling\", \"stuggling\", \"stuggling\", \"stuggling\", \"stuggling\", \"stuggling\", \"subsided\", \"subsided\", \"subsided\", \"subsided\", \"subsided\", \"subsided\", \"subsided\", \"subsided\", \"subsided\", \"subsided\", \"sunny\", \"sunny\", \"sunny\", \"sunny\", \"sunny\", \"sunny\", \"sunny\", \"sunny\", \"sunny\", \"sunny\", \"switched\", \"switched\", \"switched\", \"switched\", \"switched\", \"switched\", \"switched\", \"switched\", \"switched\", \"switched\", \"taken\", \"taken\", \"taken\", \"taken\", \"taken\", \"taken\", \"taken\", \"taken\", \"taken\", \"taken\", \"tasker\", \"tasker\", \"tasker\", \"tasker\", \"tasker\", \"tasker\", \"tasker\", \"tasker\", \"tasker\", \"tasker\", \"teach\", \"teach\", \"teach\", \"teach\", \"teach\", \"teach\", \"teach\", \"teach\", \"teach\", \"teach\", \"teal\", \"teal\", \"teal\", \"teal\", \"teal\", \"teal\", \"teal\", \"teal\", \"teal\", \"teal\", \"technology\", \"technology\", \"technology\", \"technology\", \"technology\", \"technology\", \"technology\", \"technology\", \"technology\", \"technology\", \"tend\", \"tend\", \"tend\", \"tend\", \"tend\", \"tend\", \"tend\", \"tend\", \"tend\", \"tend\", \"terrible\", \"terrible\", \"terrible\", \"terrible\", \"terrible\", \"terrible\", \"terrible\", \"terrible\", \"terrible\", \"terrible\", \"tickle\", \"tickle\", \"tickle\", \"tickle\", \"tickle\", \"tickle\", \"tickle\", \"tickle\", \"tickle\", \"tickle\", \"toe\", \"toe\", \"toe\", \"toe\", \"toe\", \"toe\", \"toe\", \"toe\", \"toe\", \"toe\", \"topically\", \"topically\", \"topically\", \"topically\", \"topically\", \"topically\", \"topically\", \"topically\", \"topically\", \"topically\", \"totally\", \"totally\", \"totally\", \"totally\", \"totally\", \"totally\", \"totally\", \"totally\", \"totally\", \"totally\", \"touted\", \"touted\", \"touted\", \"touted\", \"touted\", \"touted\", \"touted\", \"touted\", \"touted\", \"touted\", \"town\", \"town\", \"town\", \"town\", \"town\", \"town\", \"town\", \"town\", \"town\", \"town\", \"treating\", \"treating\", \"treating\", \"treating\", \"treating\", \"treating\", \"treating\", \"treating\", \"treating\", \"treating\", \"tube\", \"tube\", \"tube\", \"tube\", \"tube\", \"tube\", \"tube\", \"tube\", \"tube\", \"tube\", \"typical\", \"typical\", \"typical\", \"typical\", \"typical\", \"typical\", \"typical\", \"typical\", \"typical\", \"typical\", \"uncommon\", \"uncommon\", \"uncommon\", \"uncommon\", \"uncommon\", \"uncommon\", \"uncommon\", \"uncommon\", \"uncommon\", \"uncommon\", \"unfortunate\", \"unfortunate\", \"unfortunate\", \"unfortunate\", \"unfortunate\", \"unfortunate\", \"unfortunate\", \"unfortunate\", \"unfortunate\", \"unfortunate\", \"unhealthy\", \"unhealthy\", \"unhealthy\", \"unhealthy\", \"unhealthy\", \"unhealthy\", \"unhealthy\", \"unhealthy\", \"unhealthy\", \"unhealthy\", \"unique\", \"unique\", \"unique\", \"unique\", \"unique\", \"unique\", \"unique\", \"unique\", \"unique\", \"unique\", \"unscented\", \"unscented\", \"unscented\", \"unscented\", \"unscented\", \"unscented\", \"unscented\", \"unscented\", \"unscented\", \"unscented\", \"urge\", \"urge\", \"urge\", \"urge\", \"urge\", \"urge\", \"urge\", \"urge\", \"urge\", \"urge\", \"usages\", \"usages\", \"usages\", \"usages\", \"usages\", \"usages\", \"usages\", \"usages\", \"usages\", \"usages\", \"use\", \"use\", \"use\", \"use\", \"use\", \"use\", \"use\", \"use\", \"use\", \"use\", \"useand\", \"useand\", \"useand\", \"useand\", \"useand\", \"useand\", \"useand\", \"useand\", \"useand\", \"useand\", \"usto\", \"usto\", \"usto\", \"usto\", \"usto\", \"usto\", \"usto\", \"usto\", \"usto\", \"usto\", \"vanished\", \"vanished\", \"vanished\", \"vanished\", \"vanished\", \"vanished\", \"vanished\", \"vanished\", \"vanished\", \"vanished\", \"versions\", \"versions\", \"versions\", \"versions\", \"versions\", \"versions\", \"versions\", \"versions\", \"versions\", \"versions\", \"vey\", \"vey\", \"vey\", \"vey\", \"vey\", \"vey\", \"vey\", \"vey\", \"vey\", \"vey\", \"volumized\", \"volumized\", \"volumized\", \"volumized\", \"volumized\", \"volumized\", \"volumized\", \"volumized\", \"volumized\", \"volumized\", \"warning\", \"warning\", \"warning\", \"warning\", \"warning\", \"warning\", \"warning\", \"warning\", \"warning\", \"warning\", \"wasteful\", \"wasteful\", \"wasteful\", \"wasteful\", \"wasteful\", \"wasteful\", \"wasteful\", \"wasteful\", \"wasteful\", \"wasteful\", \"wear\", \"wear\", \"wear\", \"wear\", \"wear\", \"wear\", \"wear\", \"wear\", \"wear\", \"wear\", \"weighing\", \"weighing\", \"weighing\", \"weighing\", \"weighing\", \"weighing\", \"weighing\", \"weighing\", \"weighing\", \"weighing\", \"whomp\", \"whomp\", \"whomp\", \"whomp\", \"whomp\", \"whomp\", \"whomp\", \"whomp\", \"whomp\", \"whomp\", \"wizard\", \"wizard\", \"wizard\", \"wizard\", \"wizard\", \"wizard\", \"wizard\", \"wizard\", \"wizard\", \"wizard\", \"worked\", \"worked\", \"worked\", \"worked\", \"worked\", \"worked\", \"worked\", \"worked\", \"worked\", \"worked\", \"y\", \"y\", \"y\", \"y\", \"y\", \"y\", \"y\", \"y\", \"y\", \"y\"]}, \"R\": 30, \"lambda.step\": 0.01, \"plot.opts\": {\"xlab\": \"PC1\", \"ylab\": \"PC2\"}, \"topic.order\": [6, 5, 3, 7, 1, 4, 2, 10, 8, 9]};\n",
       "\n",
       "function LDAvis_load_lib(url, callback){\n",
       "  var s = document.createElement('script');\n",
       "  s.src = url;\n",
       "  s.async = true;\n",
       "  s.onreadystatechange = s.onload = callback;\n",
       "  s.onerror = function(){console.warn(\"failed to load library \" + url);};\n",
       "  document.getElementsByTagName(\"head\")[0].appendChild(s);\n",
       "}\n",
       "\n",
       "if(typeof(LDAvis) !== \"undefined\"){\n",
       "   // already loaded: just create the visualization\n",
       "   !function(LDAvis){\n",
       "       new LDAvis(\"#\" + \"ldavis_el837481124111332968883495670\", ldavis_el837481124111332968883495670_data);\n",
       "   }(LDAvis);\n",
       "}else if(typeof define === \"function\" && define.amd){\n",
       "   // require.js is available: use it to load d3/LDAvis\n",
       "   require.config({paths: {d3: \"https://cdnjs.cloudflare.com/ajax/libs/d3/3.5.5/d3.min\"}});\n",
       "   require([\"d3\"], function(d3){\n",
       "      window.d3 = d3;\n",
       "      LDAvis_load_lib(\"https://cdn.rawgit.com/bmabey/pyLDAvis/files/ldavis.v1.0.0.js\", function(){\n",
       "        new LDAvis(\"#\" + \"ldavis_el837481124111332968883495670\", ldavis_el837481124111332968883495670_data);\n",
       "      });\n",
       "    });\n",
       "}else{\n",
       "    // require.js not available: dynamically load d3 & LDAvis\n",
       "    LDAvis_load_lib(\"https://cdnjs.cloudflare.com/ajax/libs/d3/3.5.5/d3.min.js\", function(){\n",
       "         LDAvis_load_lib(\"https://cdn.rawgit.com/bmabey/pyLDAvis/files/ldavis.v1.0.0.js\", function(){\n",
       "                 new LDAvis(\"#\" + \"ldavis_el837481124111332968883495670\", ldavis_el837481124111332968883495670_data);\n",
       "            })\n",
       "         });\n",
       "}\n",
       "</script>"
      ],
      "text/plain": [
       "<IPython.core.display.HTML object>"
      ]
     },
     "metadata": {},
     "output_type": "display_data"
    }
   ],
   "source": [
    "from IPython.core.display import HTML\n",
    "import pyLDAvis\n",
    "pyLDAvis.enable_notebook()\n",
    "\n",
    "display(HTML(filename='/Users/sophialiu/Desktop/pyLDAvis.html'))"
   ]
  },
  {
   "cell_type": "markdown",
   "metadata": {},
   "source": [
    "# Keep Visualising the Result"
   ]
  },
  {
   "cell_type": "code",
   "execution_count": 54,
   "metadata": {},
   "outputs": [
    {
     "data": {
      "text/plain": [
       "(array([[1.0000001 , 0.26967785, 0.24071121, 0.2352584 , 0.23491782],\n",
       "        [1.0000001 , 0.8965356 , 0.88392127, 0.880981  , 0.8655318 ],\n",
       "        [1.0000002 , 0.8965356 , 0.88453364, 0.87492776, 0.87292683],\n",
       "        [1.0000002 , 0.88453364, 0.88392127, 0.85764796, 0.8562968 ],\n",
       "        [0.99999994, 0.880981  , 0.87292683, 0.8626748 , 0.8562968 ],\n",
       "        [1.        , 0.87492776, 0.8655318 , 0.8626748 , 0.85764796],\n",
       "        [1.0000004 , 0.8454995 , 0.843477  , 0.8434643 , 0.8394919 ],\n",
       "        [0.99999994, 0.8565638 , 0.83551246, 0.8325858 , 0.82927465],\n",
       "        [1.0000001 , 0.8415985 , 0.8368917 , 0.83080626, 0.8263321 ],\n",
       "        [1.0000002 , 0.85340154, 0.8492462 , 0.835959  , 0.8325087 ]],\n",
       "       dtype=float32), array([[   0, 2069, 3949, 2956,  528],\n",
       "        [   1,    2,    3,    4,    5],\n",
       "        [   2,    1,    3,    5,    4],\n",
       "        [   3,    2,    1,    5,    4],\n",
       "        [   4,    1,    2,    5,    3],\n",
       "        [   5,    2,    1,    4,    3],\n",
       "        [   6,    1,    3,    5,    2],\n",
       "        [   7,    2,    5,    1,    3],\n",
       "        [   8,    2,    1,    3,    5],\n",
       "        [   9,    1,    5,    2,    3]], dtype=int32))"
      ]
     },
     "execution_count": 54,
     "metadata": {},
     "output_type": "execute_result"
    }
   ],
   "source": [
    "m.get_k_closest(idxs=np.arange(num_topics), in_type='word', vs_type='word', k=5, idx_to_word=None, verbose=False)"
   ]
  },
  {
   "cell_type": "code",
   "execution_count": null,
   "metadata": {},
   "outputs": [],
   "source": []
  }
 ],
 "metadata": {
  "kernelspec": {
   "display_name": "Python (lda2vec)",
   "language": "python",
   "name": "lda2vec_test"
  },
  "language_info": {
   "codemirror_mode": {
    "name": "ipython",
    "version": 3
   },
   "file_extension": ".py",
   "mimetype": "text/x-python",
   "name": "python",
   "nbconvert_exporter": "python",
   "pygments_lexer": "ipython3",
   "version": "3.6.8"
  }
 },
 "nbformat": 4,
 "nbformat_minor": 2
}
