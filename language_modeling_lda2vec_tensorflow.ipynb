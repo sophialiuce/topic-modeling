{
 "cells": [
  {
   "cell_type": "code",
   "execution_count": 1,
   "metadata": {},
   "outputs": [],
   "source": [
    "import pandas as pd\n",
    "from sklearn.model_selection import train_test_split\n",
    "from numpy import linalg as LA\n",
    "from collections import Counter\n",
    "import seaborn as sns\n",
    "import numpy as np\n",
    "import pickle"
   ]
  },
  {
   "cell_type": "code",
   "execution_count": 2,
   "metadata": {},
   "outputs": [],
   "source": [
    "import pyLDAvis\n",
    "\n",
    "%matplotlib inline"
   ]
  },
  {
   "cell_type": "code",
   "execution_count": 3,
   "metadata": {},
   "outputs": [],
   "source": [
    "import sys\n",
    "\n",
    "#path_to_lda2vec = \"/Users/sophialiu/anaconda3/envs/lda2vec_tensor/\"\n",
    "path_to_lda2vec = \"./lda2vec/\"\n",
    "\n",
    "sys.path.append(path_to_lda2vec)"
   ]
  },
  {
   "cell_type": "code",
   "execution_count": 4,
   "metadata": {},
   "outputs": [],
   "source": [
    "import warnings\n",
    "\n",
    "warnings.filterwarnings('ignore')  # ignore warnings."
   ]
  },
  {
   "cell_type": "markdown",
   "metadata": {},
   "source": [
    "# Pre-processing and Data Explore"
   ]
  },
  {
   "cell_type": "code",
   "execution_count": 5,
   "metadata": {},
   "outputs": [
    {
     "data": {
      "text/html": [
       "<div>\n",
       "<style scoped>\n",
       "    .dataframe tbody tr th:only-of-type {\n",
       "        vertical-align: middle;\n",
       "    }\n",
       "\n",
       "    .dataframe tbody tr th {\n",
       "        vertical-align: top;\n",
       "    }\n",
       "\n",
       "    .dataframe thead th {\n",
       "        text-align: right;\n",
       "    }\n",
       "</style>\n",
       "<table border=\"1\" class=\"dataframe\">\n",
       "  <thead>\n",
       "    <tr style=\"text-align: right;\">\n",
       "      <th></th>\n",
       "      <th>snippet</th>\n",
       "      <th>product</th>\n",
       "      <th>rating</th>\n",
       "      <th>verbatim</th>\n",
       "      <th>sentiment_binary</th>\n",
       "      <th>sentiment</th>\n",
       "      <th>date</th>\n",
       "      <th>retailer</th>\n",
       "      <th>website</th>\n",
       "      <th>topic</th>\n",
       "    </tr>\n",
       "  </thead>\n",
       "  <tbody>\n",
       "    <tr>\n",
       "      <th>0</th>\n",
       "      <td>This shampoo sprays crazy good and it has save...</td>\n",
       "      <td>Head And Shoulders Smooth &amp; Silky Dandruff Sha...</td>\n",
       "      <td>5</td>\n",
       "      <td>This shampoo sprays crazy good and it has save...</td>\n",
       "      <td>1</td>\n",
       "      <td>Positive</td>\n",
       "      <td>5/2/2018</td>\n",
       "      <td>-</td>\n",
       "      <td>https://www.walmart.com/ip/Head-and-Shoulders-...</td>\n",
       "      <td>Spray Application</td>\n",
       "    </tr>\n",
       "    <tr>\n",
       "      <th>1</th>\n",
       "      <td>The thing I always remember about Head &amp; Shoul...</td>\n",
       "      <td>Head And Shoulders Green Apple Anti-Dandruff S...</td>\n",
       "      <td>5</td>\n",
       "      <td>My teenaged daughter has been using Head &amp; Sho...</td>\n",
       "      <td>1</td>\n",
       "      <td>Positive</td>\n",
       "      <td>9/29/2017</td>\n",
       "      <td>AMZ</td>\n",
       "      <td>https://www.amazon.com/Head-Shoulders-Anti-Dan...</td>\n",
       "      <td>Spray Application</td>\n",
       "    </tr>\n",
       "    <tr>\n",
       "      <th>2</th>\n",
       "      <td>My long, thick, wavy, hair is frequently abuse...</td>\n",
       "      <td>Dove Dermacare Scalp Anti-Dandruff Shampoo Inv...</td>\n",
       "      <td>4</td>\n",
       "      <td>To my surprise, Dove DermaCare Scalp Invigorat...</td>\n",
       "      <td>1</td>\n",
       "      <td>Positive</td>\n",
       "      <td>1/27/2017</td>\n",
       "      <td>WALMART</td>\n",
       "      <td>https://www.walmart.com/ip/Dove-Dermacare-Scal...</td>\n",
       "      <td>Spray Application</td>\n",
       "    </tr>\n",
       "    <tr>\n",
       "      <th>3</th>\n",
       "      <td>From their body sprays, to their deodorant, so...</td>\n",
       "      <td>Dove Dermacare Scalp Anti-Dandruff Shampoo Dry...</td>\n",
       "      <td>5</td>\n",
       "      <td>I let my boyfriend try this product. He loves ...</td>\n",
       "      <td>1</td>\n",
       "      <td>Positive</td>\n",
       "      <td>1/27/2017</td>\n",
       "      <td>-</td>\n",
       "      <td>https://www.walmart.com/ip/Dove-Dermacare-Scal...</td>\n",
       "      <td>Spray Application</td>\n",
       "    </tr>\n",
       "    <tr>\n",
       "      <th>4</th>\n",
       "      <td>Its conveniently packaged, but if this bottle ...</td>\n",
       "      <td>Head And Shoulders Dry Scalp Care, Almond Oil,...</td>\n",
       "      <td>4</td>\n",
       "      <td>Its conveniently packaged, but if this bottle ...</td>\n",
       "      <td>1</td>\n",
       "      <td>Positive</td>\n",
       "      <td>1/14/2016</td>\n",
       "      <td>AMZ</td>\n",
       "      <td>https://www.amazon.com/Head-Shoulders-Almond-D...</td>\n",
       "      <td>Spray Application</td>\n",
       "    </tr>\n",
       "  </tbody>\n",
       "</table>\n",
       "</div>"
      ],
      "text/plain": [
       "                                             snippet  \\\n",
       "0  This shampoo sprays crazy good and it has save...   \n",
       "1  The thing I always remember about Head & Shoul...   \n",
       "2  My long, thick, wavy, hair is frequently abuse...   \n",
       "3  From their body sprays, to their deodorant, so...   \n",
       "4  Its conveniently packaged, but if this bottle ...   \n",
       "\n",
       "                                             product rating  \\\n",
       "0  Head And Shoulders Smooth & Silky Dandruff Sha...      5   \n",
       "1  Head And Shoulders Green Apple Anti-Dandruff S...      5   \n",
       "2  Dove Dermacare Scalp Anti-Dandruff Shampoo Inv...      4   \n",
       "3  Dove Dermacare Scalp Anti-Dandruff Shampoo Dry...      5   \n",
       "4  Head And Shoulders Dry Scalp Care, Almond Oil,...      4   \n",
       "\n",
       "                                            verbatim  sentiment_binary  \\\n",
       "0  This shampoo sprays crazy good and it has save...                 1   \n",
       "1  My teenaged daughter has been using Head & Sho...                 1   \n",
       "2  To my surprise, Dove DermaCare Scalp Invigorat...                 1   \n",
       "3  I let my boyfriend try this product. He loves ...                 1   \n",
       "4  Its conveniently packaged, but if this bottle ...                 1   \n",
       "\n",
       "  sentiment       date retailer  \\\n",
       "0  Positive   5/2/2018        -   \n",
       "1  Positive  9/29/2017      AMZ   \n",
       "2  Positive  1/27/2017  WALMART   \n",
       "3  Positive  1/27/2017        -   \n",
       "4  Positive  1/14/2016      AMZ   \n",
       "\n",
       "                                             website              topic  \n",
       "0  https://www.walmart.com/ip/Head-and-Shoulders-...  Spray Application  \n",
       "1  https://www.amazon.com/Head-Shoulders-Anti-Dan...  Spray Application  \n",
       "2  https://www.walmart.com/ip/Dove-Dermacare-Scal...  Spray Application  \n",
       "3  https://www.walmart.com/ip/Dove-Dermacare-Scal...  Spray Application  \n",
       "4  https://www.amazon.com/Head-Shoulders-Almond-D...  Spray Application  "
      ]
     },
     "execution_count": 5,
     "metadata": {},
     "output_type": "execute_result"
    }
   ],
   "source": [
    "df = pd.read_csv(u'./sample_data.csv', dtype={'verbatum':object})\n",
    "\n",
    "df.head()"
   ]
  },
  {
   "cell_type": "code",
   "execution_count": 7,
   "metadata": {},
   "outputs": [],
   "source": [
    "df.dropna(subset=['verbatim'], inplace=True)"
   ]
  },
  {
   "cell_type": "code",
   "execution_count": 8,
   "metadata": {},
   "outputs": [
    {
     "data": {
      "text/plain": [
       "(49657, 10)"
      ]
     },
     "execution_count": 8,
     "metadata": {},
     "output_type": "execute_result"
    }
   ],
   "source": [
    "df.shape"
   ]
  },
  {
   "cell_type": "code",
   "execution_count": 10,
   "metadata": {},
   "outputs": [
    {
     "data": {
      "text/plain": [
       "<matplotlib.axes._subplots.AxesSubplot at 0x7fdb322f5ac8>"
      ]
     },
     "execution_count": 10,
     "metadata": {},
     "output_type": "execute_result"
    },
    {
     "data": {
      "image/png": "[encoded data removed]",
      "text/plain": [
       "<Figure size 432x288 with 1 Axes>"
      ]
     },
     "metadata": {},
     "output_type": "display_data"
    }
   ],
   "source": [
    "s = df['verbatim'].apply(lambda x: len(x.split()))\n",
    "df['word_count'] = s\n",
    "\n",
    "sns.set(color_codes=True)\n",
    "sns.distplot(df['word_count'])"
   ]
  },
  {
   "cell_type": "code",
   "execution_count": 13,
   "metadata": {},
   "outputs": [
    {
     "data": {
      "text/html": [
       "<div>\n",
       "<style scoped>\n",
       "    .dataframe tbody tr th:only-of-type {\n",
       "        vertical-align: middle;\n",
       "    }\n",
       "\n",
       "    .dataframe tbody tr th {\n",
       "        vertical-align: top;\n",
       "    }\n",
       "\n",
       "    .dataframe thead th {\n",
       "        text-align: right;\n",
       "    }\n",
       "</style>\n",
       "<table border=\"1\" class=\"dataframe\">\n",
       "  <thead>\n",
       "    <tr style=\"text-align: right;\">\n",
       "      <th></th>\n",
       "      <th>word</th>\n",
       "      <th>count</th>\n",
       "    </tr>\n",
       "  </thead>\n",
       "  <tbody>\n",
       "    <tr>\n",
       "      <th>0</th>\n",
       "      <td>I</td>\n",
       "      <td>180538</td>\n",
       "    </tr>\n",
       "    <tr>\n",
       "      <th>1</th>\n",
       "      <td>and</td>\n",
       "      <td>141072</td>\n",
       "    </tr>\n",
       "    <tr>\n",
       "      <th>2</th>\n",
       "      <td>the</td>\n",
       "      <td>112821</td>\n",
       "    </tr>\n",
       "    <tr>\n",
       "      <th>3</th>\n",
       "      <td>a</td>\n",
       "      <td>111602</td>\n",
       "    </tr>\n",
       "    <tr>\n",
       "      <th>4</th>\n",
       "      <td>my</td>\n",
       "      <td>101072</td>\n",
       "    </tr>\n",
       "    <tr>\n",
       "      <th>5</th>\n",
       "      <td>it</td>\n",
       "      <td>84013</td>\n",
       "    </tr>\n",
       "    <tr>\n",
       "      <th>6</th>\n",
       "      <td>to</td>\n",
       "      <td>79414</td>\n",
       "    </tr>\n",
       "    <tr>\n",
       "      <th>7</th>\n",
       "      <td>this</td>\n",
       "      <td>70578</td>\n",
       "    </tr>\n",
       "    <tr>\n",
       "      <th>8</th>\n",
       "      <td>of</td>\n",
       "      <td>67189</td>\n",
       "    </tr>\n",
       "    <tr>\n",
       "      <th>9</th>\n",
       "      <td>hair</td>\n",
       "      <td>57111</td>\n",
       "    </tr>\n",
       "  </tbody>\n",
       "</table>\n",
       "</div>"
      ],
      "text/plain": [
       "   word   count\n",
       "0     I  180538\n",
       "1   and  141072\n",
       "2   the  112821\n",
       "3     a  111602\n",
       "4    my  101072\n",
       "5    it   84013\n",
       "6    to   79414\n",
       "7  this   70578\n",
       "8    of   67189\n",
       "9  hair   57111"
      ]
     },
     "execution_count": 13,
     "metadata": {},
     "output_type": "execute_result"
    }
   ],
   "source": [
    "#word_count = df['verbatum'].str.split(expand=True).stack.value_counts()\n",
    "df_word_freq = (df['verbatim'].str.split(expand=True)\n",
    "                .stack()\n",
    "                .value_counts()\n",
    "                .rename_axis('word')\n",
    "                .reset_index(name='count'))\n",
    "df_word_freq[:10]"
   ]
  },
  {
   "cell_type": "code",
   "execution_count": 14,
   "metadata": {},
   "outputs": [
    {
     "data": {
      "text/plain": [
       "<matplotlib.axes._subplots.AxesSubplot at 0x7fdaf48853c8>"
      ]
     },
     "execution_count": 14,
     "metadata": {},
     "output_type": "execute_result"
    },
    {
     "data": {
      "image/png": "[encoded data removed]",
      "text/plain": [
       "<Figure size 432x288 with 1 Axes>"
      ]
     },
     "metadata": {},
     "output_type": "display_data"
    }
   ],
   "source": [
    "sns.set(color_codes=True)\n",
    "sns.distplot(df_word_freq['count'])"
   ]
  },
  {
   "cell_type": "code",
   "execution_count": 17,
   "metadata": {},
   "outputs": [
    {
     "data": {
      "text/html": [
       "<div>\n",
       "<style scoped>\n",
       "    .dataframe tbody tr th:only-of-type {\n",
       "        vertical-align: middle;\n",
       "    }\n",
       "\n",
       "    .dataframe tbody tr th {\n",
       "        vertical-align: top;\n",
       "    }\n",
       "\n",
       "    .dataframe thead th {\n",
       "        text-align: right;\n",
       "    }\n",
       "</style>\n",
       "<table border=\"1\" class=\"dataframe\">\n",
       "  <thead>\n",
       "    <tr style=\"text-align: right;\">\n",
       "      <th></th>\n",
       "      <th>count</th>\n",
       "    </tr>\n",
       "  </thead>\n",
       "  <tbody>\n",
       "    <tr>\n",
       "      <th>count</th>\n",
       "      <td>18376.000000</td>\n",
       "    </tr>\n",
       "    <tr>\n",
       "      <th>mean</th>\n",
       "      <td>224.738354</td>\n",
       "    </tr>\n",
       "    <tr>\n",
       "      <th>std</th>\n",
       "      <td>2849.989237</td>\n",
       "    </tr>\n",
       "    <tr>\n",
       "      <th>min</th>\n",
       "      <td>1.000000</td>\n",
       "    </tr>\n",
       "    <tr>\n",
       "      <th>25%</th>\n",
       "      <td>6.000000</td>\n",
       "    </tr>\n",
       "    <tr>\n",
       "      <th>50%</th>\n",
       "      <td>12.000000</td>\n",
       "    </tr>\n",
       "    <tr>\n",
       "      <th>75%</th>\n",
       "      <td>33.000000</td>\n",
       "    </tr>\n",
       "    <tr>\n",
       "      <th>max</th>\n",
       "      <td>180538.000000</td>\n",
       "    </tr>\n",
       "  </tbody>\n",
       "</table>\n",
       "</div>"
      ],
      "text/plain": [
       "               count\n",
       "count   18376.000000\n",
       "mean      224.738354\n",
       "std      2849.989237\n",
       "min         1.000000\n",
       "25%         6.000000\n",
       "50%        12.000000\n",
       "75%        33.000000\n",
       "max    180538.000000"
      ]
     },
     "execution_count": 17,
     "metadata": {},
     "output_type": "execute_result"
    }
   ],
   "source": [
    "df_word_freq.describe()"
   ]
  },
  {
   "cell_type": "code",
   "execution_count": 19,
   "metadata": {},
   "outputs": [
    {
     "name": "stdout",
     "output_type": "stream",
     "text": [
      "\n",
      "---------- Tokenizing Texts ----------\n"
     ]
    },
    {
     "name": "stderr",
     "output_type": "stream",
     "text": [
      "49657it [03:03, 271.23it/s]\n"
     ]
    },
    {
     "name": "stdout",
     "output_type": "stream",
     "text": [
      "Removing 1081 low frequency tokens out of 7767 total tokens\n",
      "\n",
      "---------- Getting Skipgrams ----------\n"
     ]
    },
    {
     "name": "stderr",
     "output_type": "stream",
     "text": [
      "49657it [00:41, 1207.23it/s]\n"
     ]
    }
   ],
   "source": [
    "import pandas as pd\n",
    "from lda2vec.nlppipe import Preprocessor\n",
    "\n",
    "# Initialize a preprocessor\n",
    "P = Preprocessor(df, \"verbatim\", max_features=30000, maxlen=10000, min_count=5)\n",
    "\n",
    "# Run the preprocessing on your dataframe\n",
    "P.preprocess()"
   ]
  },
  {
   "cell_type": "code",
   "execution_count": 20,
   "metadata": {},
   "outputs": [],
   "source": [
    "load_embeds = True"
   ]
  },
  {
   "cell_type": "code",
   "execution_count": 23,
   "metadata": {},
   "outputs": [],
   "source": [
    "if load_embeds:\n",
    "    embedding_matrix = P.load_glove(\"./glove/glove.twitter.27B.200d.txt\")\n",
    "else:\n",
    "    embedding_matrix = None"
   ]
  },
  {
   "cell_type": "code",
   "execution_count": 24,
   "metadata": {},
   "outputs": [],
   "source": [
    "# Save data to data_dir\n",
    "clean_data_dir = \"./lda2vec_clean\"\n",
    "P.save_data(clean_data_dir, embedding_matrix=embedding_matrix)"
   ]
  },
  {
   "cell_type": "markdown",
   "metadata": {},
   "source": [
    "# Use the Model"
   ]
  },
  {
   "cell_type": "code",
   "execution_count": 25,
   "metadata": {},
   "outputs": [],
   "source": [
    "from lda2vec import utils # , model\n",
    "from lda2vec import Lda2vec\n",
    "\n",
    "# Path to preprocessed data\n",
    "data_path  = clean_data_dir\n",
    "# Whether or not to load saved embeddings file\n",
    "load_embeds = True\n",
    "\n",
    "# Load data from files\n",
    "(idx_to_word, word_to_idx, freqs, pivot_ids,\n",
    " target_ids, doc_ids, embed_matrix) = utils.load_preprocessed_data(data_path, load_embed_matrix=load_embeds)\n"
   ]
  },
  {
   "cell_type": "code",
   "execution_count": 26,
   "metadata": {},
   "outputs": [
    {
     "name": "stdout",
     "output_type": "stream",
     "text": [
      "6686\n",
      "['hair', 'shampoo', 'product', 'scalp', 'dandruff', 'review', 'head', 'use', 'dry', 'smell']\n"
     ]
    }
   ],
   "source": [
    "print(len(idx_to_word.keys())) # {1: hair}\n",
    "print(list(idx_to_word.values())[:10])"
   ]
  },
  {
   "cell_type": "code",
   "execution_count": 27,
   "metadata": {},
   "outputs": [
    {
     "data": {
      "text/plain": [
       "6686"
      ]
     },
     "execution_count": 27,
     "metadata": {},
     "output_type": "execute_result"
    }
   ],
   "source": [
    "len(word_to_idx.keys()) "
   ]
  },
  {
   "cell_type": "code",
   "execution_count": 28,
   "metadata": {},
   "outputs": [
    {
     "name": "stdout",
     "output_type": "stream",
     "text": [
      "6686\n",
      "[0, 71165, 60516, 42913, 42577, 40035, 26215, 24267, 22564, 22078]\n"
     ]
    }
   ],
   "source": [
    "print(len(freqs)) # The frequences\n",
    "print(freqs[:10])"
   ]
  },
  {
   "cell_type": "code",
   "execution_count": 29,
   "metadata": {},
   "outputs": [
    {
     "data": {
      "text/plain": [
       "15632012"
      ]
     },
     "execution_count": 29,
     "metadata": {},
     "output_type": "execute_result"
    }
   ],
   "source": [
    "len(pivot_ids)"
   ]
  },
  {
   "cell_type": "code",
   "execution_count": 30,
   "metadata": {},
   "outputs": [
    {
     "data": {
      "text/plain": [
       "15632012"
      ]
     },
     "execution_count": 30,
     "metadata": {},
     "output_type": "execute_result"
    }
   ],
   "source": [
    "len(target_ids)"
   ]
  },
  {
   "cell_type": "code",
   "execution_count": 31,
   "metadata": {},
   "outputs": [
    {
     "data": {
      "text/plain": [
       "15632012"
      ]
     },
     "execution_count": 31,
     "metadata": {},
     "output_type": "execute_result"
    }
   ],
   "source": [
    "len(doc_ids)"
   ]
  },
  {
   "cell_type": "code",
   "execution_count": 32,
   "metadata": {},
   "outputs": [
    {
     "data": {
      "text/plain": [
       "(6686, 200)"
      ]
     },
     "execution_count": 32,
     "metadata": {},
     "output_type": "execute_result"
    }
   ],
   "source": [
    "embed_matrix.shape"
   ]
  },
  {
   "cell_type": "markdown",
   "metadata": {},
   "source": [
    "Set the Hyper-parameters for model creation."
   ]
  },
  {
   "cell_type": "code",
   "execution_count": 33,
   "metadata": {},
   "outputs": [],
   "source": [
    "# Number of unique documents\n",
    "num_docs = doc_ids.max() + 1\n",
    "# Number of unique words in vocabulary (int)\n",
    "vocab_size = len(freqs)\n",
    "# Embed layer dimension size\n",
    "# If not loading embeds, change 128 to whatever size you want.\n",
    "embed_size = embed_matrix.shape[1] if load_embeds else 128\n",
    "# Number of topics to cluster into\n",
    "num_topics = 10\n",
    "# Amount of iterations over entire dataset\n",
    "num_epochs = 100\n",
    "# Batch size - Increase/decrease depending on memory usage\n",
    "batch_size = 4096\n",
    "# Epoch that we want to \"switch on\" LDA loss\n",
    "switch_loss_epoch = 0\n",
    "# Pretrained embeddings value\n",
    "pretrained_embeddings = embed_matrix if load_embeds else None\n",
    "# If True, save logdir, otherwise don't\n",
    "save_graph = False\n",
    "\n",
    "logdir = '/Users/sophialiu/Desktop/logdir'"
   ]
  },
  {
   "cell_type": "code",
   "execution_count": 34,
   "metadata": {},
   "outputs": [
    {
     "name": "stdout",
     "output_type": "stream",
     "text": [
      "WARNING:tensorflow:From /Users/sophialiu/anaconda3/lib/python3.6/site-packages/tensorflow/python/ops/nn_grad.py:249: calling reduce_sum (from tensorflow.python.ops.math_ops) with keep_dims is deprecated and will be removed in a future version.\n",
      "Instructions for updating:\n",
      "keep_dims is deprecated, use keepdims instead\n"
     ]
    }
   ],
   "source": [
    "from lda2vec import utils # , model\n",
    "from lda2vec import Lda2vec\n",
    "\n",
    "# Initialize the model\n",
    "m = Lda2vec.Lda2vec(num_docs,\n",
    "            vocab_size,\n",
    "            num_topics,\n",
    "            embedding_size=embed_size,\n",
    "            pretrained_embeddings=pretrained_embeddings,\n",
    "            freqs=freqs,\n",
    "            batch_size = batch_size,\n",
    "            save_graph_def=save_graph,\n",
    "            logdir = logdir)"
   ]
  },
  {
   "cell_type": "code",
   "execution_count": 35,
   "metadata": {},
   "outputs": [
    {
     "name": "stdout",
     "output_type": "stream",
     "text": [
      "\n",
      "EPOCH: 1\n",
      "LOSS 53576.055 w2v 10.189205 lda 53565.867\n",
      "\n",
      "EPOCH: 2\n",
      "LOSS 53571.13 w2v 5.2349286 lda 53565.895\n",
      "\n",
      "EPOCH: 3\n",
      "LOSS 53571.336 w2v 5.427567 lda 53565.91\n",
      "\n",
      "EPOCH: 4\n",
      "LOSS 53572.223 w2v 6.2968817 lda 53565.926\n",
      "\n",
      "EPOCH: 5\n",
      "LOSS 53571.133 w2v 5.199053 lda 53565.934\n",
      "---------Closest 10 words to given indexes----------\n",
      "Topic 0 : shampoo, scalp, product, dandruff, promotion, review, soft, impressed, helped, silky\n",
      "Topic 1 : shampoo, scalp, product, dandruff, promotion, review, soft, impressed, helped, silky\n",
      "Topic 2 : shampoo, scalp, product, dandruff, promotion, review, soft, impressed, helped, silky\n",
      "Topic 3 : shampoo, scalp, product, dandruff, promotion, review, soft, impressed, helped, silky\n",
      "Topic 4 : shampoo, scalp, product, dandruff, promotion, review, soft, impressed, helped, silky\n",
      "Topic 5 : shampoo, scalp, product, dandruff, promotion, review, soft, impressed, helped, silky\n",
      "Topic 6 : shampoo, scalp, product, dandruff, promotion, review, soft, impressed, helped, silky\n",
      "Topic 7 : shampoo, scalp, product, dandruff, promotion, review, soft, impressed, helped, silky\n",
      "Topic 8 : shampoo, scalp, product, dandruff, promotion, review, soft, impressed, helped, silky\n",
      "Topic 9 : shampoo, scalp, product, dandruff, promotion, review, soft, impressed, helped, silky\n",
      "\n",
      "EPOCH: 6\n",
      "LOSS 53571.855 w2v 5.92193 lda 53565.934\n",
      "\n",
      "EPOCH: 7\n",
      "LOSS 53570.695 w2v 4.760802 lda 53565.934\n",
      "\n",
      "EPOCH: 8\n",
      "LOSS 53570.805 w2v 4.8728714 lda 53565.934\n",
      "\n",
      "EPOCH: 9\n",
      "LOSS 53572.098 w2v 6.1646934 lda 53565.934\n",
      "\n",
      "EPOCH: 10\n",
      "LOSS 53571.953 w2v 6.019972 lda 53565.934\n",
      "---------Closest 10 words to given indexes----------\n",
      "Topic 0 : shampoo, product, scalp, great, dandruff, review, promotion, clean, good, soft\n",
      "Topic 1 : shampoo, product, scalp, great, dandruff, review, promotion, clean, good, soft\n",
      "Topic 2 : shampoo, product, scalp, great, dandruff, review, promotion, clean, good, soft\n",
      "Topic 3 : shampoo, product, scalp, great, dandruff, review, promotion, clean, good, soft\n",
      "Topic 4 : shampoo, product, scalp, great, dandruff, review, promotion, clean, good, soft\n",
      "Topic 5 : shampoo, product, scalp, great, dandruff, review, promotion, clean, good, soft\n",
      "Topic 6 : shampoo, product, scalp, great, dandruff, review, promotion, clean, good, soft\n",
      "Topic 7 : shampoo, product, scalp, great, dandruff, review, promotion, clean, good, soft\n",
      "Topic 8 : shampoo, product, scalp, great, dandruff, review, promotion, clean, good, soft\n",
      "Topic 9 : shampoo, product, scalp, great, dandruff, review, promotion, clean, good, soft\n",
      "\n",
      "EPOCH: 11\n",
      "LOSS 53570.332 w2v 4.398326 lda 53565.934\n",
      "\n",
      "EPOCH: 12\n",
      "LOSS 53571.16 w2v 5.2279367 lda 53565.934\n",
      "\n",
      "EPOCH: 13\n",
      "LOSS 53570.56 w2v 4.626816 lda 53565.934\n",
      "\n",
      "EPOCH: 14\n",
      "LOSS 53570.59 w2v 4.6594305 lda 53565.93\n",
      "\n",
      "EPOCH: 15\n",
      "LOSS 53574.8 w2v 8.867397 lda 53565.934\n",
      "---------Closest 10 words to given indexes----------\n",
      "Topic 0 : product, shampoo, great, scalp, review, dandruff, hair, clean, good, promotion\n",
      "Topic 1 : product, shampoo, great, scalp, review, dandruff, hair, clean, good, promotion\n",
      "Topic 2 : product, shampoo, great, scalp, review, dandruff, hair, clean, good, promotion\n",
      "Topic 3 : product, shampoo, great, scalp, review, dandruff, hair, clean, good, promotion\n",
      "Topic 4 : product, shampoo, great, scalp, review, dandruff, hair, clean, good, promotion\n",
      "Topic 5 : product, shampoo, great, scalp, review, dandruff, hair, clean, good, promotion\n",
      "Topic 6 : product, shampoo, great, scalp, review, dandruff, hair, clean, good, promotion\n",
      "Topic 7 : product, shampoo, great, scalp, review, dandruff, hair, clean, good, promotion\n",
      "Topic 8 : product, shampoo, great, scalp, review, dandruff, hair, clean, good, promotion\n",
      "Topic 9 : product, shampoo, great, scalp, review, dandruff, hair, clean, good, promotion\n",
      "\n",
      "EPOCH: 16\n",
      "LOSS 53571.305 w2v 5.369592 lda 53565.934\n",
      "\n",
      "EPOCH: 17\n",
      "LOSS 53570.473 w2v 4.539524 lda 53565.934\n",
      "\n",
      "EPOCH: 18\n",
      "LOSS 53571.586 w2v 5.6534815 lda 53565.934\n",
      "\n",
      "EPOCH: 19\n",
      "LOSS 53572.227 w2v 6.2945375 lda 53565.934\n",
      "\n",
      "EPOCH: 20\n",
      "LOSS 53570.77 w2v 4.836662 lda 53565.934\n",
      "---------Closest 10 words to given indexes----------\n",
      "Topic 0 : product, shampoo, hair, great, scalp, dandruff, review, good, clean, influenster\n",
      "Topic 1 : product, shampoo, hair, great, scalp, dandruff, review, good, clean, influenster\n",
      "Topic 2 : product, shampoo, hair, great, scalp, dandruff, review, good, clean, influenster\n",
      "Topic 3 : product, shampoo, hair, great, scalp, dandruff, review, good, clean, influenster\n",
      "Topic 4 : product, shampoo, hair, great, scalp, dandruff, review, good, clean, influenster\n",
      "Topic 5 : product, shampoo, hair, great, scalp, dandruff, review, good, clean, influenster\n",
      "Topic 6 : product, shampoo, hair, great, scalp, dandruff, review, good, clean, influenster\n",
      "Topic 7 : product, shampoo, hair, great, scalp, dandruff, review, good, clean, influenster\n",
      "Topic 8 : product, shampoo, hair, great, scalp, dandruff, review, good, clean, influenster\n",
      "Topic 9 : product, shampoo, hair, great, scalp, dandruff, review, good, clean, influenster\n",
      "\n",
      "EPOCH: 21\n",
      "LOSS 53571.613 w2v 5.6781516 lda 53565.934\n",
      "\n",
      "EPOCH: 22\n",
      "LOSS 53572.81 w2v 6.874093 lda 53565.934\n",
      "\n",
      "EPOCH: 23\n",
      "LOSS 53571.008 w2v 5.074962 lda 53565.934\n",
      "\n",
      "EPOCH: 24\n",
      "LOSS 53571.32 w2v 5.387624 lda 53565.934\n",
      "\n",
      "EPOCH: 25\n",
      "LOSS 53570.438 w2v 4.502426 lda 53565.934\n",
      "---------Closest 10 words to given indexes----------\n",
      "Topic 0 : product, shampoo, hair, dandruff, scalp, review, great, opinioni, clean, influenster\n",
      "Topic 1 : product, shampoo, hair, dandruff, scalp, review, great, opinioni, clean, influenster\n",
      "Topic 2 : product, shampoo, hair, dandruff, scalp, review, great, opinioni, clean, influenster\n",
      "Topic 3 : product, shampoo, hair, dandruff, scalp, review, great, opinioni, clean, influenster\n",
      "Topic 4 : product, shampoo, hair, dandruff, scalp, review, great, opinioni, clean, influenster\n",
      "Topic 5 : product, shampoo, hair, dandruff, scalp, review, great, opinioni, clean, influenster\n",
      "Topic 6 : product, shampoo, hair, dandruff, scalp, review, great, opinioni, clean, influenster\n",
      "Topic 7 : product, shampoo, hair, dandruff, scalp, review, great, opinioni, clean, influenster\n",
      "Topic 8 : product, shampoo, hair, dandruff, scalp, review, great, opinioni, clean, influenster\n",
      "Topic 9 : product, shampoo, hair, dandruff, scalp, review, great, opinioni, clean, influenster\n",
      "\n",
      "EPOCH: 26\n",
      "LOSS 53570.668 w2v 4.736159 lda 53565.934\n",
      "\n",
      "EPOCH: 27\n",
      "LOSS 53571.59 w2v 5.6575155 lda 53565.934\n",
      "\n",
      "EPOCH: 28\n",
      "LOSS 53570.51 w2v 4.576893 lda 53565.934\n",
      "\n",
      "EPOCH: 29\n",
      "LOSS 53570.887 w2v 4.9535747 lda 53565.934\n",
      "\n",
      "EPOCH: 30\n",
      "LOSS 53570.855 w2v 4.920601 lda 53565.934\n",
      "---------Closest 10 words to given indexes----------\n",
      "Topic 0 : hair, product, shampoo, dandruff, scalp, review, opinioni, great, recoeved, confess\n",
      "Topic 1 : hair, product, shampoo, dandruff, scalp, review, opinioni, great, recoeved, confess\n",
      "Topic 2 : hair, product, shampoo, dandruff, scalp, review, opinioni, great, recoeved, confess\n",
      "Topic 3 : hair, product, shampoo, dandruff, scalp, review, opinioni, great, recoeved, confess\n",
      "Topic 4 : hair, product, shampoo, dandruff, scalp, review, opinioni, great, recoeved, confess\n",
      "Topic 5 : hair, product, shampoo, dandruff, scalp, review, opinioni, great, recoeved, confess\n",
      "Topic 6 : hair, product, shampoo, dandruff, scalp, review, opinioni, great, recoeved, confess\n",
      "Topic 7 : hair, product, shampoo, dandruff, scalp, review, opinioni, great, recoeved, confess\n",
      "Topic 8 : hair, product, shampoo, dandruff, scalp, review, opinioni, great, recoeved, confess\n",
      "Topic 9 : hair, product, shampoo, dandruff, scalp, review, opinioni, great, recoeved, confess\n",
      "\n",
      "EPOCH: 31\n",
      "LOSS 53570.402 w2v 4.469844 lda 53565.934\n",
      "\n",
      "EPOCH: 32\n",
      "LOSS 53570.17 w2v 4.2418985 lda 53565.93\n",
      "\n",
      "EPOCH: 33\n",
      "LOSS 53571.316 w2v 5.381695 lda 53565.934\n",
      "\n",
      "EPOCH: 34\n",
      "LOSS 53571.055 w2v 5.1226406 lda 53565.934\n",
      "\n",
      "EPOCH: 35\n",
      "LOSS 53570.547 w2v 4.6144695 lda 53565.934\n",
      "---------Closest 10 words to given indexes----------\n",
      "Topic 0 : hair, dandruff, shampoo, product, opinioni, scalp, review, recoeved, mositurized, great\n",
      "Topic 1 : hair, dandruff, shampoo, product, opinioni, scalp, review, recoeved, mositurized, great\n",
      "Topic 2 : hair, dandruff, shampoo, product, opinioni, scalp, review, recoeved, mositurized, great\n",
      "Topic 3 : hair, dandruff, shampoo, product, opinioni, scalp, review, recoeved, mositurized, great\n",
      "Topic 4 : hair, dandruff, shampoo, product, opinioni, scalp, review, recoeved, mositurized, great\n",
      "Topic 5 : hair, dandruff, shampoo, product, opinioni, scalp, review, recoeved, mositurized, great\n",
      "Topic 6 : hair, dandruff, shampoo, product, opinioni, scalp, review, recoeved, mositurized, great\n",
      "Topic 7 : hair, dandruff, shampoo, product, opinioni, scalp, review, recoeved, mositurized, great\n",
      "Topic 8 : hair, dandruff, shampoo, product, opinioni, scalp, review, recoeved, mositurized, great\n",
      "Topic 9 : hair, dandruff, shampoo, product, opinioni, scalp, review, recoeved, mositurized, great\n",
      "\n",
      "EPOCH: 36\n"
     ]
    },
    {
     "name": "stdout",
     "output_type": "stream",
     "text": [
      "LOSS 53570.43 w2v 4.4948006 lda 53565.934\n",
      "\n",
      "EPOCH: 37\n",
      "LOSS 53570.645 w2v 4.716314 lda 53565.93\n",
      "\n",
      "EPOCH: 38\n",
      "LOSS 53570.434 w2v 4.500279 lda 53565.934\n",
      "\n",
      "EPOCH: 39\n",
      "LOSS 53570.08 w2v 4.144864 lda 53565.934\n",
      "\n",
      "EPOCH: 40\n",
      "LOSS 53570.344 w2v 4.408598 lda 53565.934\n",
      "---------Closest 10 words to given indexes----------\n",
      "Topic 0 : hair, dandruff, product, shampoo, opinioni, recoeved, review, scalp, mositurized, separates\n",
      "Topic 1 : hair, dandruff, product, shampoo, opinioni, recoeved, review, scalp, mositurized, separates\n",
      "Topic 2 : hair, dandruff, product, shampoo, opinioni, recoeved, review, scalp, mositurized, separates\n",
      "Topic 3 : hair, dandruff, product, shampoo, opinioni, recoeved, review, scalp, mositurized, separates\n",
      "Topic 4 : hair, dandruff, product, shampoo, opinioni, recoeved, review, scalp, mositurized, separates\n",
      "Topic 5 : hair, dandruff, product, shampoo, opinioni, recoeved, review, scalp, mositurized, separates\n",
      "Topic 6 : hair, dandruff, product, shampoo, opinioni, recoeved, review, scalp, mositurized, separates\n",
      "Topic 7 : hair, dandruff, product, shampoo, opinioni, recoeved, review, scalp, mositurized, separates\n",
      "Topic 8 : hair, dandruff, product, shampoo, opinioni, recoeved, review, scalp, mositurized, separates\n",
      "Topic 9 : hair, dandruff, product, shampoo, opinioni, recoeved, review, scalp, mositurized, separates\n",
      "\n",
      "EPOCH: 41\n",
      "LOSS 53570.297 w2v 4.366462 lda 53565.93\n",
      "\n",
      "EPOCH: 42\n",
      "LOSS 53570.496 w2v 4.562045 lda 53565.934\n",
      "\n",
      "EPOCH: 43\n",
      "LOSS 53570.164 w2v 4.229376 lda 53565.934\n",
      "\n",
      "EPOCH: 44\n",
      "LOSS 53570.617 w2v 4.6886616 lda 53565.93\n",
      "\n",
      "EPOCH: 45\n",
      "LOSS 53570.387 w2v 4.4512663 lda 53565.934\n",
      "---------Closest 10 words to given indexes----------\n",
      "Topic 0 : hair, dandruff, shampoo, recoeved, review, product, scalp, mositurized, opinioni, confess\n",
      "Topic 1 : hair, dandruff, shampoo, recoeved, review, product, scalp, mositurized, opinioni, confess\n",
      "Topic 2 : hair, dandruff, shampoo, recoeved, review, product, scalp, mositurized, opinioni, confess\n",
      "Topic 3 : hair, dandruff, shampoo, recoeved, review, product, scalp, mositurized, opinioni, confess\n",
      "Topic 4 : hair, dandruff, shampoo, recoeved, review, product, scalp, mositurized, opinioni, confess\n",
      "Topic 5 : hair, dandruff, shampoo, recoeved, review, product, scalp, mositurized, opinioni, confess\n",
      "Topic 6 : hair, dandruff, shampoo, recoeved, review, product, scalp, mositurized, opinioni, confess\n",
      "Topic 7 : hair, dandruff, shampoo, recoeved, review, product, scalp, mositurized, opinioni, confess\n",
      "Topic 8 : hair, dandruff, shampoo, recoeved, review, product, scalp, mositurized, opinioni, confess\n",
      "Topic 9 : hair, dandruff, shampoo, recoeved, review, product, scalp, mositurized, opinioni, confess\n",
      "\n",
      "EPOCH: 46\n",
      "LOSS 53570.684 w2v 4.749216 lda 53565.934\n",
      "\n",
      "EPOCH: 47\n",
      "LOSS 53570.316 w2v 4.382131 lda 53565.934\n",
      "\n",
      "EPOCH: 48\n",
      "LOSS 53570.08 w2v 4.142612 lda 53565.934\n",
      "\n",
      "EPOCH: 49\n",
      "LOSS 53570.496 w2v 4.5617385 lda 53565.934\n",
      "\n",
      "EPOCH: 50\n",
      "LOSS 53571.098 w2v 5.165797 lda 53565.934\n",
      "---------Closest 10 words to given indexes----------\n",
      "Topic 0 : dandruff, hair, mositurized, shampoo, recoeved, opinioni, review, product, scalp, separates\n",
      "Topic 1 : dandruff, hair, mositurized, shampoo, recoeved, opinioni, review, product, scalp, separates\n",
      "Topic 2 : dandruff, hair, mositurized, shampoo, recoeved, opinioni, review, product, scalp, separates\n",
      "Topic 3 : dandruff, hair, mositurized, shampoo, recoeved, opinioni, review, product, scalp, separates\n",
      "Topic 4 : dandruff, hair, mositurized, shampoo, recoeved, opinioni, review, product, scalp, separates\n",
      "Topic 5 : dandruff, hair, mositurized, shampoo, recoeved, opinioni, review, product, scalp, separates\n",
      "Topic 6 : dandruff, hair, mositurized, shampoo, recoeved, opinioni, review, product, scalp, separates\n",
      "Topic 7 : dandruff, hair, mositurized, shampoo, recoeved, opinioni, review, product, scalp, separates\n",
      "Topic 8 : dandruff, hair, mositurized, shampoo, recoeved, opinioni, review, product, scalp, separates\n",
      "Topic 9 : dandruff, hair, mositurized, shampoo, recoeved, opinioni, review, product, scalp, separates\n",
      "\n",
      "EPOCH: 51\n",
      "LOSS 53572.168 w2v 6.2361174 lda 53565.934\n",
      "\n",
      "EPOCH: 52\n",
      "LOSS 53570.227 w2v 4.294634 lda 53565.934\n",
      "\n",
      "EPOCH: 53\n",
      "LOSS 53570.48 w2v 4.546872 lda 53565.934\n",
      "\n",
      "EPOCH: 54\n",
      "LOSS 53570.2 w2v 4.264832 lda 53565.934\n",
      "\n",
      "EPOCH: 55\n",
      "LOSS 53570.65 w2v 4.715452 lda 53565.934\n",
      "---------Closest 10 words to given indexes----------\n",
      "Topic 0 : recoeved, hair, dandruff, shampoo, mositurized, review, scalp, product, opinioni, confess\n",
      "Topic 1 : recoeved, hair, dandruff, shampoo, mositurized, review, scalp, product, opinioni, confess\n",
      "Topic 2 : recoeved, hair, dandruff, shampoo, mositurized, review, scalp, product, opinioni, confess\n",
      "Topic 3 : recoeved, hair, dandruff, shampoo, mositurized, review, scalp, product, opinioni, confess\n",
      "Topic 4 : recoeved, hair, dandruff, shampoo, mositurized, review, scalp, product, opinioni, confess\n",
      "Topic 5 : recoeved, hair, dandruff, shampoo, mositurized, review, scalp, product, opinioni, confess\n",
      "Topic 6 : recoeved, hair, dandruff, shampoo, mositurized, review, scalp, product, opinioni, confess\n",
      "Topic 7 : recoeved, hair, dandruff, shampoo, mositurized, review, scalp, product, opinioni, confess\n",
      "Topic 8 : recoeved, hair, dandruff, shampoo, mositurized, review, scalp, product, opinioni, confess\n",
      "Topic 9 : recoeved, hair, dandruff, shampoo, mositurized, review, scalp, product, opinioni, confess\n",
      "\n",
      "EPOCH: 56\n",
      "LOSS 53570.938 w2v 5.004772 lda 53565.934\n",
      "\n",
      "EPOCH: 57\n",
      "LOSS 53570.664 w2v 4.731058 lda 53565.934\n",
      "\n",
      "EPOCH: 58\n",
      "LOSS 53570.785 w2v 4.8549047 lda 53565.93\n",
      "\n",
      "EPOCH: 59\n",
      "LOSS 53570.902 w2v 4.9706435 lda 53565.934\n",
      "\n",
      "EPOCH: 60\n",
      "LOSS 53570.344 w2v 4.411319 lda 53565.934\n",
      "---------Closest 10 words to given indexes----------\n",
      "Topic 0 : dandruff, hair, mositurized, recoeved, shampoo, review, scalp, opinioni, product, confess\n",
      "Topic 1 : dandruff, hair, mositurized, recoeved, shampoo, review, scalp, opinioni, product, confess\n",
      "Topic 2 : dandruff, hair, mositurized, recoeved, shampoo, review, scalp, opinioni, product, confess\n",
      "Topic 3 : dandruff, hair, mositurized, recoeved, shampoo, review, scalp, opinioni, product, confess\n",
      "Topic 4 : dandruff, hair, mositurized, recoeved, shampoo, review, scalp, opinioni, product, confess\n",
      "Topic 5 : dandruff, hair, mositurized, recoeved, shampoo, review, scalp, opinioni, product, confess\n",
      "Topic 6 : dandruff, hair, mositurized, recoeved, shampoo, review, scalp, opinioni, product, confess\n",
      "Topic 7 : dandruff, hair, mositurized, recoeved, shampoo, review, scalp, opinioni, product, confess\n",
      "Topic 8 : dandruff, hair, mositurized, recoeved, shampoo, review, scalp, opinioni, product, confess\n",
      "Topic 9 : dandruff, hair, mositurized, recoeved, shampoo, review, scalp, opinioni, product, confess\n",
      "\n",
      "EPOCH: 61\n",
      "LOSS 53571.242 w2v 5.3074703 lda 53565.934\n",
      "\n",
      "EPOCH: 62\n",
      "LOSS 53571.402 w2v 5.4706173 lda 53565.934\n",
      "\n",
      "EPOCH: 63\n",
      "LOSS 53571.12 w2v 5.1862783 lda 53565.934\n",
      "\n",
      "EPOCH: 64\n",
      "LOSS 53570.957 w2v 5.021576 lda 53565.934\n",
      "\n",
      "EPOCH: 65\n",
      "LOSS 53570.797 w2v 4.8625517 lda 53565.934\n",
      "---------Closest 10 words to given indexes----------\n",
      "Topic 0 : recoeved, dandruff, mositurized, hair, shampoo, review, confess, scalp, product, separates\n",
      "Topic 1 : recoeved, dandruff, mositurized, hair, shampoo, review, confess, scalp, product, separates\n",
      "Topic 2 : recoeved, dandruff, mositurized, hair, shampoo, review, confess, scalp, product, separates\n",
      "Topic 3 : recoeved, dandruff, mositurized, hair, shampoo, review, confess, scalp, product, separates\n",
      "Topic 4 : recoeved, dandruff, mositurized, hair, shampoo, review, confess, scalp, product, separates\n",
      "Topic 5 : recoeved, dandruff, mositurized, hair, shampoo, review, confess, scalp, product, separates\n",
      "Topic 6 : recoeved, dandruff, mositurized, hair, shampoo, review, confess, scalp, product, separates\n",
      "Topic 7 : recoeved, dandruff, mositurized, hair, shampoo, review, confess, scalp, product, separates\n",
      "Topic 8 : recoeved, dandruff, mositurized, hair, shampoo, review, confess, scalp, product, separates\n",
      "Topic 9 : recoeved, dandruff, mositurized, hair, shampoo, review, confess, scalp, product, separates\n",
      "\n",
      "EPOCH: 66\n",
      "LOSS 53570.723 w2v 4.790567 lda 53565.934\n",
      "\n",
      "EPOCH: 67\n",
      "LOSS 53570.324 w2v 4.392439 lda 53565.934\n",
      "\n",
      "EPOCH: 68\n",
      "LOSS 53570.168 w2v 4.2362022 lda 53565.934\n",
      "\n",
      "EPOCH: 69\n",
      "LOSS 53571.152 w2v 5.2194395 lda 53565.934\n",
      "\n",
      "EPOCH: 70\n",
      "LOSS 53570.484 w2v 4.5501156 lda 53565.934\n",
      "---------Closest 10 words to given indexes----------\n",
      "Topic 0 : recoeved, mositurized, dandruff, hair, review, shampoo, separates, confess, victim, opinioni\n",
      "Topic 1 : recoeved, mositurized, dandruff, hair, review, shampoo, separates, confess, victim, opinioni\n",
      "Topic 2 : recoeved, mositurized, dandruff, hair, review, shampoo, separates, confess, victim, opinioni\n",
      "Topic 3 : recoeved, mositurized, dandruff, hair, review, shampoo, separates, confess, victim, opinioni\n",
      "Topic 4 : recoeved, mositurized, dandruff, hair, review, shampoo, separates, confess, victim, opinioni\n",
      "Topic 5 : recoeved, mositurized, dandruff, hair, review, shampoo, separates, confess, victim, opinioni\n",
      "Topic 6 : recoeved, mositurized, dandruff, hair, review, shampoo, separates, confess, victim, opinioni\n",
      "Topic 7 : recoeved, mositurized, dandruff, hair, review, shampoo, separates, confess, victim, opinioni\n",
      "Topic 8 : recoeved, mositurized, dandruff, hair, review, shampoo, separates, confess, victim, opinioni\n",
      "Topic 9 : recoeved, mositurized, dandruff, hair, review, shampoo, separates, confess, victim, opinioni\n",
      "\n",
      "EPOCH: 71\n"
     ]
    },
    {
     "name": "stdout",
     "output_type": "stream",
     "text": [
      "LOSS 53571.008 w2v 5.0761642 lda 53565.934\n",
      "\n",
      "EPOCH: 72\n",
      "LOSS 53570.08 w2v 4.143955 lda 53565.934\n",
      "\n",
      "EPOCH: 73\n",
      "LOSS 53570.82 w2v 4.891258 lda 53565.93\n",
      "\n",
      "EPOCH: 74\n",
      "LOSS 53571.023 w2v 5.091361 lda 53565.934\n",
      "\n",
      "EPOCH: 75\n",
      "LOSS 53570.273 w2v 4.3397317 lda 53565.934\n",
      "---------Closest 10 words to given indexes----------\n",
      "Topic 0 : recoeved, mositurized, dandruff, hair, review, shampoo, curley, scalp, separates, victim\n",
      "Topic 1 : recoeved, mositurized, dandruff, hair, review, shampoo, curley, scalp, separates, victim\n",
      "Topic 2 : recoeved, mositurized, dandruff, hair, review, shampoo, curley, scalp, separates, victim\n",
      "Topic 3 : recoeved, mositurized, dandruff, hair, review, shampoo, curley, scalp, separates, victim\n",
      "Topic 4 : recoeved, mositurized, dandruff, hair, review, shampoo, curley, scalp, separates, victim\n",
      "Topic 5 : recoeved, mositurized, dandruff, hair, review, shampoo, curley, scalp, separates, victim\n",
      "Topic 6 : recoeved, mositurized, dandruff, hair, review, shampoo, curley, scalp, separates, victim\n",
      "Topic 7 : recoeved, mositurized, dandruff, hair, review, shampoo, curley, scalp, separates, victim\n",
      "Topic 8 : recoeved, mositurized, dandruff, hair, review, shampoo, curley, scalp, separates, victim\n",
      "Topic 9 : recoeved, mositurized, dandruff, hair, review, shampoo, curley, scalp, separates, victim\n",
      "\n",
      "EPOCH: 76\n",
      "LOSS 53570.19 w2v 4.2588916 lda 53565.934\n",
      "\n",
      "EPOCH: 77\n",
      "LOSS 53570.09 w2v 4.1572175 lda 53565.934\n",
      "\n",
      "EPOCH: 78\n",
      "LOSS 53570.08 w2v 4.144217 lda 53565.934\n",
      "\n",
      "EPOCH: 79\n",
      "LOSS 53571.156 w2v 5.222137 lda 53565.934\n",
      "\n",
      "EPOCH: 80\n",
      "LOSS 53570.254 w2v 4.3249474 lda 53565.93\n",
      "---------Closest 10 words to given indexes----------\n",
      "Topic 0 : recoeved, dandruff, mositurized, hair, review, separates, cteme, victim, shampoo, scalp\n",
      "Topic 1 : recoeved, dandruff, mositurized, hair, review, separates, cteme, victim, shampoo, scalp\n",
      "Topic 2 : recoeved, dandruff, mositurized, hair, review, separates, cteme, victim, shampoo, scalp\n",
      "Topic 3 : recoeved, dandruff, mositurized, hair, review, separates, cteme, victim, shampoo, scalp\n",
      "Topic 4 : recoeved, dandruff, mositurized, hair, review, separates, cteme, victim, shampoo, scalp\n",
      "Topic 5 : recoeved, dandruff, mositurized, hair, review, separates, cteme, victim, shampoo, scalp\n",
      "Topic 6 : recoeved, dandruff, mositurized, hair, review, separates, cteme, victim, shampoo, scalp\n",
      "Topic 7 : recoeved, dandruff, mositurized, hair, review, separates, cteme, victim, shampoo, scalp\n",
      "Topic 8 : recoeved, dandruff, mositurized, hair, review, separates, cteme, victim, shampoo, scalp\n",
      "Topic 9 : recoeved, dandruff, mositurized, hair, review, separates, cteme, victim, shampoo, scalp\n",
      "\n",
      "EPOCH: 81\n",
      "LOSS 53570.117 w2v 4.1871505 lda 53565.93\n",
      "\n",
      "EPOCH: 82\n",
      "LOSS 53570.246 w2v 4.3139343 lda 53565.934\n",
      "\n",
      "EPOCH: 83\n",
      "LOSS 53570.625 w2v 4.6908607 lda 53565.934\n",
      "\n",
      "EPOCH: 84\n",
      "LOSS 53570.395 w2v 4.4595027 lda 53565.934\n",
      "\n",
      "EPOCH: 85\n",
      "LOSS 53570.33 w2v 4.393387 lda 53565.934\n",
      "---------Closest 10 words to given indexes----------\n",
      "Topic 0 : mositurized, dandruff, recoeved, cteme, hair, victim, review, opinioni, curley, transformed\n",
      "Topic 1 : mositurized, dandruff, recoeved, cteme, hair, victim, review, opinioni, curley, transformed\n",
      "Topic 2 : mositurized, dandruff, recoeved, cteme, hair, victim, review, opinioni, curley, transformed\n",
      "Topic 3 : mositurized, dandruff, recoeved, cteme, hair, victim, review, opinioni, curley, transformed\n",
      "Topic 4 : mositurized, dandruff, recoeved, cteme, hair, victim, review, opinioni, curley, transformed\n",
      "Topic 5 : mositurized, dandruff, recoeved, cteme, hair, victim, review, opinioni, curley, transformed\n",
      "Topic 6 : mositurized, dandruff, recoeved, cteme, hair, victim, review, opinioni, curley, transformed\n",
      "Topic 7 : mositurized, dandruff, recoeved, cteme, hair, victim, review, opinioni, curley, transformed\n",
      "Topic 8 : mositurized, dandruff, recoeved, cteme, hair, victim, review, opinioni, curley, transformed\n",
      "Topic 9 : mositurized, dandruff, recoeved, cteme, hair, victim, review, opinioni, curley, transformed\n",
      "\n",
      "EPOCH: 86\n",
      "LOSS 53570.44 w2v 4.5069776 lda 53565.934\n",
      "\n",
      "EPOCH: 87\n",
      "LOSS 53570.34 w2v 4.4047203 lda 53565.934\n",
      "\n",
      "EPOCH: 88\n",
      "LOSS 53570.5 w2v 4.567463 lda 53565.934\n",
      "\n",
      "EPOCH: 89\n",
      "LOSS 53570.523 w2v 4.587926 lda 53565.934\n",
      "\n",
      "EPOCH: 90\n",
      "LOSS 53570.445 w2v 4.5121474 lda 53565.934\n",
      "---------Closest 10 words to given indexes----------\n",
      "Topic 0 : recoeved, review, confess, dandruff, mositurized, hair, cteme, separates, victim, fir\n",
      "Topic 1 : recoeved, review, confess, dandruff, mositurized, hair, cteme, separates, victim, fir\n",
      "Topic 2 : recoeved, review, confess, dandruff, mositurized, hair, cteme, separates, victim, fir\n",
      "Topic 3 : recoeved, review, confess, dandruff, mositurized, hair, cteme, separates, victim, fir\n",
      "Topic 4 : recoeved, review, confess, dandruff, mositurized, hair, cteme, separates, victim, fir\n",
      "Topic 5 : recoeved, review, confess, dandruff, mositurized, hair, cteme, separates, victim, fir\n",
      "Topic 6 : recoeved, review, confess, dandruff, mositurized, hair, cteme, separates, victim, fir\n",
      "Topic 7 : recoeved, review, confess, dandruff, mositurized, hair, cteme, separates, victim, fir\n",
      "Topic 8 : recoeved, review, confess, dandruff, mositurized, hair, cteme, separates, victim, fir\n",
      "Topic 9 : recoeved, review, confess, dandruff, mositurized, hair, cteme, separates, victim, fir\n",
      "\n",
      "EPOCH: 91\n",
      "LOSS 53571.4 w2v 5.46313 lda 53565.934\n",
      "\n",
      "EPOCH: 92\n",
      "LOSS 53570.875 w2v 4.94008 lda 53565.934\n",
      "\n",
      "EPOCH: 93\n",
      "LOSS 53570.746 w2v 4.813665 lda 53565.934\n",
      "\n",
      "EPOCH: 94\n",
      "LOSS 53570.016 w2v 4.080206 lda 53565.934\n",
      "\n",
      "EPOCH: 95\n",
      "LOSS 53570.266 w2v 4.331567 lda 53565.934\n",
      "---------Closest 10 words to given indexes----------\n",
      "Topic 0 : dandruff, cteme, review, recoeved, mositurized, confess, curley, separates, victim, pomades\n",
      "Topic 1 : dandruff, cteme, review, recoeved, mositurized, confess, curley, separates, victim, pomades\n",
      "Topic 2 : dandruff, cteme, review, recoeved, mositurized, confess, curley, separates, victim, pomades\n",
      "Topic 3 : dandruff, cteme, review, recoeved, mositurized, confess, curley, separates, victim, pomades\n",
      "Topic 4 : dandruff, cteme, review, recoeved, mositurized, confess, curley, separates, victim, pomades\n",
      "Topic 5 : dandruff, cteme, review, recoeved, mositurized, confess, curley, separates, victim, pomades\n",
      "Topic 6 : dandruff, cteme, review, recoeved, mositurized, confess, curley, separates, victim, pomades\n",
      "Topic 7 : dandruff, cteme, review, recoeved, mositurized, confess, curley, separates, victim, pomades\n",
      "Topic 8 : dandruff, cteme, review, recoeved, mositurized, confess, curley, separates, victim, pomades\n",
      "Topic 9 : dandruff, cteme, review, recoeved, mositurized, confess, curley, separates, victim, pomades\n",
      "\n",
      "EPOCH: 96\n",
      "LOSS 53571.004 w2v 5.0753317 lda 53565.93\n",
      "\n",
      "EPOCH: 97\n",
      "LOSS 53570.215 w2v 4.282959 lda 53565.934\n",
      "\n",
      "EPOCH: 98\n",
      "LOSS 53570.754 w2v 4.8192143 lda 53565.934\n",
      "\n",
      "EPOCH: 99\n",
      "LOSS 53570.914 w2v 4.9803867 lda 53565.934\n",
      "\n",
      "EPOCH: 100\n",
      "LOSS 53570.316 w2v 4.3821 lda 53565.934\n",
      "---------Closest 10 words to given indexes----------\n",
      "Topic 0 : confess, review, dandruff, cteme, victim, mositurized, pomades, recoeved, curley, hair\n",
      "Topic 1 : confess, review, dandruff, cteme, victim, mositurized, pomades, recoeved, curley, hair\n",
      "Topic 2 : confess, review, dandruff, cteme, victim, mositurized, pomades, recoeved, curley, hair\n",
      "Topic 3 : confess, review, dandruff, cteme, victim, mositurized, pomades, recoeved, curley, hair\n",
      "Topic 4 : confess, review, dandruff, cteme, victim, mositurized, pomades, recoeved, curley, hair\n",
      "Topic 5 : confess, review, dandruff, cteme, victim, mositurized, pomades, recoeved, curley, hair\n",
      "Topic 6 : confess, review, dandruff, cteme, victim, mositurized, pomades, recoeved, curley, hair\n",
      "Topic 7 : confess, review, dandruff, cteme, victim, mositurized, pomades, recoeved, curley, hair\n",
      "Topic 8 : confess, review, dandruff, cteme, victim, mositurized, pomades, recoeved, curley, hair\n",
      "Topic 9 : confess, review, dandruff, cteme, victim, mositurized, pomades, recoeved, curley, hair\n"
     ]
    }
   ],
   "source": [
    "# Train the model\n",
    "m.train(pivot_ids,\n",
    "        target_ids,\n",
    "        doc_ids,\n",
    "        len(pivot_ids),\n",
    "        num_epochs,\n",
    "        idx_to_word=idx_to_word,\n",
    "        switch_loss_epoch=switch_loss_epoch)"
   ]
  },
  {
   "cell_type": "markdown",
   "metadata": {},
   "source": [
    "From the running output, we can see that the lda_loss is not optimized at all... And the topics are not getting more and more \"sparse\" or \"different\" as shown in the paper."
   ]
  },
  {
   "cell_type": "code",
   "execution_count": 39,
   "metadata": {},
   "outputs": [
    {
     "data": {
      "text/plain": [
       "\"\\nm.save_weights_to_file(\\n    word_embed_path ='./lda2vec_weights/word', \\n    doc_embed_path  ='./lda2vec_weights/doc',\\n    topic_embed_path='./lda2vec_weights/topic'\\n)\\n\""
      ]
     },
     "execution_count": 39,
     "metadata": {},
     "output_type": "execute_result"
    }
   ],
   "source": [
    "# save weight to file.\n",
    "\n",
    "\"\"\"\n",
    "m.save_weights_to_file(\n",
    "    word_embed_path ='./lda2vec_weights/word', \n",
    "    doc_embed_path  ='./lda2vec_weights/doc',\n",
    "    topic_embed_path='./lda2vec_weights/topic'\n",
    ")\n",
    "\"\"\""
   ]
  },
  {
   "cell_type": "markdown",
   "metadata": {},
   "source": [
    "# Visualize the Result with pyLDAvis"
   ]
  },
  {
   "cell_type": "code",
   "execution_count": 40,
   "metadata": {},
   "outputs": [],
   "source": [
    "import numpy as np"
   ]
  },
  {
   "cell_type": "code",
   "execution_count": 41,
   "metadata": {},
   "outputs": [],
   "source": [
    "def prepare_topics(weights, factors, word_vectors, vocab, temperature=1.0,\n",
    "                   doc_lengths=None, term_frequency=None, normalize=False):\n",
    "    \"\"\" Collects a dictionary of word, document and topic distributions.\n",
    "    Arguments\n",
    "    ---------\n",
    "    weights : float array\n",
    "        This must be an array of unnormalized log-odds of document-to-topic\n",
    "        weights. Shape should be [n_documents, n_topics]\n",
    "    factors : float array\n",
    "        Should be an array of topic vectors. These topic vectors live in the\n",
    "        same space as word vectors and will be used to find the most similar\n",
    "        words to each topic. Shape should be [n_topics, n_dim].\n",
    "    word_vectors : float array\n",
    "        This must be a matrix of word vectors. Should be of shape\n",
    "        [n_words, n_dim]\n",
    "    vocab : list of str\n",
    "        These must be the strings for words corresponding to\n",
    "        indices [0, n_words]\n",
    "    temperature : float\n",
    "        Used to calculate the log probability of a word. Higher\n",
    "        temperatures make more rare words more likely.\n",
    "    doc_lengths : int array\n",
    "        An array indicating the number of words in the nth document.\n",
    "        Must be of shape [n_documents]. Required by pyLDAvis.\n",
    "    term_frequency : int array\n",
    "        An array indicating the overall number of times each token appears\n",
    "        in the corpus. Must be of shape [n_words]. Required by pyLDAvis.\n",
    "    Returns\n",
    "    -------\n",
    "    data : dict\n",
    "        This dictionary is readily consumed by pyLDAVis for topic\n",
    "        visualization.\n",
    "    \"\"\"\n",
    "    # Map each factor vector to a word\n",
    "    topic_to_word = []\n",
    "    msg = \"Vocabulary size did not match size of word vectors\"\n",
    "    assert len(vocab) == word_vectors.shape[0], msg\n",
    "    if normalize:\n",
    "        word_vectors /= np.linalg.norm(word_vectors, axis=1)[:, None]\n",
    "    # factors = factors / np.linalg.norm(factors, axis=1)[:, None]\n",
    "    for factor_vector in factors:\n",
    "        factor_to_word = prob_words(factor_vector, word_vectors,\n",
    "                                    temperature=temperature)\n",
    "        topic_to_word.append(np.ravel(factor_to_word))\n",
    "    topic_to_word = np.array(topic_to_word)\n",
    "    msg = \"Not all rows in topic_to_word sum to 1\"\n",
    "    assert np.allclose(np.sum(topic_to_word, axis=1), 1), msg\n",
    "    # Collect document-to-topic distributions, e.g. theta\n",
    "    doc_to_topic = _softmax_2d(weights)\n",
    "    msg = \"Not all rows in doc_to_topic sum to 1\"\n",
    "    assert np.allclose(np.sum(doc_to_topic, axis=1), 1), msg\n",
    "    data = {'topic_term_dists': topic_to_word,\n",
    "            'doc_topic_dists': doc_to_topic,\n",
    "            'doc_lengths': doc_lengths,\n",
    "            'vocab': vocab,\n",
    "            'term_frequency': term_frequency}\n",
    "    return data"
   ]
  },
  {
   "cell_type": "code",
   "execution_count": 42,
   "metadata": {},
   "outputs": [],
   "source": [
    "def prob_words(context, vocab, temperature=1.0):\n",
    "    \"\"\" This calculates a softmax over the vocabulary as a function\n",
    "    of the dot product of context and word.\n",
    "    \"\"\"\n",
    "    dot = np.dot(vocab, context)\n",
    "    prob = _softmax(dot / temperature)\n",
    "    return prob"
   ]
  },
  {
   "cell_type": "code",
   "execution_count": 43,
   "metadata": {},
   "outputs": [],
   "source": [
    "def _softmax(x):\n",
    "    e_x = np.exp(x - np.max(x))\n",
    "    out = e_x / e_x.sum()\n",
    "    return out"
   ]
  },
  {
   "cell_type": "code",
   "execution_count": 44,
   "metadata": {},
   "outputs": [],
   "source": [
    "def _softmax_2d(x):\n",
    "    y = x - x.max(axis=1, keepdims=True)\n",
    "    np.exp(y, out=y)\n",
    "    y /= y.sum(axis=1, keepdims=True)\n",
    "    return y"
   ]
  },
  {
   "cell_type": "code",
   "execution_count": 47,
   "metadata": {},
   "outputs": [],
   "source": [
    "def generate_pyldavis_data(data_path, model, idx_to_word, freqs, vocab_size):\n",
    "    \"\"\"This method will launch a locally hosted session of\n",
    "    pyLDAvis that will visualize the results of our model\n",
    "    \n",
    "    Parameters\n",
    "    ----------\n",
    "    data_path : str\n",
    "        Location where your data is stored.\n",
    "    model : Lda2Vec\n",
    "        Loaded lda2vec tensorflow model. \n",
    "    idx_to_word : dict\n",
    "        index to word mapping dictionary\n",
    "    freqs list: \n",
    "        Frequencies of each token.\n",
    "    vocab_size : int\n",
    "        Total size of your vocabulary\n",
    "    \"\"\"\n",
    "\n",
    "    doc_embed = model.sesh.run(model.mixture.doc_embedding)\n",
    "    topic_embed = model.sesh.run(model.mixture.topic_embedding)\n",
    "    word_embed = model.sesh.run(model.w_embed.embedding)\n",
    "\n",
    "    # Extract all unique words in order of index 0-vocab_size\n",
    "    vocabulary = []\n",
    "    for k,v in idx_to_word.items():\n",
    "        vocabulary.append(v)\n",
    "\n",
    "    # Read in document lengths\n",
    "    doc_lengths = np.load(data_path + \"/doc_lengths.npy\")\n",
    "\n",
    "    # The prepare_topics function is a direct copy from Chris Moody\n",
    "    vis_data = prepare_topics(doc_embed, topic_embed, word_embed, np.array(vocabulary), doc_lengths=doc_lengths,\n",
    "                              term_frequency=freqs, normalize=True)\n",
    "    \n",
    "    prepared_vis_data = pyLDAvis.prepare(**vis_data)\n",
    "    \n",
    "    print(\"saving html file ...\")\n",
    "    filename = './pyLDAvis.html'\n",
    "    pyLDAvis.save_html(prepared_vis_data, filename)\n",
    "    \n",
    "    pyLDAvis.enable_notebook()\n",
    "    pyLDAvis.display(prepared_vis_data)\n",
    "    \n",
    "    print(\"saving pkl file ...\")\n",
    "    pickle.dump(prepared_vis_data, open('./data/prepared_vis_data.pkl','wb'))"
   ]
  },
  {
   "cell_type": "code",
   "execution_count": 48,
   "metadata": {},
   "outputs": [
    {
     "name": "stdout",
     "output_type": "stream",
     "text": [
      "saving html file ...\n",
      "saving pkl file ...\n"
     ]
    }
   ],
   "source": [
    "generate_pyldavis_data(data_path, m, idx_to_word, freqs, vocab_size)"
   ]
  },
  {
   "cell_type": "markdown",
   "metadata": {},
   "source": [
    "If the code above did not show the result, run the following two cells to save and load prepared_vis_data."
   ]
  },
  {
   "cell_type": "code",
   "execution_count": 49,
   "metadata": {},
   "outputs": [],
   "source": [
    "load_prepared_vis_data = pickle.load(open('./data/prepared_vis_data.pkl','rb'))"
   ]
  },
  {
   "cell_type": "code",
   "execution_count": 52,
   "metadata": {},
   "outputs": [
    {
     "name": "stdout",
     "output_type": "stream",
     "text": [
      "\n",
      "Note: if you're in the IPython notebook, pyLDAvis.show() is not the best command\n",
      "      to use. Consider using pyLDAvis.display(), or pyLDAvis.enable_notebook().\n",
      "      See more information at http://pyLDAvis.github.io/quickstart.html .\n",
      "\n",
      "You must interrupt the kernel to end this command\n",
      "\n",
      "Serving to http://127.0.0.1:8889/    [Ctrl-C to exit]\n"
     ]
    },
    {
     "name": "stderr",
     "output_type": "stream",
     "text": [
      "127.0.0.1 - - [24/Apr/2024 17:57:03] \"GET / HTTP/1.1\" 200 -\n",
      "127.0.0.1 - - [24/Apr/2024 17:57:03] \"GET /LDAvis.css HTTP/1.1\" 200 -\n",
      "127.0.0.1 - - [24/Apr/2024 17:57:03] \"GET /d3.js HTTP/1.1\" 200 -\n",
      "127.0.0.1 - - [24/Apr/2024 17:57:03] \"GET /LDAvis.js HTTP/1.1\" 200 -\n"
     ]
    },
    {
     "name": "stdout",
     "output_type": "stream",
     "text": [
      "\n",
      "stopping Server...\n"
     ]
    }
   ],
   "source": [
    "pyLDAvis.show(load_prepared_vis_data)"
   ]
  },
  {
   "cell_type": "code",
   "execution_count": 54,
   "metadata": {},
   "outputs": [
    {
     "data": {
      "text/html": [],
      "text/plain": [
       "<IPython.core.display.HTML object>"
      ]
     },
     "metadata": {},
     "output_type": "display_data"
    }
   ],
   "source": [
    "from IPython.core.display import HTML\n",
    "import pyLDAvis\n",
    "pyLDAvis.enable_notebook()\n",
    "\n",
    "# an HTML with interactive diagrams will pop up\n",
    "display(HTML(filename='./pyLDAvis.html'))"
   ]
  },
  {
   "cell_type": "markdown",
   "metadata": {},
   "source": [
    "# Keep Visualising the Result"
   ]
  },
  {
   "cell_type": "code",
   "execution_count": 55,
   "metadata": {},
   "outputs": [
    {
     "data": {
      "text/plain": [
       "(array([[0.9999996 , 0.16633874, 0.14947051, 0.14891203, 0.14842635],\n",
       "        [1.0000004 , 0.8853336 , 0.8842987 , 0.8782861 , 0.86951154],\n",
       "        [0.9999999 , 0.8842987 , 0.88042724, 0.86778814, 0.86717993],\n",
       "        [0.99999976, 0.88042724, 0.8782861 , 0.8646811 , 0.857196  ],\n",
       "        [1.0000004 , 0.8853336 , 0.86717993, 0.8646811 , 0.8564562 ],\n",
       "        [1.0000001 , 0.86951154, 0.86778814, 0.857196  , 0.8564562 ],\n",
       "        [0.9999999 , 0.84695935, 0.84412473, 0.84231424, 0.8421872 ],\n",
       "        [0.9999998 , 0.84666413, 0.84485644, 0.83657974, 0.83146125],\n",
       "        [0.99999964, 0.84168446, 0.8397364 , 0.82277   , 0.82271326],\n",
       "        [1.0000004 , 0.84368885, 0.8377839 , 0.83583   , 0.8289707 ]],\n",
       "       dtype=float32), array([[   0, 1516, 2625, 1761, 3990],\n",
       "        [   1,    4,    2,    3,    5],\n",
       "        [   2,    1,    3,    5,    4],\n",
       "        [   3,    2,    1,    4,    5],\n",
       "        [   4,    1,    2,    3,    5],\n",
       "        [   5,    1,    2,    3,    4],\n",
       "        [   6,    3,    1,    2,    5],\n",
       "        [   7,    1,    2,    3,    5],\n",
       "        [   8,    1,    2,    4,    5],\n",
       "        [   9,    1,    4,    5,    3]], dtype=int32))"
      ]
     },
     "execution_count": 55,
     "metadata": {},
     "output_type": "execute_result"
    }
   ],
   "source": [
    "m.get_k_closest(idxs=np.arange(num_topics), in_type='word', vs_type='word', k=5, idx_to_word=None, verbose=False)"
   ]
  },
  {
   "cell_type": "code",
   "execution_count": null,
   "metadata": {},
   "outputs": [],
   "source": []
  }
 ],
 "metadata": {
  "kernelspec": {
   "display_name": "Python (lda2vec)",
   "language": "python",
   "name": "lda2vec_test"
  },
  "language_info": {
   "codemirror_mode": {
    "name": "ipython",
    "version": 3
   },
   "file_extension": ".py",
   "mimetype": "text/x-python",
   "name": "python",
   "nbconvert_exporter": "python",
   "pygments_lexer": "ipython3",
   "version": "3.6.8"
  }
 },
 "nbformat": 4,
 "nbformat_minor": 2
}
